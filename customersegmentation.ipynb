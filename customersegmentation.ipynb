{
 "cells": [
  {
   "cell_type": "code",
   "execution_count": 1,
   "id": "d59295c4",
   "metadata": {
    "_cell_guid": "b1076dfc-b9ad-4769-8c92-a6c4dae69d19",
    "_uuid": "8f2839f25d086af736a60e9eeb907d3b93b6e0e5",
    "execution": {
     "iopub.execute_input": "2021-09-27T06:35:38.115049Z",
     "iopub.status.busy": "2021-09-27T06:35:38.113482Z",
     "iopub.status.idle": "2021-09-27T06:35:39.717923Z",
     "shell.execute_reply": "2021-09-27T06:35:39.717175Z",
     "shell.execute_reply.started": "2021-09-27T06:35:06.530912Z"
    },
    "papermill": {
     "duration": 1.641926,
     "end_time": "2021-09-27T06:35:39.718116",
     "exception": false,
     "start_time": "2021-09-27T06:35:38.076190",
     "status": "completed"
    },
    "tags": []
   },
   "outputs": [
    {
     "name": "stdout",
     "output_type": "stream",
     "text": [
      "/kaggle/input/customer-personality-analysis/marketing_campaign.csv\n"
     ]
    }
   ],
   "source": [
    "# This Python 3 environment comes with many helpful analytics libraries installed\n",
    "# It is defined by the kaggle/python Docker image: https://github.com/kaggle/docker-python\n",
    "# For example, here's several helpful packages to load\n",
    "\n",
    "import numpy as np # linear algebra\n",
    "import pandas as pd # data processing, CSV file I/O (e.g. pd.read_csv)\n",
    "\n",
    "# Input data files are available in the read-only \"../input/\" directory\n",
    "# For example, running this (by clicking run or pressing Shift+Enter) will list all files under the input directory\n",
    "\n",
    "import os\n",
    "for dirname, _, filenames in os.walk('/kaggle/input'):\n",
    "    for filename in filenames:\n",
    "        print(os.path.join(dirname, filename))\n",
    "\n",
    "# You can write up to 20GB to the current directory (/kaggle/working/) that gets preserved as output when you create a version using \"Save & Run All\" \n",
    "# You can also write temporary files to /kaggle/temp/, but they won't be saved outside of the current session\n",
    "import plotly.express as px\n",
    "import plotly.graph_objects as go\n"
   ]
  },
  {
   "cell_type": "code",
   "execution_count": 2,
   "id": "9a5f6b11",
   "metadata": {
    "execution": {
     "iopub.execute_input": "2021-09-27T06:35:39.793401Z",
     "iopub.status.busy": "2021-09-27T06:35:39.792658Z",
     "iopub.status.idle": "2021-09-27T06:35:39.822630Z",
     "shell.execute_reply": "2021-09-27T06:35:39.823115Z",
     "shell.execute_reply.started": "2021-09-27T06:35:07.435518Z"
    },
    "papermill": {
     "duration": 0.066386,
     "end_time": "2021-09-27T06:35:39.823301",
     "exception": false,
     "start_time": "2021-09-27T06:35:39.756915",
     "status": "completed"
    },
    "tags": []
   },
   "outputs": [],
   "source": [
    "df = pd.read_csv('../input/customer-personality-analysis/marketing_campaign.csv', delimiter = '\\t')"
   ]
  },
  {
   "cell_type": "code",
   "execution_count": 3,
   "id": "77eca047",
   "metadata": {
    "execution": {
     "iopub.execute_input": "2021-09-27T06:35:39.880568Z",
     "iopub.status.busy": "2021-09-27T06:35:39.879839Z",
     "iopub.status.idle": "2021-09-27T06:35:39.911402Z",
     "shell.execute_reply": "2021-09-27T06:35:39.910860Z",
     "shell.execute_reply.started": "2021-09-27T06:35:07.459968Z"
    },
    "papermill": {
     "duration": 0.061553,
     "end_time": "2021-09-27T06:35:39.911570",
     "exception": false,
     "start_time": "2021-09-27T06:35:39.850017",
     "status": "completed"
    },
    "tags": []
   },
   "outputs": [
    {
     "data": {
      "text/html": [
       "<div>\n",
       "<style scoped>\n",
       "    .dataframe tbody tr th:only-of-type {\n",
       "        vertical-align: middle;\n",
       "    }\n",
       "\n",
       "    .dataframe tbody tr th {\n",
       "        vertical-align: top;\n",
       "    }\n",
       "\n",
       "    .dataframe thead th {\n",
       "        text-align: right;\n",
       "    }\n",
       "</style>\n",
       "<table border=\"1\" class=\"dataframe\">\n",
       "  <thead>\n",
       "    <tr style=\"text-align: right;\">\n",
       "      <th></th>\n",
       "      <th>ID</th>\n",
       "      <th>Year_Birth</th>\n",
       "      <th>Education</th>\n",
       "      <th>Marital_Status</th>\n",
       "      <th>Income</th>\n",
       "      <th>Kidhome</th>\n",
       "      <th>Teenhome</th>\n",
       "      <th>Dt_Customer</th>\n",
       "      <th>Recency</th>\n",
       "      <th>MntWines</th>\n",
       "      <th>...</th>\n",
       "      <th>NumWebVisitsMonth</th>\n",
       "      <th>AcceptedCmp3</th>\n",
       "      <th>AcceptedCmp4</th>\n",
       "      <th>AcceptedCmp5</th>\n",
       "      <th>AcceptedCmp1</th>\n",
       "      <th>AcceptedCmp2</th>\n",
       "      <th>Complain</th>\n",
       "      <th>Z_CostContact</th>\n",
       "      <th>Z_Revenue</th>\n",
       "      <th>Response</th>\n",
       "    </tr>\n",
       "  </thead>\n",
       "  <tbody>\n",
       "    <tr>\n",
       "      <th>0</th>\n",
       "      <td>5524</td>\n",
       "      <td>1957</td>\n",
       "      <td>Graduation</td>\n",
       "      <td>Single</td>\n",
       "      <td>58138.0</td>\n",
       "      <td>0</td>\n",
       "      <td>0</td>\n",
       "      <td>04-09-2012</td>\n",
       "      <td>58</td>\n",
       "      <td>635</td>\n",
       "      <td>...</td>\n",
       "      <td>7</td>\n",
       "      <td>0</td>\n",
       "      <td>0</td>\n",
       "      <td>0</td>\n",
       "      <td>0</td>\n",
       "      <td>0</td>\n",
       "      <td>0</td>\n",
       "      <td>3</td>\n",
       "      <td>11</td>\n",
       "      <td>1</td>\n",
       "    </tr>\n",
       "    <tr>\n",
       "      <th>1</th>\n",
       "      <td>2174</td>\n",
       "      <td>1954</td>\n",
       "      <td>Graduation</td>\n",
       "      <td>Single</td>\n",
       "      <td>46344.0</td>\n",
       "      <td>1</td>\n",
       "      <td>1</td>\n",
       "      <td>08-03-2014</td>\n",
       "      <td>38</td>\n",
       "      <td>11</td>\n",
       "      <td>...</td>\n",
       "      <td>5</td>\n",
       "      <td>0</td>\n",
       "      <td>0</td>\n",
       "      <td>0</td>\n",
       "      <td>0</td>\n",
       "      <td>0</td>\n",
       "      <td>0</td>\n",
       "      <td>3</td>\n",
       "      <td>11</td>\n",
       "      <td>0</td>\n",
       "    </tr>\n",
       "    <tr>\n",
       "      <th>2</th>\n",
       "      <td>4141</td>\n",
       "      <td>1965</td>\n",
       "      <td>Graduation</td>\n",
       "      <td>Together</td>\n",
       "      <td>71613.0</td>\n",
       "      <td>0</td>\n",
       "      <td>0</td>\n",
       "      <td>21-08-2013</td>\n",
       "      <td>26</td>\n",
       "      <td>426</td>\n",
       "      <td>...</td>\n",
       "      <td>4</td>\n",
       "      <td>0</td>\n",
       "      <td>0</td>\n",
       "      <td>0</td>\n",
       "      <td>0</td>\n",
       "      <td>0</td>\n",
       "      <td>0</td>\n",
       "      <td>3</td>\n",
       "      <td>11</td>\n",
       "      <td>0</td>\n",
       "    </tr>\n",
       "    <tr>\n",
       "      <th>3</th>\n",
       "      <td>6182</td>\n",
       "      <td>1984</td>\n",
       "      <td>Graduation</td>\n",
       "      <td>Together</td>\n",
       "      <td>26646.0</td>\n",
       "      <td>1</td>\n",
       "      <td>0</td>\n",
       "      <td>10-02-2014</td>\n",
       "      <td>26</td>\n",
       "      <td>11</td>\n",
       "      <td>...</td>\n",
       "      <td>6</td>\n",
       "      <td>0</td>\n",
       "      <td>0</td>\n",
       "      <td>0</td>\n",
       "      <td>0</td>\n",
       "      <td>0</td>\n",
       "      <td>0</td>\n",
       "      <td>3</td>\n",
       "      <td>11</td>\n",
       "      <td>0</td>\n",
       "    </tr>\n",
       "    <tr>\n",
       "      <th>4</th>\n",
       "      <td>5324</td>\n",
       "      <td>1981</td>\n",
       "      <td>PhD</td>\n",
       "      <td>Married</td>\n",
       "      <td>58293.0</td>\n",
       "      <td>1</td>\n",
       "      <td>0</td>\n",
       "      <td>19-01-2014</td>\n",
       "      <td>94</td>\n",
       "      <td>173</td>\n",
       "      <td>...</td>\n",
       "      <td>5</td>\n",
       "      <td>0</td>\n",
       "      <td>0</td>\n",
       "      <td>0</td>\n",
       "      <td>0</td>\n",
       "      <td>0</td>\n",
       "      <td>0</td>\n",
       "      <td>3</td>\n",
       "      <td>11</td>\n",
       "      <td>0</td>\n",
       "    </tr>\n",
       "  </tbody>\n",
       "</table>\n",
       "<p>5 rows × 29 columns</p>\n",
       "</div>"
      ],
      "text/plain": [
       "     ID  Year_Birth   Education Marital_Status   Income  Kidhome  Teenhome  \\\n",
       "0  5524        1957  Graduation         Single  58138.0        0         0   \n",
       "1  2174        1954  Graduation         Single  46344.0        1         1   \n",
       "2  4141        1965  Graduation       Together  71613.0        0         0   \n",
       "3  6182        1984  Graduation       Together  26646.0        1         0   \n",
       "4  5324        1981         PhD        Married  58293.0        1         0   \n",
       "\n",
       "  Dt_Customer  Recency  MntWines  ...  NumWebVisitsMonth  AcceptedCmp3  \\\n",
       "0  04-09-2012       58       635  ...                  7             0   \n",
       "1  08-03-2014       38        11  ...                  5             0   \n",
       "2  21-08-2013       26       426  ...                  4             0   \n",
       "3  10-02-2014       26        11  ...                  6             0   \n",
       "4  19-01-2014       94       173  ...                  5             0   \n",
       "\n",
       "   AcceptedCmp4  AcceptedCmp5  AcceptedCmp1  AcceptedCmp2  Complain  \\\n",
       "0             0             0             0             0         0   \n",
       "1             0             0             0             0         0   \n",
       "2             0             0             0             0         0   \n",
       "3             0             0             0             0         0   \n",
       "4             0             0             0             0         0   \n",
       "\n",
       "   Z_CostContact  Z_Revenue  Response  \n",
       "0              3         11         1  \n",
       "1              3         11         0  \n",
       "2              3         11         0  \n",
       "3              3         11         0  \n",
       "4              3         11         0  \n",
       "\n",
       "[5 rows x 29 columns]"
      ]
     },
     "execution_count": 3,
     "metadata": {},
     "output_type": "execute_result"
    }
   ],
   "source": [
    "df.head()"
   ]
  },
  {
   "cell_type": "code",
   "execution_count": 4,
   "id": "64cd6853",
   "metadata": {
    "execution": {
     "iopub.execute_input": "2021-09-27T06:35:39.978761Z",
     "iopub.status.busy": "2021-09-27T06:35:39.978048Z",
     "iopub.status.idle": "2021-09-27T06:35:40.055010Z",
     "shell.execute_reply": "2021-09-27T06:35:40.054500Z",
     "shell.execute_reply.started": "2021-09-27T06:35:07.490876Z"
    },
    "papermill": {
     "duration": 0.116759,
     "end_time": "2021-09-27T06:35:40.055151",
     "exception": false,
     "start_time": "2021-09-27T06:35:39.938392",
     "status": "completed"
    },
    "tags": []
   },
   "outputs": [
    {
     "data": {
      "text/html": [
       "<div>\n",
       "<style scoped>\n",
       "    .dataframe tbody tr th:only-of-type {\n",
       "        vertical-align: middle;\n",
       "    }\n",
       "\n",
       "    .dataframe tbody tr th {\n",
       "        vertical-align: top;\n",
       "    }\n",
       "\n",
       "    .dataframe thead th {\n",
       "        text-align: right;\n",
       "    }\n",
       "</style>\n",
       "<table border=\"1\" class=\"dataframe\">\n",
       "  <thead>\n",
       "    <tr style=\"text-align: right;\">\n",
       "      <th></th>\n",
       "      <th>ID</th>\n",
       "      <th>Year_Birth</th>\n",
       "      <th>Income</th>\n",
       "      <th>Kidhome</th>\n",
       "      <th>Teenhome</th>\n",
       "      <th>Recency</th>\n",
       "      <th>MntWines</th>\n",
       "      <th>MntFruits</th>\n",
       "      <th>MntMeatProducts</th>\n",
       "      <th>MntFishProducts</th>\n",
       "      <th>...</th>\n",
       "      <th>NumWebVisitsMonth</th>\n",
       "      <th>AcceptedCmp3</th>\n",
       "      <th>AcceptedCmp4</th>\n",
       "      <th>AcceptedCmp5</th>\n",
       "      <th>AcceptedCmp1</th>\n",
       "      <th>AcceptedCmp2</th>\n",
       "      <th>Complain</th>\n",
       "      <th>Z_CostContact</th>\n",
       "      <th>Z_Revenue</th>\n",
       "      <th>Response</th>\n",
       "    </tr>\n",
       "  </thead>\n",
       "  <tbody>\n",
       "    <tr>\n",
       "      <th>count</th>\n",
       "      <td>2240.000000</td>\n",
       "      <td>2240.000000</td>\n",
       "      <td>2216.000000</td>\n",
       "      <td>2240.000000</td>\n",
       "      <td>2240.000000</td>\n",
       "      <td>2240.000000</td>\n",
       "      <td>2240.000000</td>\n",
       "      <td>2240.000000</td>\n",
       "      <td>2240.000000</td>\n",
       "      <td>2240.000000</td>\n",
       "      <td>...</td>\n",
       "      <td>2240.000000</td>\n",
       "      <td>2240.000000</td>\n",
       "      <td>2240.000000</td>\n",
       "      <td>2240.000000</td>\n",
       "      <td>2240.000000</td>\n",
       "      <td>2240.000000</td>\n",
       "      <td>2240.000000</td>\n",
       "      <td>2240.0</td>\n",
       "      <td>2240.0</td>\n",
       "      <td>2240.000000</td>\n",
       "    </tr>\n",
       "    <tr>\n",
       "      <th>mean</th>\n",
       "      <td>5592.159821</td>\n",
       "      <td>1968.805804</td>\n",
       "      <td>52247.251354</td>\n",
       "      <td>0.444196</td>\n",
       "      <td>0.506250</td>\n",
       "      <td>49.109375</td>\n",
       "      <td>303.935714</td>\n",
       "      <td>26.302232</td>\n",
       "      <td>166.950000</td>\n",
       "      <td>37.525446</td>\n",
       "      <td>...</td>\n",
       "      <td>5.316518</td>\n",
       "      <td>0.072768</td>\n",
       "      <td>0.074554</td>\n",
       "      <td>0.072768</td>\n",
       "      <td>0.064286</td>\n",
       "      <td>0.013393</td>\n",
       "      <td>0.009375</td>\n",
       "      <td>3.0</td>\n",
       "      <td>11.0</td>\n",
       "      <td>0.149107</td>\n",
       "    </tr>\n",
       "    <tr>\n",
       "      <th>std</th>\n",
       "      <td>3246.662198</td>\n",
       "      <td>11.984069</td>\n",
       "      <td>25173.076661</td>\n",
       "      <td>0.538398</td>\n",
       "      <td>0.544538</td>\n",
       "      <td>28.962453</td>\n",
       "      <td>336.597393</td>\n",
       "      <td>39.773434</td>\n",
       "      <td>225.715373</td>\n",
       "      <td>54.628979</td>\n",
       "      <td>...</td>\n",
       "      <td>2.426645</td>\n",
       "      <td>0.259813</td>\n",
       "      <td>0.262728</td>\n",
       "      <td>0.259813</td>\n",
       "      <td>0.245316</td>\n",
       "      <td>0.114976</td>\n",
       "      <td>0.096391</td>\n",
       "      <td>0.0</td>\n",
       "      <td>0.0</td>\n",
       "      <td>0.356274</td>\n",
       "    </tr>\n",
       "    <tr>\n",
       "      <th>min</th>\n",
       "      <td>0.000000</td>\n",
       "      <td>1893.000000</td>\n",
       "      <td>1730.000000</td>\n",
       "      <td>0.000000</td>\n",
       "      <td>0.000000</td>\n",
       "      <td>0.000000</td>\n",
       "      <td>0.000000</td>\n",
       "      <td>0.000000</td>\n",
       "      <td>0.000000</td>\n",
       "      <td>0.000000</td>\n",
       "      <td>...</td>\n",
       "      <td>0.000000</td>\n",
       "      <td>0.000000</td>\n",
       "      <td>0.000000</td>\n",
       "      <td>0.000000</td>\n",
       "      <td>0.000000</td>\n",
       "      <td>0.000000</td>\n",
       "      <td>0.000000</td>\n",
       "      <td>3.0</td>\n",
       "      <td>11.0</td>\n",
       "      <td>0.000000</td>\n",
       "    </tr>\n",
       "    <tr>\n",
       "      <th>25%</th>\n",
       "      <td>2828.250000</td>\n",
       "      <td>1959.000000</td>\n",
       "      <td>35303.000000</td>\n",
       "      <td>0.000000</td>\n",
       "      <td>0.000000</td>\n",
       "      <td>24.000000</td>\n",
       "      <td>23.750000</td>\n",
       "      <td>1.000000</td>\n",
       "      <td>16.000000</td>\n",
       "      <td>3.000000</td>\n",
       "      <td>...</td>\n",
       "      <td>3.000000</td>\n",
       "      <td>0.000000</td>\n",
       "      <td>0.000000</td>\n",
       "      <td>0.000000</td>\n",
       "      <td>0.000000</td>\n",
       "      <td>0.000000</td>\n",
       "      <td>0.000000</td>\n",
       "      <td>3.0</td>\n",
       "      <td>11.0</td>\n",
       "      <td>0.000000</td>\n",
       "    </tr>\n",
       "    <tr>\n",
       "      <th>50%</th>\n",
       "      <td>5458.500000</td>\n",
       "      <td>1970.000000</td>\n",
       "      <td>51381.500000</td>\n",
       "      <td>0.000000</td>\n",
       "      <td>0.000000</td>\n",
       "      <td>49.000000</td>\n",
       "      <td>173.500000</td>\n",
       "      <td>8.000000</td>\n",
       "      <td>67.000000</td>\n",
       "      <td>12.000000</td>\n",
       "      <td>...</td>\n",
       "      <td>6.000000</td>\n",
       "      <td>0.000000</td>\n",
       "      <td>0.000000</td>\n",
       "      <td>0.000000</td>\n",
       "      <td>0.000000</td>\n",
       "      <td>0.000000</td>\n",
       "      <td>0.000000</td>\n",
       "      <td>3.0</td>\n",
       "      <td>11.0</td>\n",
       "      <td>0.000000</td>\n",
       "    </tr>\n",
       "    <tr>\n",
       "      <th>75%</th>\n",
       "      <td>8427.750000</td>\n",
       "      <td>1977.000000</td>\n",
       "      <td>68522.000000</td>\n",
       "      <td>1.000000</td>\n",
       "      <td>1.000000</td>\n",
       "      <td>74.000000</td>\n",
       "      <td>504.250000</td>\n",
       "      <td>33.000000</td>\n",
       "      <td>232.000000</td>\n",
       "      <td>50.000000</td>\n",
       "      <td>...</td>\n",
       "      <td>7.000000</td>\n",
       "      <td>0.000000</td>\n",
       "      <td>0.000000</td>\n",
       "      <td>0.000000</td>\n",
       "      <td>0.000000</td>\n",
       "      <td>0.000000</td>\n",
       "      <td>0.000000</td>\n",
       "      <td>3.0</td>\n",
       "      <td>11.0</td>\n",
       "      <td>0.000000</td>\n",
       "    </tr>\n",
       "    <tr>\n",
       "      <th>max</th>\n",
       "      <td>11191.000000</td>\n",
       "      <td>1996.000000</td>\n",
       "      <td>666666.000000</td>\n",
       "      <td>2.000000</td>\n",
       "      <td>2.000000</td>\n",
       "      <td>99.000000</td>\n",
       "      <td>1493.000000</td>\n",
       "      <td>199.000000</td>\n",
       "      <td>1725.000000</td>\n",
       "      <td>259.000000</td>\n",
       "      <td>...</td>\n",
       "      <td>20.000000</td>\n",
       "      <td>1.000000</td>\n",
       "      <td>1.000000</td>\n",
       "      <td>1.000000</td>\n",
       "      <td>1.000000</td>\n",
       "      <td>1.000000</td>\n",
       "      <td>1.000000</td>\n",
       "      <td>3.0</td>\n",
       "      <td>11.0</td>\n",
       "      <td>1.000000</td>\n",
       "    </tr>\n",
       "  </tbody>\n",
       "</table>\n",
       "<p>8 rows × 26 columns</p>\n",
       "</div>"
      ],
      "text/plain": [
       "                 ID   Year_Birth         Income      Kidhome     Teenhome  \\\n",
       "count   2240.000000  2240.000000    2216.000000  2240.000000  2240.000000   \n",
       "mean    5592.159821  1968.805804   52247.251354     0.444196     0.506250   \n",
       "std     3246.662198    11.984069   25173.076661     0.538398     0.544538   \n",
       "min        0.000000  1893.000000    1730.000000     0.000000     0.000000   \n",
       "25%     2828.250000  1959.000000   35303.000000     0.000000     0.000000   \n",
       "50%     5458.500000  1970.000000   51381.500000     0.000000     0.000000   \n",
       "75%     8427.750000  1977.000000   68522.000000     1.000000     1.000000   \n",
       "max    11191.000000  1996.000000  666666.000000     2.000000     2.000000   \n",
       "\n",
       "           Recency     MntWines    MntFruits  MntMeatProducts  \\\n",
       "count  2240.000000  2240.000000  2240.000000      2240.000000   \n",
       "mean     49.109375   303.935714    26.302232       166.950000   \n",
       "std      28.962453   336.597393    39.773434       225.715373   \n",
       "min       0.000000     0.000000     0.000000         0.000000   \n",
       "25%      24.000000    23.750000     1.000000        16.000000   \n",
       "50%      49.000000   173.500000     8.000000        67.000000   \n",
       "75%      74.000000   504.250000    33.000000       232.000000   \n",
       "max      99.000000  1493.000000   199.000000      1725.000000   \n",
       "\n",
       "       MntFishProducts  ...  NumWebVisitsMonth  AcceptedCmp3  AcceptedCmp4  \\\n",
       "count      2240.000000  ...        2240.000000   2240.000000   2240.000000   \n",
       "mean         37.525446  ...           5.316518      0.072768      0.074554   \n",
       "std          54.628979  ...           2.426645      0.259813      0.262728   \n",
       "min           0.000000  ...           0.000000      0.000000      0.000000   \n",
       "25%           3.000000  ...           3.000000      0.000000      0.000000   \n",
       "50%          12.000000  ...           6.000000      0.000000      0.000000   \n",
       "75%          50.000000  ...           7.000000      0.000000      0.000000   \n",
       "max         259.000000  ...          20.000000      1.000000      1.000000   \n",
       "\n",
       "       AcceptedCmp5  AcceptedCmp1  AcceptedCmp2     Complain  Z_CostContact  \\\n",
       "count   2240.000000   2240.000000   2240.000000  2240.000000         2240.0   \n",
       "mean       0.072768      0.064286      0.013393     0.009375            3.0   \n",
       "std        0.259813      0.245316      0.114976     0.096391            0.0   \n",
       "min        0.000000      0.000000      0.000000     0.000000            3.0   \n",
       "25%        0.000000      0.000000      0.000000     0.000000            3.0   \n",
       "50%        0.000000      0.000000      0.000000     0.000000            3.0   \n",
       "75%        0.000000      0.000000      0.000000     0.000000            3.0   \n",
       "max        1.000000      1.000000      1.000000     1.000000            3.0   \n",
       "\n",
       "       Z_Revenue     Response  \n",
       "count     2240.0  2240.000000  \n",
       "mean        11.0     0.149107  \n",
       "std          0.0     0.356274  \n",
       "min         11.0     0.000000  \n",
       "25%         11.0     0.000000  \n",
       "50%         11.0     0.000000  \n",
       "75%         11.0     0.000000  \n",
       "max         11.0     1.000000  \n",
       "\n",
       "[8 rows x 26 columns]"
      ]
     },
     "execution_count": 4,
     "metadata": {},
     "output_type": "execute_result"
    }
   ],
   "source": [
    "df.describe()"
   ]
  },
  {
   "cell_type": "code",
   "execution_count": 5,
   "id": "82a9e2c5",
   "metadata": {
    "execution": {
     "iopub.execute_input": "2021-09-27T06:35:40.117903Z",
     "iopub.status.busy": "2021-09-27T06:35:40.117036Z",
     "iopub.status.idle": "2021-09-27T06:35:40.419393Z",
     "shell.execute_reply": "2021-09-27T06:35:40.420206Z",
     "shell.execute_reply.started": "2021-09-27T06:35:07.569717Z"
    },
    "papermill": {
     "duration": 0.336445,
     "end_time": "2021-09-27T06:35:40.420442",
     "exception": false,
     "start_time": "2021-09-27T06:35:40.083997",
     "status": "completed"
    },
    "tags": []
   },
   "outputs": [
    {
     "data": {
      "text/plain": [
       "<AxesSubplot:>"
      ]
     },
     "execution_count": 5,
     "metadata": {},
     "output_type": "execute_result"
    },
    {
     "data": {
      "image/png": "[encoded data removed]",
      "text/plain": [
       "<Figure size 432x288 with 1 Axes>"
      ]
     },
     "metadata": {
      "needs_background": "light"
     },
     "output_type": "display_data"
    }
   ],
   "source": [
    "df['Year_Birth'].hist()"
   ]
  },
  {
   "cell_type": "code",
   "execution_count": 6,
   "id": "2193bb9a",
   "metadata": {
    "execution": {
     "iopub.execute_input": "2021-09-27T06:35:40.492804Z",
     "iopub.status.busy": "2021-09-27T06:35:40.491774Z",
     "iopub.status.idle": "2021-09-27T06:35:40.500776Z",
     "shell.execute_reply": "2021-09-27T06:35:40.501358Z",
     "shell.execute_reply.started": "2021-09-27T06:35:07.839316Z"
    },
    "papermill": {
     "duration": 0.043071,
     "end_time": "2021-09-27T06:35:40.501633",
     "exception": false,
     "start_time": "2021-09-27T06:35:40.458562",
     "status": "completed"
    },
    "tags": []
   },
   "outputs": [
    {
     "name": "stdout",
     "output_type": "stream",
     "text": [
      "Income    24\n",
      "dtype: int64\n"
     ]
    }
   ],
   "source": [
    "def isNull(df):\n",
    "    col = (df.isnull().sum())\n",
    "    col = col[col > 0]\n",
    "    print(col)\n",
    "\n",
    "isNull(df)"
   ]
  },
  {
   "cell_type": "code",
   "execution_count": 7,
   "id": "22612e10",
   "metadata": {
    "execution": {
     "iopub.execute_input": "2021-09-27T06:35:40.576970Z",
     "iopub.status.busy": "2021-09-27T06:35:40.575973Z",
     "iopub.status.idle": "2021-09-27T06:35:40.581795Z",
     "shell.execute_reply": "2021-09-27T06:35:40.582342Z",
     "shell.execute_reply.started": "2021-09-27T06:35:07.851298Z"
    },
    "papermill": {
     "duration": 0.044926,
     "end_time": "2021-09-27T06:35:40.582535",
     "exception": false,
     "start_time": "2021-09-27T06:35:40.537609",
     "status": "completed"
    },
    "tags": []
   },
   "outputs": [],
   "source": [
    "df['Income'] = df['Income'].fillna(df.Income.mean())"
   ]
  },
  {
   "cell_type": "code",
   "execution_count": 8,
   "id": "f865f802",
   "metadata": {
    "execution": {
     "iopub.execute_input": "2021-09-27T06:35:40.651516Z",
     "iopub.status.busy": "2021-09-27T06:35:40.650426Z",
     "iopub.status.idle": "2021-09-27T06:35:40.654580Z",
     "shell.execute_reply": "2021-09-27T06:35:40.655050Z",
     "shell.execute_reply.started": "2021-09-27T06:35:07.867907Z"
    },
    "papermill": {
     "duration": 0.041347,
     "end_time": "2021-09-27T06:35:40.655225",
     "exception": false,
     "start_time": "2021-09-27T06:35:40.613878",
     "status": "completed"
    },
    "tags": []
   },
   "outputs": [
    {
     "name": "stdout",
     "output_type": "stream",
     "text": [
      "Series([], dtype: int64)\n"
     ]
    }
   ],
   "source": [
    "isNull(df)"
   ]
  },
  {
   "cell_type": "code",
   "execution_count": 9,
   "id": "b2a79885",
   "metadata": {
    "execution": {
     "iopub.execute_input": "2021-09-27T06:35:40.723090Z",
     "iopub.status.busy": "2021-09-27T06:35:40.722131Z",
     "iopub.status.idle": "2021-09-27T06:35:40.725524Z",
     "shell.execute_reply": "2021-09-27T06:35:40.726072Z",
     "shell.execute_reply.started": "2021-09-27T06:35:07.885189Z"
    },
    "papermill": {
     "duration": 0.041206,
     "end_time": "2021-09-27T06:35:40.726248",
     "exception": false,
     "start_time": "2021-09-27T06:35:40.685042",
     "status": "completed"
    },
    "tags": []
   },
   "outputs": [
    {
     "data": {
      "text/plain": [
       "Index(['ID', 'Year_Birth', 'Education', 'Marital_Status', 'Income', 'Kidhome',\n",
       "       'Teenhome', 'Dt_Customer', 'Recency', 'MntWines', 'MntFruits',\n",
       "       'MntMeatProducts', 'MntFishProducts', 'MntSweetProducts',\n",
       "       'MntGoldProds', 'NumDealsPurchases', 'NumWebPurchases',\n",
       "       'NumCatalogPurchases', 'NumStorePurchases', 'NumWebVisitsMonth',\n",
       "       'AcceptedCmp3', 'AcceptedCmp4', 'AcceptedCmp5', 'AcceptedCmp1',\n",
       "       'AcceptedCmp2', 'Complain', 'Z_CostContact', 'Z_Revenue', 'Response'],\n",
       "      dtype='object')"
      ]
     },
     "execution_count": 9,
     "metadata": {},
     "output_type": "execute_result"
    }
   ],
   "source": [
    "df.columns"
   ]
  },
  {
   "cell_type": "code",
   "execution_count": 10,
   "id": "9893feaf",
   "metadata": {
    "execution": {
     "iopub.execute_input": "2021-09-27T06:35:40.789240Z",
     "iopub.status.busy": "2021-09-27T06:35:40.788197Z",
     "iopub.status.idle": "2021-09-27T06:35:40.796229Z",
     "shell.execute_reply": "2021-09-27T06:35:40.796773Z",
     "shell.execute_reply.started": "2021-09-27T06:35:07.899263Z"
    },
    "papermill": {
     "duration": 0.041222,
     "end_time": "2021-09-27T06:35:40.796957",
     "exception": false,
     "start_time": "2021-09-27T06:35:40.755735",
     "status": "completed"
    },
    "tags": []
   },
   "outputs": [
    {
     "name": "stderr",
     "output_type": "stream",
     "text": [
      "/opt/conda/lib/python3.7/site-packages/ipykernel_launcher.py:2: FutureWarning: The pandas.datetime class is deprecated and will be removed from pandas in a future version. Import from datetime module instead.\n",
      "  \n"
     ]
    }
   ],
   "source": [
    "df['Children'] = df['Kidhome'] + df['Teenhome']\n",
    "df['Age'] = pd.datetime.now().year - df['Year_Birth']\n"
   ]
  },
  {
   "cell_type": "code",
   "execution_count": 11,
   "id": "9977871b",
   "metadata": {
    "execution": {
     "iopub.execute_input": "2021-09-27T06:35:40.862072Z",
     "iopub.status.busy": "2021-09-27T06:35:40.860665Z",
     "iopub.status.idle": "2021-09-27T06:35:40.866196Z",
     "shell.execute_reply": "2021-09-27T06:35:40.866734Z",
     "shell.execute_reply.started": "2021-09-27T06:35:07.916521Z"
    },
    "papermill": {
     "duration": 0.040059,
     "end_time": "2021-09-27T06:35:40.866908",
     "exception": false,
     "start_time": "2021-09-27T06:35:40.826849",
     "status": "completed"
    },
    "tags": []
   },
   "outputs": [
    {
     "data": {
      "text/plain": [
       "array(['Single', 'Together', 'Married', 'Divorced', 'Widow', 'Alone',\n",
       "       'Absurd', 'YOLO'], dtype=object)"
      ]
     },
     "execution_count": 11,
     "metadata": {},
     "output_type": "execute_result"
    }
   ],
   "source": [
    "df.Marital_Status.unique()"
   ]
  },
  {
   "cell_type": "code",
   "execution_count": 12,
   "id": "d6237365",
   "metadata": {
    "execution": {
     "iopub.execute_input": "2021-09-27T06:35:40.935510Z",
     "iopub.status.busy": "2021-09-27T06:35:40.934437Z",
     "iopub.status.idle": "2021-09-27T06:35:41.631018Z",
     "shell.execute_reply": "2021-09-27T06:35:41.631531Z",
     "shell.execute_reply.started": "2021-09-27T06:35:07.933892Z"
    },
    "papermill": {
     "duration": 0.734631,
     "end_time": "2021-09-27T06:35:41.631727",
     "exception": false,
     "start_time": "2021-09-27T06:35:40.897096",
     "status": "completed"
    },
    "tags": []
   },
   "outputs": [
    {
     "name": "stderr",
     "output_type": "stream",
     "text": [
      "/opt/conda/lib/python3.7/site-packages/ipykernel_launcher.py:4: SettingWithCopyWarning: \n",
      "A value is trying to be set on a copy of a slice from a DataFrame\n",
      "\n",
      "See the caveats in the documentation: https://pandas.pydata.org/pandas-docs/stable/user_guide/indexing.html#returning-a-view-versus-a-copy\n",
      "  after removing the cwd from sys.path.\n"
     ]
    }
   ],
   "source": [
    "df['Family_Size'] = None\n",
    "# df.drop(['Kidhome','Teenhome','Year_Birth'], axis = 1)\n",
    "for i in range(len(df)):\n",
    "    df['Family_Size'][i] = df['Children'][i] + (1 if (df['Marital_Status'][i] in ['Single', 'Divorced', 'Widow', 'Alone','Absurd', 'YOLO']) else 2)"
   ]
  },
  {
   "cell_type": "code",
   "execution_count": 13,
   "id": "4df302aa",
   "metadata": {
    "execution": {
     "iopub.execute_input": "2021-09-27T06:35:41.699941Z",
     "iopub.status.busy": "2021-09-27T06:35:41.698881Z",
     "iopub.status.idle": "2021-09-27T06:35:41.705759Z",
     "shell.execute_reply": "2021-09-27T06:35:41.706234Z",
     "shell.execute_reply.started": "2021-09-27T06:35:08.809090Z"
    },
    "papermill": {
     "duration": 0.041302,
     "end_time": "2021-09-27T06:35:41.706416",
     "exception": false,
     "start_time": "2021-09-27T06:35:41.665114",
     "status": "completed"
    },
    "tags": []
   },
   "outputs": [],
   "source": [
    "amount_cols = ['MntWines', 'MntFruits',\n",
    "       'MntMeatProducts', 'MntFishProducts', 'MntSweetProducts',\n",
    "       'MntGoldProds']\n",
    "\n",
    "df['Total_Spent'] = sum(df[col] for col in amount_cols)"
   ]
  },
  {
   "cell_type": "code",
   "execution_count": 14,
   "id": "c9bc0c8c",
   "metadata": {
    "execution": {
     "iopub.execute_input": "2021-09-27T06:35:41.771834Z",
     "iopub.status.busy": "2021-09-27T06:35:41.770810Z",
     "iopub.status.idle": "2021-09-27T06:35:41.777292Z",
     "shell.execute_reply": "2021-09-27T06:35:41.777778Z",
     "shell.execute_reply.started": "2021-09-27T06:35:08.819659Z"
    },
    "papermill": {
     "duration": 0.040811,
     "end_time": "2021-09-27T06:35:41.777959",
     "exception": false,
     "start_time": "2021-09-27T06:35:41.737148",
     "status": "completed"
    },
    "tags": []
   },
   "outputs": [],
   "source": [
    "quantity_cols = ['NumDealsPurchases', 'NumWebPurchases',\n",
    "       'NumCatalogPurchases', 'NumStorePurchases']\n",
    "\n",
    "df['Total_Quantity'] = sum(df[col] for col in quantity_cols)\n"
   ]
  },
  {
   "cell_type": "code",
   "execution_count": 15,
   "id": "28e61110",
   "metadata": {
    "execution": {
     "iopub.execute_input": "2021-09-27T06:35:41.846070Z",
     "iopub.status.busy": "2021-09-27T06:35:41.845307Z",
     "iopub.status.idle": "2021-09-27T06:35:41.850149Z",
     "shell.execute_reply": "2021-09-27T06:35:41.849499Z",
     "shell.execute_reply.started": "2021-09-27T06:35:08.832264Z"
    },
    "papermill": {
     "duration": 0.041164,
     "end_time": "2021-09-27T06:35:41.850292",
     "exception": false,
     "start_time": "2021-09-27T06:35:41.809128",
     "status": "completed"
    },
    "tags": []
   },
   "outputs": [],
   "source": [
    "df = df.drop([*amount_cols, *quantity_cols, 'Year_Birth', 'Kidhome','Teenhome'], axis = 1)"
   ]
  },
  {
   "cell_type": "code",
   "execution_count": 16,
   "id": "dce904be",
   "metadata": {
    "execution": {
     "iopub.execute_input": "2021-09-27T06:35:41.921571Z",
     "iopub.status.busy": "2021-09-27T06:35:41.920493Z",
     "iopub.status.idle": "2021-09-27T06:35:41.923267Z",
     "shell.execute_reply": "2021-09-27T06:35:41.923758Z",
     "shell.execute_reply.started": "2021-09-27T06:35:08.842768Z"
    },
    "papermill": {
     "duration": 0.042033,
     "end_time": "2021-09-27T06:35:41.923944",
     "exception": false,
     "start_time": "2021-09-27T06:35:41.881911",
     "status": "completed"
    },
    "tags": []
   },
   "outputs": [],
   "source": [
    "promotion_accepted_cols = ['AcceptedCmp3', 'AcceptedCmp4', 'AcceptedCmp5',\n",
    "       'AcceptedCmp1', 'AcceptedCmp2']\n",
    "\n",
    "df['Promotion_Accepted'] = sum(df[col] for col in promotion_accepted_cols)"
   ]
  },
  {
   "cell_type": "code",
   "execution_count": 17,
   "id": "f5d4edd6",
   "metadata": {
    "execution": {
     "iopub.execute_input": "2021-09-27T06:35:41.991559Z",
     "iopub.status.busy": "2021-09-27T06:35:41.990877Z",
     "iopub.status.idle": "2021-09-27T06:35:41.995740Z",
     "shell.execute_reply": "2021-09-27T06:35:41.995105Z",
     "shell.execute_reply.started": "2021-09-27T06:35:08.855516Z"
    },
    "papermill": {
     "duration": 0.041274,
     "end_time": "2021-09-27T06:35:41.995915",
     "exception": false,
     "start_time": "2021-09-27T06:35:41.954641",
     "status": "completed"
    },
    "tags": []
   },
   "outputs": [],
   "source": [
    "df = df.drop([*promotion_accepted_cols], axis = 1)"
   ]
  },
  {
   "cell_type": "code",
   "execution_count": 18,
   "id": "fab45c4c",
   "metadata": {
    "execution": {
     "iopub.execute_input": "2021-09-27T06:35:42.076748Z",
     "iopub.status.busy": "2021-09-27T06:35:42.065281Z",
     "iopub.status.idle": "2021-09-27T06:35:42.088665Z",
     "shell.execute_reply": "2021-09-27T06:35:42.088070Z",
     "shell.execute_reply.started": "2021-09-27T06:35:08.870045Z"
    },
    "papermill": {
     "duration": 0.061519,
     "end_time": "2021-09-27T06:35:42.088847",
     "exception": false,
     "start_time": "2021-09-27T06:35:42.027328",
     "status": "completed"
    },
    "tags": []
   },
   "outputs": [
    {
     "data": {
      "text/html": [
       "<div>\n",
       "<style scoped>\n",
       "    .dataframe tbody tr th:only-of-type {\n",
       "        vertical-align: middle;\n",
       "    }\n",
       "\n",
       "    .dataframe tbody tr th {\n",
       "        vertical-align: top;\n",
       "    }\n",
       "\n",
       "    .dataframe thead th {\n",
       "        text-align: right;\n",
       "    }\n",
       "</style>\n",
       "<table border=\"1\" class=\"dataframe\">\n",
       "  <thead>\n",
       "    <tr style=\"text-align: right;\">\n",
       "      <th></th>\n",
       "      <th>ID</th>\n",
       "      <th>Education</th>\n",
       "      <th>Marital_Status</th>\n",
       "      <th>Income</th>\n",
       "      <th>Dt_Customer</th>\n",
       "      <th>Recency</th>\n",
       "      <th>NumWebVisitsMonth</th>\n",
       "      <th>Complain</th>\n",
       "      <th>Z_CostContact</th>\n",
       "      <th>Z_Revenue</th>\n",
       "      <th>Response</th>\n",
       "      <th>Children</th>\n",
       "      <th>Age</th>\n",
       "      <th>Family_Size</th>\n",
       "      <th>Total_Spent</th>\n",
       "      <th>Total_Quantity</th>\n",
       "      <th>Promotion_Accepted</th>\n",
       "    </tr>\n",
       "  </thead>\n",
       "  <tbody>\n",
       "    <tr>\n",
       "      <th>0</th>\n",
       "      <td>5524</td>\n",
       "      <td>Graduation</td>\n",
       "      <td>Single</td>\n",
       "      <td>58138.0</td>\n",
       "      <td>04-09-2012</td>\n",
       "      <td>58</td>\n",
       "      <td>7</td>\n",
       "      <td>0</td>\n",
       "      <td>3</td>\n",
       "      <td>11</td>\n",
       "      <td>1</td>\n",
       "      <td>0</td>\n",
       "      <td>64</td>\n",
       "      <td>1</td>\n",
       "      <td>1617</td>\n",
       "      <td>25</td>\n",
       "      <td>0</td>\n",
       "    </tr>\n",
       "    <tr>\n",
       "      <th>1</th>\n",
       "      <td>2174</td>\n",
       "      <td>Graduation</td>\n",
       "      <td>Single</td>\n",
       "      <td>46344.0</td>\n",
       "      <td>08-03-2014</td>\n",
       "      <td>38</td>\n",
       "      <td>5</td>\n",
       "      <td>0</td>\n",
       "      <td>3</td>\n",
       "      <td>11</td>\n",
       "      <td>0</td>\n",
       "      <td>2</td>\n",
       "      <td>67</td>\n",
       "      <td>3</td>\n",
       "      <td>27</td>\n",
       "      <td>6</td>\n",
       "      <td>0</td>\n",
       "    </tr>\n",
       "    <tr>\n",
       "      <th>2</th>\n",
       "      <td>4141</td>\n",
       "      <td>Graduation</td>\n",
       "      <td>Together</td>\n",
       "      <td>71613.0</td>\n",
       "      <td>21-08-2013</td>\n",
       "      <td>26</td>\n",
       "      <td>4</td>\n",
       "      <td>0</td>\n",
       "      <td>3</td>\n",
       "      <td>11</td>\n",
       "      <td>0</td>\n",
       "      <td>0</td>\n",
       "      <td>56</td>\n",
       "      <td>2</td>\n",
       "      <td>776</td>\n",
       "      <td>21</td>\n",
       "      <td>0</td>\n",
       "    </tr>\n",
       "    <tr>\n",
       "      <th>3</th>\n",
       "      <td>6182</td>\n",
       "      <td>Graduation</td>\n",
       "      <td>Together</td>\n",
       "      <td>26646.0</td>\n",
       "      <td>10-02-2014</td>\n",
       "      <td>26</td>\n",
       "      <td>6</td>\n",
       "      <td>0</td>\n",
       "      <td>3</td>\n",
       "      <td>11</td>\n",
       "      <td>0</td>\n",
       "      <td>1</td>\n",
       "      <td>37</td>\n",
       "      <td>3</td>\n",
       "      <td>53</td>\n",
       "      <td>8</td>\n",
       "      <td>0</td>\n",
       "    </tr>\n",
       "    <tr>\n",
       "      <th>4</th>\n",
       "      <td>5324</td>\n",
       "      <td>PhD</td>\n",
       "      <td>Married</td>\n",
       "      <td>58293.0</td>\n",
       "      <td>19-01-2014</td>\n",
       "      <td>94</td>\n",
       "      <td>5</td>\n",
       "      <td>0</td>\n",
       "      <td>3</td>\n",
       "      <td>11</td>\n",
       "      <td>0</td>\n",
       "      <td>1</td>\n",
       "      <td>40</td>\n",
       "      <td>3</td>\n",
       "      <td>422</td>\n",
       "      <td>19</td>\n",
       "      <td>0</td>\n",
       "    </tr>\n",
       "    <tr>\n",
       "      <th>...</th>\n",
       "      <td>...</td>\n",
       "      <td>...</td>\n",
       "      <td>...</td>\n",
       "      <td>...</td>\n",
       "      <td>...</td>\n",
       "      <td>...</td>\n",
       "      <td>...</td>\n",
       "      <td>...</td>\n",
       "      <td>...</td>\n",
       "      <td>...</td>\n",
       "      <td>...</td>\n",
       "      <td>...</td>\n",
       "      <td>...</td>\n",
       "      <td>...</td>\n",
       "      <td>...</td>\n",
       "      <td>...</td>\n",
       "      <td>...</td>\n",
       "    </tr>\n",
       "    <tr>\n",
       "      <th>2235</th>\n",
       "      <td>10870</td>\n",
       "      <td>Graduation</td>\n",
       "      <td>Married</td>\n",
       "      <td>61223.0</td>\n",
       "      <td>13-06-2013</td>\n",
       "      <td>46</td>\n",
       "      <td>5</td>\n",
       "      <td>0</td>\n",
       "      <td>3</td>\n",
       "      <td>11</td>\n",
       "      <td>0</td>\n",
       "      <td>1</td>\n",
       "      <td>54</td>\n",
       "      <td>3</td>\n",
       "      <td>1341</td>\n",
       "      <td>18</td>\n",
       "      <td>0</td>\n",
       "    </tr>\n",
       "    <tr>\n",
       "      <th>2236</th>\n",
       "      <td>4001</td>\n",
       "      <td>PhD</td>\n",
       "      <td>Together</td>\n",
       "      <td>64014.0</td>\n",
       "      <td>10-06-2014</td>\n",
       "      <td>56</td>\n",
       "      <td>7</td>\n",
       "      <td>0</td>\n",
       "      <td>3</td>\n",
       "      <td>11</td>\n",
       "      <td>0</td>\n",
       "      <td>3</td>\n",
       "      <td>75</td>\n",
       "      <td>5</td>\n",
       "      <td>444</td>\n",
       "      <td>22</td>\n",
       "      <td>1</td>\n",
       "    </tr>\n",
       "    <tr>\n",
       "      <th>2237</th>\n",
       "      <td>7270</td>\n",
       "      <td>Graduation</td>\n",
       "      <td>Divorced</td>\n",
       "      <td>56981.0</td>\n",
       "      <td>25-01-2014</td>\n",
       "      <td>91</td>\n",
       "      <td>6</td>\n",
       "      <td>0</td>\n",
       "      <td>3</td>\n",
       "      <td>11</td>\n",
       "      <td>0</td>\n",
       "      <td>0</td>\n",
       "      <td>40</td>\n",
       "      <td>1</td>\n",
       "      <td>1241</td>\n",
       "      <td>19</td>\n",
       "      <td>1</td>\n",
       "    </tr>\n",
       "    <tr>\n",
       "      <th>2238</th>\n",
       "      <td>8235</td>\n",
       "      <td>Master</td>\n",
       "      <td>Together</td>\n",
       "      <td>69245.0</td>\n",
       "      <td>24-01-2014</td>\n",
       "      <td>8</td>\n",
       "      <td>3</td>\n",
       "      <td>0</td>\n",
       "      <td>3</td>\n",
       "      <td>11</td>\n",
       "      <td>0</td>\n",
       "      <td>1</td>\n",
       "      <td>65</td>\n",
       "      <td>3</td>\n",
       "      <td>843</td>\n",
       "      <td>23</td>\n",
       "      <td>0</td>\n",
       "    </tr>\n",
       "    <tr>\n",
       "      <th>2239</th>\n",
       "      <td>9405</td>\n",
       "      <td>PhD</td>\n",
       "      <td>Married</td>\n",
       "      <td>52869.0</td>\n",
       "      <td>15-10-2012</td>\n",
       "      <td>40</td>\n",
       "      <td>7</td>\n",
       "      <td>0</td>\n",
       "      <td>3</td>\n",
       "      <td>11</td>\n",
       "      <td>1</td>\n",
       "      <td>2</td>\n",
       "      <td>67</td>\n",
       "      <td>4</td>\n",
       "      <td>172</td>\n",
       "      <td>11</td>\n",
       "      <td>0</td>\n",
       "    </tr>\n",
       "  </tbody>\n",
       "</table>\n",
       "<p>2240 rows × 17 columns</p>\n",
       "</div>"
      ],
      "text/plain": [
       "         ID   Education Marital_Status   Income Dt_Customer  Recency  \\\n",
       "0      5524  Graduation         Single  58138.0  04-09-2012       58   \n",
       "1      2174  Graduation         Single  46344.0  08-03-2014       38   \n",
       "2      4141  Graduation       Together  71613.0  21-08-2013       26   \n",
       "3      6182  Graduation       Together  26646.0  10-02-2014       26   \n",
       "4      5324         PhD        Married  58293.0  19-01-2014       94   \n",
       "...     ...         ...            ...      ...         ...      ...   \n",
       "2235  10870  Graduation        Married  61223.0  13-06-2013       46   \n",
       "2236   4001         PhD       Together  64014.0  10-06-2014       56   \n",
       "2237   7270  Graduation       Divorced  56981.0  25-01-2014       91   \n",
       "2238   8235      Master       Together  69245.0  24-01-2014        8   \n",
       "2239   9405         PhD        Married  52869.0  15-10-2012       40   \n",
       "\n",
       "      NumWebVisitsMonth  Complain  Z_CostContact  Z_Revenue  Response  \\\n",
       "0                     7         0              3         11         1   \n",
       "1                     5         0              3         11         0   \n",
       "2                     4         0              3         11         0   \n",
       "3                     6         0              3         11         0   \n",
       "4                     5         0              3         11         0   \n",
       "...                 ...       ...            ...        ...       ...   \n",
       "2235                  5         0              3         11         0   \n",
       "2236                  7         0              3         11         0   \n",
       "2237                  6         0              3         11         0   \n",
       "2238                  3         0              3         11         0   \n",
       "2239                  7         0              3         11         1   \n",
       "\n",
       "      Children  Age Family_Size  Total_Spent  Total_Quantity  \\\n",
       "0            0   64           1         1617              25   \n",
       "1            2   67           3           27               6   \n",
       "2            0   56           2          776              21   \n",
       "3            1   37           3           53               8   \n",
       "4            1   40           3          422              19   \n",
       "...        ...  ...         ...          ...             ...   \n",
       "2235         1   54           3         1341              18   \n",
       "2236         3   75           5          444              22   \n",
       "2237         0   40           1         1241              19   \n",
       "2238         1   65           3          843              23   \n",
       "2239         2   67           4          172              11   \n",
       "\n",
       "      Promotion_Accepted  \n",
       "0                      0  \n",
       "1                      0  \n",
       "2                      0  \n",
       "3                      0  \n",
       "4                      0  \n",
       "...                  ...  \n",
       "2235                   0  \n",
       "2236                   1  \n",
       "2237                   1  \n",
       "2238                   0  \n",
       "2239                   0  \n",
       "\n",
       "[2240 rows x 17 columns]"
      ]
     },
     "execution_count": 18,
     "metadata": {},
     "output_type": "execute_result"
    }
   ],
   "source": [
    "df"
   ]
  },
  {
   "cell_type": "code",
   "execution_count": 19,
   "id": "c10a7126",
   "metadata": {
    "execution": {
     "iopub.execute_input": "2021-09-27T06:35:42.158163Z",
     "iopub.status.busy": "2021-09-27T06:35:42.157444Z",
     "iopub.status.idle": "2021-09-27T06:35:42.280167Z",
     "shell.execute_reply": "2021-09-27T06:35:42.280721Z",
     "shell.execute_reply.started": "2021-09-27T06:35:08.900879Z"
    },
    "papermill": {
     "duration": 0.160505,
     "end_time": "2021-09-27T06:35:42.280890",
     "exception": false,
     "start_time": "2021-09-27T06:35:42.120385",
     "status": "completed"
    },
    "tags": []
   },
   "outputs": [
    {
     "data": {
      "text/html": [
       "        <script type=\"text/javascript\">\n",
       "        window.PlotlyConfig = {MathJaxConfig: 'local'};\n",
       "        if (window.MathJax) {MathJax.Hub.Config({SVG: {font: \"STIX-Web\"}});}\n",
       "        if (typeof require !== 'undefined') {\n",
       "        require.undef(\"plotly\");\n",
       "        requirejs.config({\n",
       "            paths: {\n",
       "                'plotly': ['https://cdn.plot.ly/plotly-2.4.2.min']\n",
       "            }\n",
       "        });\n",
       "        require(['plotly'], function(Plotly) {\n",
       "            window._Plotly = Plotly;\n",
       "        });\n",
       "        }\n",
       "        </script>\n",
       "        "
      ]
     },
     "metadata": {},
     "output_type": "display_data"
    },
    {
     "data": {
      "text/html": [
       "<div>                            <div id=\"78f60e26-2ee9-4d59-99db-233f51cb3c48\" class=\"plotly-graph-div\" style=\"height:525px; width:100%;\"></div>            <script type=\"text/javascript\">                require([\"plotly\"], function(Plotly) {                    window.PLOTLYENV=window.PLOTLYENV || {};                                    if (document.getElementById(\"78f60e26-2ee9-4d59-99db-233f51cb3c48\")) {                    Plotly.newPlot(                        \"78f60e26-2ee9-4d59-99db-233f51cb3c48\",                        [{\"mode\":\"markers\",\"type\":\"scatter\",\"x\":[0,2,0,1,1,1,1,1,1,2,1,0,0,2,0,0,2,0,1,1,0,1,1,1,1,0,2,1,1,0,0,0,1,2,0,2,1,1,1,0,1,1,1,0,1,0,0,1,3,2,1,0,1,0,2,0,0,1,1,1,0,2,1,1,0,1,2,1,1,3,0,1,1,2,0,1,0,0,0,0,1,1,1,0,0,2,2,1,0,1,3,2,0,1,1,1,1,2,0,0,1,1,1,0,0,1,2,2,1,0,1,0,1,0,1,2,0,1,2,1,1,1,2,1,0,0,0,2,1,2,1,2,0,1,2,0,1,3,2,2,0,1,0,1,1,2,1,1,3,0,2,1,1,1,1,0,1,3,1,0,3,0,1,0,1,3,0,0,0,2,2,1,2,2,1,1,0,2,3,0,1,1,0,1,0,1,1,1,0,2,1,0,1,1,2,2,0,0,0,2,1,0,1,0,2,0,1,2,1,1,1,0,2,2,0,1,3,0,1,1,1,0,2,1,1,1,1,1,0,1,2,1,1,0,1,1,1,1,1,1,0,1,1,0,1,2,1,1,0,1,1,1,0,0,2,1,1,1,2,3,1,2,1,1,2,2,0,2,0,1,0,1,1,2,2,1,0,0,0,1,1,1,0,1,2,1,0,2,0,0,0,1,0,2,2,1,1,1,0,1,2,1,1,1,1,0,0,0,1,0,1,3,0,0,2,2,2,1,2,3,1,1,2,1,1,0,1,1,3,1,1,0,1,1,1,2,0,1,0,0,0,0,1,1,1,0,2,0,2,1,1,1,0,0,1,2,1,0,0,2,0,1,2,1,2,1,0,1,0,1,1,2,1,1,2,2,0,1,1,1,2,1,0,3,1,1,1,1,1,2,0,1,0,0,1,0,2,1,1,1,2,0,2,0,3,2,1,2,1,2,1,1,1,1,1,0,1,0,0,2,1,1,1,0,0,3,0,1,1,1,0,1,2,1,1,1,1,1,1,1,1,1,0,1,0,0,1,0,1,1,1,1,1,2,1,3,0,1,1,0,1,0,1,0,1,0,0,1,2,1,1,1,1,2,1,1,2,1,1,1,1,1,1,1,0,0,1,1,1,0,1,1,0,1,0,1,1,1,1,0,2,1,0,1,1,0,1,0,0,1,1,1,2,0,1,0,2,1,0,0,2,0,0,0,1,1,0,0,0,2,1,1,2,2,1,1,1,0,1,1,1,1,1,0,1,1,0,1,2,2,2,1,1,0,0,2,1,0,0,1,1,0,1,1,1,1,1,2,1,2,1,2,1,1,1,1,2,2,2,2,2,1,2,0,1,2,0,1,1,0,1,0,0,1,0,1,1,2,1,1,1,1,0,2,2,1,1,3,1,0,0,0,1,3,0,2,3,2,2,1,1,0,0,1,0,1,1,1,2,1,1,0,1,0,0,3,0,1,1,1,1,0,1,1,0,2,0,1,1,1,0,1,1,1,1,0,1,0,1,3,1,1,1,0,0,0,1,1,1,2,1,2,1,1,1,2,1,0,1,0,1,0,0,1,0,1,0,0,0,0,1,0,1,0,2,2,0,2,0,0,1,2,1,0,1,1,1,1,1,1,1,1,1,0,1,0,0,1,1,2,1,0,1,0,1,1,0,0,3,0,2,2,2,3,2,0,1,1,1,1,1,2,3,1,0,0,1,0,1,0,0,1,1,0,0,0,1,1,1,1,1,2,0,1,0,1,0,0,1,1,1,0,2,2,1,2,1,0,2,1,0,2,1,1,1,1,2,1,1,1,0,0,0,2,1,0,1,1,0,1,1,2,2,0,0,2,1,1,2,1,0,1,0,1,0,1,2,0,1,1,0,1,0,0,1,1,3,3,1,1,2,0,2,1,2,1,1,0,1,1,2,1,1,1,0,0,0,1,1,2,1,1,0,2,1,1,1,2,2,0,1,2,0,1,1,1,1,2,1,1,0,1,1,2,1,0,2,1,0,1,1,1,2,2,0,0,3,2,2,0,1,2,0,1,0,1,1,1,1,1,0,1,0,0,3,0,0,1,1,0,0,0,1,1,0,0,0,0,1,0,2,0,1,2,1,0,0,0,0,1,0,1,1,1,0,1,0,1,1,1,2,1,0,0,0,0,1,2,1,1,1,2,2,2,2,2,1,1,2,1,1,1,1,1,2,1,0,1,1,1,0,3,1,1,0,0,0,3,2,1,2,0,1,1,0,1,0,0,0,2,0,1,1,1,2,0,0,2,1,1,1,0,2,1,1,1,1,0,2,2,1,1,1,1,2,0,0,0,1,0,1,1,3,1,1,1,1,1,1,1,0,0,0,1,0,0,2,2,1,1,1,2,0,0,1,1,1,1,1,1,0,2,0,2,1,0,1,0,0,0,2,2,0,2,1,2,0,1,0,0,1,1,1,1,0,0,0,2,1,1,0,1,0,1,0,1,2,0,1,0,0,1,0,2,2,1,1,0,1,1,0,1,1,1,1,0,1,0,1,2,0,0,2,0,1,1,1,0,0,1,1,1,2,1,1,2,2,3,0,0,1,2,1,1,0,1,2,0,0,1,1,1,1,1,0,1,1,2,1,1,0,1,1,0,1,2,2,0,0,1,1,2,1,0,1,1,1,3,0,0,0,0,0,2,1,1,2,1,2,0,1,1,1,2,1,1,2,1,1,2,0,1,1,1,2,1,1,1,0,1,2,1,1,1,0,1,0,0,2,1,1,1,1,0,2,2,1,2,0,1,1,1,0,2,2,1,0,1,1,2,2,1,1,1,1,1,1,0,1,2,1,3,1,0,1,0,1,2,1,1,0,2,1,1,1,2,1,1,2,0,2,0,0,2,2,0,2,1,1,0,0,1,1,2,1,1,1,3,0,1,0,0,2,0,0,1,1,2,0,0,0,1,1,2,2,1,1,1,0,2,1,0,0,2,0,1,2,0,0,1,1,0,1,1,1,2,1,2,2,1,0,1,1,2,1,1,0,1,0,0,1,2,1,0,1,1,0,0,1,1,1,1,2,0,1,1,1,0,1,0,0,0,1,1,0,1,1,0,0,2,2,1,2,0,1,1,1,1,1,1,1,2,3,1,1,1,3,1,1,1,1,2,2,2,1,0,1,2,2,0,2,1,1,2,1,2,2,1,1,2,2,1,1,1,1,2,1,1,1,2,1,1,2,0,1,1,0,0,3,2,3,0,1,1,0,1,1,1,2,0,1,1,0,2,2,2,2,0,0,1,2,2,1,0,0,0,0,1,0,1,1,0,0,1,0,0,1,2,0,0,1,1,2,1,1,1,1,0,2,1,2,1,1,2,1,1,0,1,0,1,1,1,1,1,1,1,0,3,1,1,2,2,0,1,1,0,1,1,1,0,2,1,1,2,0,0,2,1,0,1,0,2,1,0,0,1,1,1,1,1,0,0,1,1,1,2,0,2,0,1,1,2,1,2,1,1,1,0,1,1,1,2,0,3,1,1,0,0,1,2,1,0,1,0,1,2,2,1,3,1,1,2,1,1,1,1,1,1,2,3,0,2,0,1,1,1,2,0,0,1,3,0,0,1,0,2,2,0,1,0,1,0,1,1,1,1,2,1,1,1,1,0,0,2,2,2,1,1,1,1,0,0,0,1,2,1,1,1,1,1,1,1,0,2,2,1,1,0,1,1,1,1,2,1,2,1,1,0,2,1,2,2,2,1,1,0,1,0,0,2,1,0,2,0,1,1,1,1,1,0,2,2,1,2,0,1,2,2,1,1,0,0,0,0,1,0,1,1,1,1,0,2,2,1,1,2,0,1,1,0,1,0,1,1,0,1,2,0,2,2,1,2,1,1,1,1,1,1,1,1,0,1,1,0,1,1,1,2,2,1,1,0,0,0,1,1,2,1,2,1,2,0,2,0,1,1,2,0,1,1,1,1,0,0,1,0,0,0,1,0,1,1,1,1,2,2,2,1,2,1,1,1,1,1,1,1,1,0,0,1,1,0,0,0,1,2,1,0,1,0,1,2,0,1,2,2,1,1,2,1,2,2,0,1,2,2,1,1,2,1,1,1,2,2,2,1,2,2,0,0,2,1,0,0,1,1,1,0,2,2,1,2,2,1,0,1,1,0,0,1,1,1,1,1,2,2,0,1,1,1,1,0,1,0,2,0,2,0,1,1,0,1,0,0,0,1,3,0,0,1,1,0,1,1,0,2,2,1,1,0,1,1,2,1,1,0,0,0,1,1,0,1,1,1,0,1,2,0,2,1,0,0,1,1,0,1,1,0,0,1,2,0,0,1,1,0,1,1,0,1,0,1,0,1,1,1,0,1,0,2,1,1,0,0,2,1,1,0,0,2,2,1,1,2,1,2,1,1,1,1,0,1,1,0,1,0,0,1,2,1,0,1,0,0,0,0,1,1,0,2,1,0,2,2,1,0,1,1,0,0,1,1,2,1,2,1,0,2,1,1,1,1,0,1,2,1,2,0,1,1,0,1,0,1,2,0,0,1,1,1,1,1,1,0,2,1,1,1,1,1,0,1,0,0,0,2,0,2,2,3,1,1,2,1,1,1,2,0,1,1,1,1,1,1,1,1,2,1,1,0,0,3,1,1,1,1,1,0,1,0,2,2,1,2,2,0,1,1,1,2,1,1,0,2,1,1,0,1,1,1,1,1,1,0,0,1,1,0,2,1,1,1,1,0,0,1,0,1,1,1,2,0,1,0,1,2,0,2,1,1,2,1,1,1,0,1,1,1,1,0,2,0,2,1,1,1,1,1,0,1,1,2,1,1,2,0,1,0,0,3,1,0,0,1,0,1,2,1,1,2,1,2,2,0,1,0,1,3,2,1,2,0,1,2,1,1,2,1,1,1,1,1,1,0,1,1,1,0,0,2,1,0,1,1,1,0,0,1,1,1,1,1,0,1,1,1,1,0,0,1,0,2,0,0,1,2,0,1,2,2,1,1,1,1,0,2,1,2,1,2,1,0,2,0,1,2,1,0,1,1,1,0,1,3,1,2,2,1,0,2,1,0,0,1,1,1,3,0,1,2],\"y\":[1617,27,776,53,422,716,590,169,46,49,19,61,1102,310,46,1315,96,317,1782,133,316,1730,972,544,444,75,257,637,131,1672,30,318,120,302,1196,65,913,81,67,902,1395,53,22,186,31,984,122,55,124,1319,507,1693,72,1617,606,1957,1093,29,46,518,1438,612,884,606,1076,34,11,1274,653,1562,1253,109,863,661,65,13,1890,2209,18,692,165,16,79,318,778,56,151,372,1366,194,603,18,985,32,43,45,606,63,978,410,72,55,1169,1120,1097,29,187,910,145,850,969,1820,608,730,551,114,1724,577,81,33,660,80,30,43,1135,559,1923,90,404,661,463,632,725,725,279,1482,29,106,49,38,2077,1053,1385,871,312,877,68,22,211,127,459,460,429,89,1021,1381,306,18,162,1231,13,1706,121,1293,1608,88,421,259,1117,89,36,57,148,93,119,1835,1318,45,10,978,191,57,1033,66,43,50,39,608,1581,68,80,1282,65,91,315,31,834,1600,1270,263,535,1295,1150,1240,38,35,53,293,65,1804,241,1101,264,541,1198,482,17,1615,285,1135,114,1047,714,185,1245,189,576,1103,1753,17,433,1588,22,19,1117,69,23,605,57,22,2088,1009,26,1627,1102,17,1690,1390,2126,1531,64,26,1112,210,1148,33,1101,322,44,17,31,845,275,25,275,90,1495,184,981,67,1635,60,231,48,99,770,957,818,925,908,102,576,317,461,37,70,930,859,1478,390,52,137,1919,68,25,1374,32,100,825,916,62,728,90,273,66,1213,107,1157,546,241,53,37,1611,1508,235,32,102,401,28,1052,680,30,20,1307,630,1283,65,37,38,160,23,71,1161,59,33,946,1442,62,1674,1853,1538,139,1182,507,18,940,42,1190,44,16,835,1443,1029,1188,1277,49,99,1670,900,425,2153,636,57,25,494,693,1348,51,1932,990,30,254,29,1371,73,120,81,37,1377,51,17,22,324,211,19,41,492,1005,114,1173,1738,222,1127,209,787,1598,186,47,27,96,64,1040,163,343,446,41,70,272,46,490,79,915,1485,369,1073,1242,78,1378,1474,751,48,45,10,1435,2119,20,1795,1188,43,1008,1688,684,1082,1068,57,46,733,467,122,36,34,156,14,37,34,20,192,1379,48,428,868,1001,59,431,971,348,2059,265,270,1289,893,926,135,1495,120,1288,1743,15,542,890,1388,17,906,44,25,973,31,518,530,506,70,54,296,266,747,895,1053,735,20,205,2092,309,1722,900,682,663,43,1816,976,746,64,32,263,1445,46,1210,945,1157,137,730,216,943,347,1924,397,2089,138,42,777,1902,52,1651,358,1727,210,42,1291,442,1895,411,521,1168,493,260,46,319,96,1062,232,76,54,201,406,1919,662,41,1600,134,69,21,54,91,526,162,1008,240,795,1772,64,1957,78,1572,795,889,331,265,1065,11,21,17,369,38,177,279,62,1230,182,49,75,227,215,444,47,143,55,63,1867,611,473,55,81,2086,1478,49,382,69,67,30,63,79,42,819,1151,594,129,213,67,28,45,1193,268,266,37,37,882,373,35,107,42,326,404,95,939,33,981,36,1237,1825,103,191,1586,963,889,93,1587,16,1375,393,1477,1179,1005,1348,1307,486,2252,235,1724,235,1092,599,2008,48,1174,67,365,6,165,210,1095,223,597,22,1064,74,26,60,20,59,34,198,1048,574,1029,670,990,11,1241,576,172,664,928,2074,467,257,1146,689,2114,1717,1346,1044,493,957,270,29,121,126,23,57,636,1004,734,614,1453,1621,187,1443,57,637,948,59,18,903,112,596,233,1511,1152,48,1185,21,965,869,16,1947,71,65,1380,1027,411,836,11,480,606,284,1472,1677,1335,334,18,1338,1099,97,63,109,902,1574,38,960,28,1215,1497,449,1064,1757,1440,1006,1226,1171,92,99,66,564,1427,86,833,242,1869,1364,183,450,758,1507,654,81,137,16,93,1158,43,1525,1230,29,25,24,38,57,47,813,629,377,1612,729,50,270,177,315,767,1071,1580,60,573,41,170,1167,1526,458,63,405,1027,1478,72,48,726,860,1497,495,20,570,769,55,1808,55,577,162,1957,1576,1616,36,1482,22,63,680,542,50,39,1043,385,1633,46,761,76,290,89,70,1066,2009,1345,764,195,53,368,544,1853,35,446,1180,41,727,40,1062,40,292,15,341,369,401,393,10,486,69,1727,995,45,182,989,1677,595,156,1226,128,86,68,16,55,2114,2018,263,55,564,1281,83,353,1003,14,902,1139,797,1638,401,84,928,203,858,409,282,1423,1449,28,67,199,1453,1253,1198,178,1990,976,1001,1919,350,1650,46,1228,95,62,1761,467,1149,2052,1127,1416,1113,125,966,32,833,46,960,1829,779,811,1120,725,1187,2302,66,1250,683,305,50,995,41,77,171,131,54,53,475,694,96,361,1079,578,64,149,231,728,1778,93,23,662,1198,81,92,491,1564,926,1910,411,94,1085,23,6,54,1150,1415,405,1908,2486,1315,45,1789,19,573,805,108,23,1493,89,936,343,528,1901,724,58,297,488,859,1574,69,17,2194,116,279,103,44,406,1363,236,39,137,79,63,1314,71,58,702,94,80,22,1211,1461,1968,1091,55,1366,313,62,92,72,655,704,54,178,1033,36,122,122,1123,497,691,1363,12,2440,56,37,968,270,278,1250,938,1178,1155,653,49,506,38,1650,1826,18,906,46,1477,766,47,467,2116,1298,22,396,20,967,357,1401,15,2087,981,17,523,23,1192,1958,133,777,73,121,424,868,756,12,937,1862,367,443,267,61,1323,63,64,562,312,1156,1104,16,2008,44,1574,63,426,96,635,757,125,332,135,330,384,1722,78,24,1168,957,15,57,1956,2013,326,77,1313,30,315,660,74,46,86,1103,61,145,684,411,27,1060,1459,18,1833,237,48,515,1020,1370,1026,301,684,499,1004,218,606,75,106,990,1097,16,34,1711,438,75,225,18,470,91,2525,504,235,1232,88,17,24,60,1020,155,51,1812,1461,96,160,139,908,183,1161,988,1072,174,758,195,31,1084,685,1672,43,49,133,363,545,1065,2047,296,140,530,152,1598,114,101,25,789,87,90,1215,811,61,405,72,189,40,63,52,39,805,130,1631,34,152,21,71,899,711,351,8,119,21,10,973,1536,992,1529,860,928,418,587,641,23,2279,49,1779,1804,48,83,1862,793,84,183,1383,999,825,246,610,76,1286,30,99,1192,362,2130,1229,38,485,434,44,496,78,2346,794,17,26,76,15,62,198,49,802,1736,57,59,2302,37,310,1305,832,401,1501,1189,1194,656,1540,311,820,274,57,448,44,102,61,1643,397,1121,473,50,1678,58,170,373,1196,101,316,1400,1424,844,311,1149,129,32,299,320,441,1178,85,24,112,30,410,800,1313,1483,1258,28,227,1555,861,103,634,1918,131,586,62,447,939,797,1143,415,30,187,251,237,91,35,493,971,371,396,68,322,317,222,177,45,21,45,1899,42,22,41,1440,325,95,42,72,20,789,15,59,908,417,289,769,188,354,727,146,319,794,454,152,797,1690,20,1428,209,545,96,222,61,44,8,817,1371,42,60,78,23,19,61,449,37,38,1131,34,294,48,289,30,125,156,70,22,65,1930,2283,310,1319,879,1244,690,209,1134,1507,57,529,1091,180,77,2349,534,556,637,46,44,47,795,586,1574,13,1471,65,175,40,1078,1115,134,1540,87,217,1034,1180,819,32,46,1159,860,1631,444,1910,380,736,269,2524,612,75,1045,55,1064,1443,1366,436,38,436,747,1396,928,642,1048,943,907,1198,120,1658,1638,73,275,854,78,106,106,1923,1662,84,48,5,733,1234,112,1658,55,1513,271,904,120,103,269,22,1156,1086,1128,72,964,1383,18,793,100,80,167,677,23,92,641,1106,1033,1174,25,240,20,102,1034,156,458,17,792,92,407,1269,841,633,1019,1315,54,2525,52,436,268,147,1798,137,507,15,1105,974,66,778,49,169,299,221,1682,155,892,58,311,95,424,47,339,1410,35,562,2352,1334,32,41,39,1141,710,401,506,1538,57,1722,270,31,882,16,311,227,1152,122,77,1289,561,211,233,1092,601,54,78,1095,244,116,15,425,734,638,894,41,31,34,1750,612,29,823,20,396,813,1179,138,55,1511,117,1730,32,67,335,825,694,1792,496,231,902,68,71,76,772,47,1586,1529,265,1603,2091,981,1533,82,244,36,404,71,1572,122,41,10,304,37,1754,815,1001,1157,688,1319,21,31,67,708,25,746,32,1695,1080,72,57,660,103,153,1220,279,745,264,2157,1526,69,1597,64,497,1067,31,211,877,11,2034,1991,1686,324,69,252,54,964,1327,68,60,55,1456,563,1504,564,1125,358,42,184,460,145,1376,792,1382,28,1033,882,2231,1101,369,48,467,44,38,81,167,45,664,622,48,461,1073,55,976,20,1149,43,224,101,209,968,1165,24,252,165,269,102,461,47,144,1338,917,318,253,502,119,1250,969,76,62,1382,84,255,43,398,76,902,823,1179,1921,185,433,34,907,416,44,1588,1797,40,1143,914,1502,1338,27,763,1331,525,9,953,68,131,882,1149,37,388,1428,1633,173,99,215,929,219,174,92,1052,275,587,1662,159,1024,35,1042,395,557,9,69,486,34,1365,13,1401,1574,1323,1217,103,84,1536,581,928,14,424,960,1555,656,55,20,367,2257,42,1049,48,685,39,43,835,1515,1039,1596,1828,34,149,946,28,450,46,1702,820,382,2126,2069,72,732,801,236,80,1685,277,507,68,49,397,39,306,976,1028,70,46,51,1263,1490,1564,1815,1198,416,85,47,137,21,70,909,1676,1735,1191,24,1182,1280,1336,749,91,414,44,63,901,38,455,775,15,38,1512,43,42,1089,162,1272,1173,816,74,134,157,561,1336,2092,463,1130,20,377,1544,138,1012,1766,45,161,144,1734,823,1138,1429,1371,982,44,318,434,198,359,576,88,63,27,193,101,2211,140,415,22,263,393,147,443,1958,174,2217,1691,25,809,895,484,413,331,25,13,115,16,92,52,1464,441,283,747,1870,165,1941,839,1655,23,66,37,21,22,78,79,265,1175,1305,46,25,46,874,100,930,868,45,1260,414,392,1109,639,79,1665,692,1392,44,50,467,223,158,1211,1575,1208,43,527,932,71,54,129,1615,1034,1088,721,137,47,1244,41,1174,993,100,1680,98,48,519,715,37,653,1455,602,26,102,97,207,176,450,433,1366,1564,1001,961,1518,56,22,400,26,350,1216,874,40,1367,264,2053,1376,45,976,51,1264,75,57,140,497,266,2006,615,1021,22,133,437,1013,57,1038,1573,28,123,13,132,732,66,1631,608,1822,1282,8,43,1931,8,103,1169,395,258,25,185,180,22,44,94,81,798,1334,38,61,300,88,54,1782,68,258,31,66,174,28,731,274,1701,312,414,1565,29,94,1338,1092,1479,54,568,1199,873,1213,731,2043,1893,424,575,257,56,542,125,69,40,1016,907,1566,1169,46,1644,59,17,1853,1528,35,141,546,500,61,106,704,424,849,85,199,1147,54,43,53,521,1623,45,1435,32,16,52,1234,15,415,470,1438,53,51,679,586,653,468,1679,50,84,1049,22,62,30,1341,444,1241,843,172]}],                        {\"template\":{\"data\":{\"bar\":[{\"error_x\":{\"color\":\"#2a3f5f\"},\"error_y\":{\"color\":\"#2a3f5f\"},\"marker\":{\"line\":{\"color\":\"#E5ECF6\",\"width\":0.5},\"pattern\":{\"fillmode\":\"overlay\",\"size\":10,\"solidity\":0.2}},\"type\":\"bar\"}],\"barpolar\":[{\"marker\":{\"line\":{\"color\":\"#E5ECF6\",\"width\":0.5},\"pattern\":{\"fillmode\":\"overlay\",\"size\":10,\"solidity\":0.2}},\"type\":\"barpolar\"}],\"carpet\":[{\"aaxis\":{\"endlinecolor\":\"#2a3f5f\",\"gridcolor\":\"white\",\"linecolor\":\"white\",\"minorgridcolor\":\"white\",\"startlinecolor\":\"#2a3f5f\"},\"baxis\":{\"endlinecolor\":\"#2a3f5f\",\"gridcolor\":\"white\",\"linecolor\":\"white\",\"minorgridcolor\":\"white\",\"startlinecolor\":\"#2a3f5f\"},\"type\":\"carpet\"}],\"choropleth\":[{\"colorbar\":{\"outlinewidth\":0,\"ticks\":\"\"},\"type\":\"choropleth\"}],\"contour\":[{\"colorbar\":{\"outlinewidth\":0,\"ticks\":\"\"},\"colorscale\":[[0.0,\"#0d0887\"],[0.1111111111111111,\"#46039f\"],[0.2222222222222222,\"#7201a8\"],[0.3333333333333333,\"#9c179e\"],[0.4444444444444444,\"#bd3786\"],[0.5555555555555556,\"#d8576b\"],[0.6666666666666666,\"#ed7953\"],[0.7777777777777778,\"#fb9f3a\"],[0.8888888888888888,\"#fdca26\"],[1.0,\"#f0f921\"]],\"type\":\"contour\"}],\"contourcarpet\":[{\"colorbar\":{\"outlinewidth\":0,\"ticks\":\"\"},\"type\":\"contourcarpet\"}],\"heatmap\":[{\"colorbar\":{\"outlinewidth\":0,\"ticks\":\"\"},\"colorscale\":[[0.0,\"#0d0887\"],[0.1111111111111111,\"#46039f\"],[0.2222222222222222,\"#7201a8\"],[0.3333333333333333,\"#9c179e\"],[0.4444444444444444,\"#bd3786\"],[0.5555555555555556,\"#d8576b\"],[0.6666666666666666,\"#ed7953\"],[0.7777777777777778,\"#fb9f3a\"],[0.8888888888888888,\"#fdca26\"],[1.0,\"#f0f921\"]],\"type\":\"heatmap\"}],\"heatmapgl\":[{\"colorbar\":{\"outlinewidth\":0,\"ticks\":\"\"},\"colorscale\":[[0.0,\"#0d0887\"],[0.1111111111111111,\"#46039f\"],[0.2222222222222222,\"#7201a8\"],[0.3333333333333333,\"#9c179e\"],[0.4444444444444444,\"#bd3786\"],[0.5555555555555556,\"#d8576b\"],[0.6666666666666666,\"#ed7953\"],[0.7777777777777778,\"#fb9f3a\"],[0.8888888888888888,\"#fdca26\"],[1.0,\"#f0f921\"]],\"type\":\"heatmapgl\"}],\"histogram\":[{\"marker\":{\"pattern\":{\"fillmode\":\"overlay\",\"size\":10,\"solidity\":0.2}},\"type\":\"histogram\"}],\"histogram2d\":[{\"colorbar\":{\"outlinewidth\":0,\"ticks\":\"\"},\"colorscale\":[[0.0,\"#0d0887\"],[0.1111111111111111,\"#46039f\"],[0.2222222222222222,\"#7201a8\"],[0.3333333333333333,\"#9c179e\"],[0.4444444444444444,\"#bd3786\"],[0.5555555555555556,\"#d8576b\"],[0.6666666666666666,\"#ed7953\"],[0.7777777777777778,\"#fb9f3a\"],[0.8888888888888888,\"#fdca26\"],[1.0,\"#f0f921\"]],\"type\":\"histogram2d\"}],\"histogram2dcontour\":[{\"colorbar\":{\"outlinewidth\":0,\"ticks\":\"\"},\"colorscale\":[[0.0,\"#0d0887\"],[0.1111111111111111,\"#46039f\"],[0.2222222222222222,\"#7201a8\"],[0.3333333333333333,\"#9c179e\"],[0.4444444444444444,\"#bd3786\"],[0.5555555555555556,\"#d8576b\"],[0.6666666666666666,\"#ed7953\"],[0.7777777777777778,\"#fb9f3a\"],[0.8888888888888888,\"#fdca26\"],[1.0,\"#f0f921\"]],\"type\":\"histogram2dcontour\"}],\"mesh3d\":[{\"colorbar\":{\"outlinewidth\":0,\"ticks\":\"\"},\"type\":\"mesh3d\"}],\"parcoords\":[{\"line\":{\"colorbar\":{\"outlinewidth\":0,\"ticks\":\"\"}},\"type\":\"parcoords\"}],\"pie\":[{\"automargin\":true,\"type\":\"pie\"}],\"scatter\":[{\"marker\":{\"colorbar\":{\"outlinewidth\":0,\"ticks\":\"\"}},\"type\":\"scatter\"}],\"scatter3d\":[{\"line\":{\"colorbar\":{\"outlinewidth\":0,\"ticks\":\"\"}},\"marker\":{\"colorbar\":{\"outlinewidth\":0,\"ticks\":\"\"}},\"type\":\"scatter3d\"}],\"scattercarpet\":[{\"marker\":{\"colorbar\":{\"outlinewidth\":0,\"ticks\":\"\"}},\"type\":\"scattercarpet\"}],\"scattergeo\":[{\"marker\":{\"colorbar\":{\"outlinewidth\":0,\"ticks\":\"\"}},\"type\":\"scattergeo\"}],\"scattergl\":[{\"marker\":{\"colorbar\":{\"outlinewidth\":0,\"ticks\":\"\"}},\"type\":\"scattergl\"}],\"scattermapbox\":[{\"marker\":{\"colorbar\":{\"outlinewidth\":0,\"ticks\":\"\"}},\"type\":\"scattermapbox\"}],\"scatterpolar\":[{\"marker\":{\"colorbar\":{\"outlinewidth\":0,\"ticks\":\"\"}},\"type\":\"scatterpolar\"}],\"scatterpolargl\":[{\"marker\":{\"colorbar\":{\"outlinewidth\":0,\"ticks\":\"\"}},\"type\":\"scatterpolargl\"}],\"scatterternary\":[{\"marker\":{\"colorbar\":{\"outlinewidth\":0,\"ticks\":\"\"}},\"type\":\"scatterternary\"}],\"surface\":[{\"colorbar\":{\"outlinewidth\":0,\"ticks\":\"\"},\"colorscale\":[[0.0,\"#0d0887\"],[0.1111111111111111,\"#46039f\"],[0.2222222222222222,\"#7201a8\"],[0.3333333333333333,\"#9c179e\"],[0.4444444444444444,\"#bd3786\"],[0.5555555555555556,\"#d8576b\"],[0.6666666666666666,\"#ed7953\"],[0.7777777777777778,\"#fb9f3a\"],[0.8888888888888888,\"#fdca26\"],[1.0,\"#f0f921\"]],\"type\":\"surface\"}],\"table\":[{\"cells\":{\"fill\":{\"color\":\"#EBF0F8\"},\"line\":{\"color\":\"white\"}},\"header\":{\"fill\":{\"color\":\"#C8D4E3\"},\"line\":{\"color\":\"white\"}},\"type\":\"table\"}]},\"layout\":{\"annotationdefaults\":{\"arrowcolor\":\"#2a3f5f\",\"arrowhead\":0,\"arrowwidth\":1},\"autotypenumbers\":\"strict\",\"coloraxis\":{\"colorbar\":{\"outlinewidth\":0,\"ticks\":\"\"}},\"colorscale\":{\"diverging\":[[0,\"#8e0152\"],[0.1,\"#c51b7d\"],[0.2,\"#de77ae\"],[0.3,\"#f1b6da\"],[0.4,\"#fde0ef\"],[0.5,\"#f7f7f7\"],[0.6,\"#e6f5d0\"],[0.7,\"#b8e186\"],[0.8,\"#7fbc41\"],[0.9,\"#4d9221\"],[1,\"#276419\"]],\"sequential\":[[0.0,\"#0d0887\"],[0.1111111111111111,\"#46039f\"],[0.2222222222222222,\"#7201a8\"],[0.3333333333333333,\"#9c179e\"],[0.4444444444444444,\"#bd3786\"],[0.5555555555555556,\"#d8576b\"],[0.6666666666666666,\"#ed7953\"],[0.7777777777777778,\"#fb9f3a\"],[0.8888888888888888,\"#fdca26\"],[1.0,\"#f0f921\"]],\"sequentialminus\":[[0.0,\"#0d0887\"],[0.1111111111111111,\"#46039f\"],[0.2222222222222222,\"#7201a8\"],[0.3333333333333333,\"#9c179e\"],[0.4444444444444444,\"#bd3786\"],[0.5555555555555556,\"#d8576b\"],[0.6666666666666666,\"#ed7953\"],[0.7777777777777778,\"#fb9f3a\"],[0.8888888888888888,\"#fdca26\"],[1.0,\"#f0f921\"]]},\"colorway\":[\"#636efa\",\"#EF553B\",\"#00cc96\",\"#ab63fa\",\"#FFA15A\",\"#19d3f3\",\"#FF6692\",\"#B6E880\",\"#FF97FF\",\"#FECB52\"],\"font\":{\"color\":\"#2a3f5f\"},\"geo\":{\"bgcolor\":\"white\",\"lakecolor\":\"white\",\"landcolor\":\"#E5ECF6\",\"showlakes\":true,\"showland\":true,\"subunitcolor\":\"white\"},\"hoverlabel\":{\"align\":\"left\"},\"hovermode\":\"closest\",\"mapbox\":{\"style\":\"light\"},\"paper_bgcolor\":\"white\",\"plot_bgcolor\":\"#E5ECF6\",\"polar\":{\"angularaxis\":{\"gridcolor\":\"white\",\"linecolor\":\"white\",\"ticks\":\"\"},\"bgcolor\":\"#E5ECF6\",\"radialaxis\":{\"gridcolor\":\"white\",\"linecolor\":\"white\",\"ticks\":\"\"}},\"scene\":{\"xaxis\":{\"backgroundcolor\":\"#E5ECF6\",\"gridcolor\":\"white\",\"gridwidth\":2,\"linecolor\":\"white\",\"showbackground\":true,\"ticks\":\"\",\"zerolinecolor\":\"white\"},\"yaxis\":{\"backgroundcolor\":\"#E5ECF6\",\"gridcolor\":\"white\",\"gridwidth\":2,\"linecolor\":\"white\",\"showbackground\":true,\"ticks\":\"\",\"zerolinecolor\":\"white\"},\"zaxis\":{\"backgroundcolor\":\"#E5ECF6\",\"gridcolor\":\"white\",\"gridwidth\":2,\"linecolor\":\"white\",\"showbackground\":true,\"ticks\":\"\",\"zerolinecolor\":\"white\"}},\"shapedefaults\":{\"line\":{\"color\":\"#2a3f5f\"}},\"ternary\":{\"aaxis\":{\"gridcolor\":\"white\",\"linecolor\":\"white\",\"ticks\":\"\"},\"baxis\":{\"gridcolor\":\"white\",\"linecolor\":\"white\",\"ticks\":\"\"},\"bgcolor\":\"#E5ECF6\",\"caxis\":{\"gridcolor\":\"white\",\"linecolor\":\"white\",\"ticks\":\"\"}},\"title\":{\"x\":0.05},\"xaxis\":{\"automargin\":true,\"gridcolor\":\"white\",\"linecolor\":\"white\",\"ticks\":\"\",\"title\":{\"standoff\":15},\"zerolinecolor\":\"white\",\"zerolinewidth\":2},\"yaxis\":{\"automargin\":true,\"gridcolor\":\"white\",\"linecolor\":\"white\",\"ticks\":\"\",\"title\":{\"standoff\":15},\"zerolinecolor\":\"white\",\"zerolinewidth\":2}}},\"title\":{\"text\":\"Plot\"},\"xaxis\":{\"title\":{\"text\":\"Children\"}},\"yaxis\":{\"title\":{\"text\":\"Spent\"}}},                        {\"responsive\": true}                    ).then(function(){\n",
       "                            \n",
       "var gd = document.getElementById('78f60e26-2ee9-4d59-99db-233f51cb3c48');\n",
       "var x = new MutationObserver(function (mutations, observer) {{\n",
       "        var display = window.getComputedStyle(gd).display;\n",
       "        if (!display || display === 'none') {{\n",
       "            console.log([gd, 'removed!']);\n",
       "            Plotly.purge(gd);\n",
       "            observer.disconnect();\n",
       "        }}\n",
       "}});\n",
       "\n",
       "// Listen for the removal of the full notebook cells\n",
       "var notebookContainer = gd.closest('#notebook-container');\n",
       "if (notebookContainer) {{\n",
       "    x.observe(notebookContainer, {childList: true});\n",
       "}}\n",
       "\n",
       "// Listen for the clearing of the current output cell\n",
       "var outputEl = gd.closest('.output');\n",
       "if (outputEl) {{\n",
       "    x.observe(outputEl, {childList: true});\n",
       "}}\n",
       "\n",
       "                        })                };                });            </script>        </div>"
      ]
     },
     "metadata": {},
     "output_type": "display_data"
    }
   ],
   "source": [
    "import matplotlib.pyplot as plt \n",
    "# plt.scatter(*[])\n",
    "\n",
    "fig = go.Figure()\n",
    "fig.add_trace(dict(x = df['Children'], y = df['Total_Spent'],mode = 'markers'))\n",
    "fig.update_layout(dict(title = 'Plot', xaxis_title = 'Children', yaxis_title = 'Spent'))\n",
    "fig.show()"
   ]
  },
  {
   "cell_type": "code",
   "execution_count": 20,
   "id": "c50666eb",
   "metadata": {
    "execution": {
     "iopub.execute_input": "2021-09-27T06:35:42.354724Z",
     "iopub.status.busy": "2021-09-27T06:35:42.354014Z",
     "iopub.status.idle": "2021-09-27T06:35:43.412060Z",
     "shell.execute_reply": "2021-09-27T06:35:43.412619Z",
     "shell.execute_reply.started": "2021-09-27T06:35:08.946173Z"
    },
    "papermill": {
     "duration": 1.097529,
     "end_time": "2021-09-27T06:35:43.412818",
     "exception": false,
     "start_time": "2021-09-27T06:35:42.315289",
     "status": "completed"
    },
    "tags": []
   },
   "outputs": [],
   "source": [
    "params = {'Total_Spent', 'Total_Quantity', 'Income'}\n",
    "\n",
    "from sklearn.cluster import KMeans"
   ]
  },
  {
   "cell_type": "code",
   "execution_count": 21,
   "id": "b53f5a4a",
   "metadata": {
    "execution": {
     "iopub.execute_input": "2021-09-27T06:35:43.483264Z",
     "iopub.status.busy": "2021-09-27T06:35:43.482276Z",
     "iopub.status.idle": "2021-09-27T06:35:43.493790Z",
     "shell.execute_reply": "2021-09-27T06:35:43.494253Z",
     "shell.execute_reply.started": "2021-09-27T06:35:09.284930Z"
    },
    "papermill": {
     "duration": 0.048667,
     "end_time": "2021-09-27T06:35:43.494442",
     "exception": false,
     "start_time": "2021-09-27T06:35:43.445775",
     "status": "completed"
    },
    "tags": []
   },
   "outputs": [],
   "source": [
    "from sklearn.preprocessing import StandardScaler\n",
    "df_clust = df[[*params]].copy()\n",
    "\n",
    "for i in df_clust.columns:\n",
    "    df_clust[i] = StandardScaler().fit_transform(np.array(df_clust[[i]]))"
   ]
  },
  {
   "cell_type": "code",
   "execution_count": 22,
   "id": "88a76596",
   "metadata": {
    "execution": {
     "iopub.execute_input": "2021-09-27T06:35:43.572997Z",
     "iopub.status.busy": "2021-09-27T06:35:43.562992Z",
     "iopub.status.idle": "2021-09-27T06:35:43.576019Z",
     "shell.execute_reply": "2021-09-27T06:35:43.576643Z",
     "shell.execute_reply.started": "2021-09-27T06:35:09.297995Z"
    },
    "papermill": {
     "duration": 0.04945,
     "end_time": "2021-09-27T06:35:43.576818",
     "exception": false,
     "start_time": "2021-09-27T06:35:43.527368",
     "status": "completed"
    },
    "tags": []
   },
   "outputs": [
    {
     "data": {
      "text/html": [
       "<div>\n",
       "<style scoped>\n",
       "    .dataframe tbody tr th:only-of-type {\n",
       "        vertical-align: middle;\n",
       "    }\n",
       "\n",
       "    .dataframe tbody tr th {\n",
       "        vertical-align: top;\n",
       "    }\n",
       "\n",
       "    .dataframe thead th {\n",
       "        text-align: right;\n",
       "    }\n",
       "</style>\n",
       "<table border=\"1\" class=\"dataframe\">\n",
       "  <thead>\n",
       "    <tr style=\"text-align: right;\">\n",
       "      <th></th>\n",
       "      <th>Total_Spent</th>\n",
       "      <th>Income</th>\n",
       "      <th>Total_Quantity</th>\n",
       "    </tr>\n",
       "  </thead>\n",
       "  <tbody>\n",
       "    <tr>\n",
       "      <th>0</th>\n",
       "      <td>1.679417</td>\n",
       "      <td>0.235327</td>\n",
       "      <td>1.320826</td>\n",
       "    </tr>\n",
       "    <tr>\n",
       "      <th>1</th>\n",
       "      <td>-0.961275</td>\n",
       "      <td>-0.235826</td>\n",
       "      <td>-1.154596</td>\n",
       "    </tr>\n",
       "    <tr>\n",
       "      <th>2</th>\n",
       "      <td>0.282673</td>\n",
       "      <td>0.773633</td>\n",
       "      <td>0.799685</td>\n",
       "    </tr>\n",
       "    <tr>\n",
       "      <th>3</th>\n",
       "      <td>-0.918094</td>\n",
       "      <td>-1.022732</td>\n",
       "      <td>-0.894025</td>\n",
       "    </tr>\n",
       "    <tr>\n",
       "      <th>4</th>\n",
       "      <td>-0.305254</td>\n",
       "      <td>0.241519</td>\n",
       "      <td>0.539114</td>\n",
       "    </tr>\n",
       "    <tr>\n",
       "      <th>...</th>\n",
       "      <td>...</td>\n",
       "      <td>...</td>\n",
       "      <td>...</td>\n",
       "    </tr>\n",
       "    <tr>\n",
       "      <th>2235</th>\n",
       "      <td>1.221032</td>\n",
       "      <td>0.358568</td>\n",
       "      <td>0.408829</td>\n",
       "    </tr>\n",
       "    <tr>\n",
       "      <th>2236</th>\n",
       "      <td>-0.268717</td>\n",
       "      <td>0.470064</td>\n",
       "      <td>0.929970</td>\n",
       "    </tr>\n",
       "    <tr>\n",
       "      <th>2237</th>\n",
       "      <td>1.054951</td>\n",
       "      <td>0.189106</td>\n",
       "      <td>0.539114</td>\n",
       "    </tr>\n",
       "    <tr>\n",
       "      <th>2238</th>\n",
       "      <td>0.393948</td>\n",
       "      <td>0.679035</td>\n",
       "      <td>1.060255</td>\n",
       "    </tr>\n",
       "    <tr>\n",
       "      <th>2239</th>\n",
       "      <td>-0.720458</td>\n",
       "      <td>0.024838</td>\n",
       "      <td>-0.503169</td>\n",
       "    </tr>\n",
       "  </tbody>\n",
       "</table>\n",
       "<p>2240 rows × 3 columns</p>\n",
       "</div>"
      ],
      "text/plain": [
       "      Total_Spent    Income  Total_Quantity\n",
       "0        1.679417  0.235327        1.320826\n",
       "1       -0.961275 -0.235826       -1.154596\n",
       "2        0.282673  0.773633        0.799685\n",
       "3       -0.918094 -1.022732       -0.894025\n",
       "4       -0.305254  0.241519        0.539114\n",
       "...           ...       ...             ...\n",
       "2235     1.221032  0.358568        0.408829\n",
       "2236    -0.268717  0.470064        0.929970\n",
       "2237     1.054951  0.189106        0.539114\n",
       "2238     0.393948  0.679035        1.060255\n",
       "2239    -0.720458  0.024838       -0.503169\n",
       "\n",
       "[2240 rows x 3 columns]"
      ]
     },
     "execution_count": 22,
     "metadata": {},
     "output_type": "execute_result"
    }
   ],
   "source": [
    "df_clust"
   ]
  },
  {
   "cell_type": "code",
   "execution_count": 23,
   "id": "6ec2aab4",
   "metadata": {
    "execution": {
     "iopub.execute_input": "2021-09-27T06:35:43.647450Z",
     "iopub.status.busy": "2021-09-27T06:35:43.646778Z",
     "iopub.status.idle": "2021-09-27T06:35:44.800269Z",
     "shell.execute_reply": "2021-09-27T06:35:44.800948Z",
     "shell.execute_reply.started": "2021-09-27T06:35:09.315113Z"
    },
    "papermill": {
     "duration": 1.190784,
     "end_time": "2021-09-27T06:35:44.801176",
     "exception": false,
     "start_time": "2021-09-27T06:35:43.610392",
     "status": "completed"
    },
    "tags": []
   },
   "outputs": [],
   "source": [
    "import seaborn as sns\n",
    "wcss = []\n",
    "for i in range(1, 10):\n",
    "    km = KMeans(n_clusters = i, random_state = 69)\n",
    "    km.fit(df_clust)\n",
    "    wcss.append(km.inertia_)\n",
    "\n",
    "\n"
   ]
  },
  {
   "cell_type": "code",
   "execution_count": 24,
   "id": "427d4c5e",
   "metadata": {
    "execution": {
     "iopub.execute_input": "2021-09-27T06:35:44.894768Z",
     "iopub.status.busy": "2021-09-27T06:35:44.887886Z",
     "iopub.status.idle": "2021-09-27T06:35:45.134593Z",
     "shell.execute_reply": "2021-09-27T06:35:45.135152Z",
     "shell.execute_reply.started": "2021-09-27T06:35:10.379906Z"
    },
    "papermill": {
     "duration": 0.294098,
     "end_time": "2021-09-27T06:35:45.135341",
     "exception": false,
     "start_time": "2021-09-27T06:35:44.841243",
     "status": "completed"
    },
    "tags": []
   },
   "outputs": [
    {
     "data": {
      "text/plain": [
       "[<matplotlib.lines.Line2D at 0x7f3776817590>]"
      ]
     },
     "execution_count": 24,
     "metadata": {},
     "output_type": "execute_result"
    },
    {
     "data": {
      "image/png": "[encoded data removed]",
      "text/plain": [
       "<Figure size 432x288 with 1 Axes>"
      ]
     },
     "metadata": {
      "needs_background": "light"
     },
     "output_type": "display_data"
    }
   ],
   "source": [
    "plt.plot(wcss, '-o')"
   ]
  },
  {
   "cell_type": "code",
   "execution_count": 25,
   "id": "13619afd",
   "metadata": {
    "execution": {
     "iopub.execute_input": "2021-09-27T06:35:45.227559Z",
     "iopub.status.busy": "2021-09-27T06:35:45.226637Z",
     "iopub.status.idle": "2021-09-27T06:35:45.228799Z",
     "shell.execute_reply": "2021-09-27T06:35:45.228203Z",
     "shell.execute_reply.started": "2021-09-27T06:35:10.672127Z"
    },
    "papermill": {
     "duration": 0.051657,
     "end_time": "2021-09-27T06:35:45.229008",
     "exception": false,
     "start_time": "2021-09-27T06:35:45.177351",
     "status": "completed"
    },
    "tags": []
   },
   "outputs": [],
   "source": [
    "k = 3\n",
    "kmeans = KMeans(n_clusters = k, init = 'k-means++', random_state = 69)\n"
   ]
  },
  {
   "cell_type": "code",
   "execution_count": 26,
   "id": "61bd14cc",
   "metadata": {
    "execution": {
     "iopub.execute_input": "2021-09-27T06:35:45.325307Z",
     "iopub.status.busy": "2021-09-27T06:35:45.324607Z",
     "iopub.status.idle": "2021-09-27T06:35:45.398879Z",
     "shell.execute_reply": "2021-09-27T06:35:45.399475Z",
     "shell.execute_reply.started": "2021-09-27T06:35:10.679028Z"
    },
    "papermill": {
     "duration": 0.127748,
     "end_time": "2021-09-27T06:35:45.399676",
     "exception": false,
     "start_time": "2021-09-27T06:35:45.271928",
     "status": "completed"
    },
    "tags": []
   },
   "outputs": [
    {
     "data": {
      "text/plain": [
       "0    984\n",
       "2    641\n",
       "1    615\n",
       "Name: Cluster, dtype: int64"
      ]
     },
     "execution_count": 26,
     "metadata": {},
     "output_type": "execute_result"
    }
   ],
   "source": [
    "y = kmeans.fit_predict(df_clust)\n",
    "df['Cluster'] = y\n",
    "df['Cluster'].value_counts()"
   ]
  },
  {
   "cell_type": "code",
   "execution_count": 27,
   "id": "25e02a03",
   "metadata": {
    "execution": {
     "iopub.execute_input": "2021-09-27T06:35:45.493340Z",
     "iopub.status.busy": "2021-09-27T06:35:45.492644Z",
     "iopub.status.idle": "2021-09-27T06:35:45.748204Z",
     "shell.execute_reply": "2021-09-27T06:35:45.748738Z",
     "shell.execute_reply.started": "2021-09-27T06:35:10.769120Z"
    },
    "papermill": {
     "duration": 0.30683,
     "end_time": "2021-09-27T06:35:45.748966",
     "exception": false,
     "start_time": "2021-09-27T06:35:45.442136",
     "status": "completed"
    },
    "tags": []
   },
   "outputs": [
    {
     "data": {
      "text/plain": [
       "<BarContainer object of 3 artists>"
      ]
     },
     "execution_count": 27,
     "metadata": {},
     "output_type": "execute_result"
    },
    {
     "data": {
      "image/png": "[encoded data removed]",
      "text/plain": [
       "<Figure size 432x288 with 1 Axes>"
      ]
     },
     "metadata": {
      "needs_background": "light"
     },
     "output_type": "display_data"
    }
   ],
   "source": [
    "plt.figure()\n",
    "plt.title('Count in each cluster')\n",
    "plt.bar(df['Cluster'].unique(),df['Cluster'].value_counts())"
   ]
  },
  {
   "cell_type": "code",
   "execution_count": 28,
   "id": "853f36a7",
   "metadata": {
    "execution": {
     "iopub.execute_input": "2021-09-27T06:35:45.846007Z",
     "iopub.status.busy": "2021-09-27T06:35:45.845221Z",
     "iopub.status.idle": "2021-09-27T06:35:45.884313Z",
     "shell.execute_reply": "2021-09-27T06:35:45.884910Z",
     "shell.execute_reply.started": "2021-09-27T06:35:11.067689Z"
    },
    "papermill": {
     "duration": 0.092775,
     "end_time": "2021-09-27T06:35:45.885107",
     "exception": false,
     "start_time": "2021-09-27T06:35:45.792332",
     "status": "completed"
    },
    "tags": []
   },
   "outputs": [
    {
     "data": {
      "text/html": [
       "<div>                            <div id=\"f3da486c-81f5-40b1-87d5-577d9d435cbf\" class=\"plotly-graph-div\" style=\"height:525px; width:100%;\"></div>            <script type=\"text/javascript\">                require([\"plotly\"], function(Plotly) {                    window.PLOTLYENV=window.PLOTLYENV || {};                                    if (document.getElementById(\"f3da486c-81f5-40b1-87d5-577d9d435cbf\")) {                    Plotly.newPlot(                        \"f3da486c-81f5-40b1-87d5-577d9d435cbf\",                        [{\"mode\":\"markers\",\"name\":\"1\",\"type\":\"scatter\",\"x\":[58138.0,82800.0,76995.0,2447.0,84618.0,68657.0,67353.0,80011.0,79941.0,72550.0,79143.0,82582.0,82384.0,70287.0,75777.0,88194.0,74854.0,66991.0,65031.0,75251.0,75825.0,81361.0,79593.0,78497.0,85693.0,87195.0,77298.0,68126.0,86037.0,90765.0,101970.0,79607.0,62981.0,92859.0,86111.0,61010.0,69372.0,80317.0,70356.0,74165.0,157243.0,80427.0,83837.0,78497.0,66835.0,74068.0,66973.0,80067.0,86718.0,75922.0,63693.0,102160.0,64497.0,77972.0,70951.0,83790.0,69508.0,63887.0,79930.0,81975.0,62745.0,73455.0,73687.0,61074.0,80134.0,75027.0,67546.0,65176.0,102692.0,75702.0,80124.0,69267.0,75278.0,79946.0,82497.0,55951.0,80950.0,77457.0,52247.25135379061,70893.0,64325.0,62187.0,66334.0,75693.0,83003.0,83532.0,68655.0,82623.0,84835.0,71113.0,71952.0,72099.0,60000.0,68462.0,78618.0,79530.0,72025.0,63810.0,66426.0,63381.0,83664.0,90300.0,74293.0,68682.0,75276.0,66465.0,75072.0,75865.0,80134.0,91065.0,82584.0,93027.0,92910.0,75433.0,84865.0,67309.0,75236.0,81246.0,56796.0,65991.0,89572.0,66664.0,80124.0,66582.0,75261.0,61456.0,62503.0,78825.0,78952.0,76005.0,78642.0,67911.0,64355.0,53653.0,81217.0,89120.0,81169.0,80184.0,73454.0,70503.0,77863.0,61839.0,72679.0,76982.0,84169.0,85620.0,81698.0,79908.0,87771.0,81741.0,66565.0,61996.0,79800.0,92163.0,69882.0,72906.0,81168.0,72635.0,84196.0,70971.0,69084.0,83917.0,84574.0,63120.0,73691.0,63381.0,76140.0,62859.0,77632.0,105471.0,78710.0,98777.0,67445.0,73059.0,58330.0,59304.0,81300.0,68743.0,65777.0,86857.0,160803.0,77845.0,78468.0,71022.0,90247.0,71952.0,76618.0,87305.0,58710.0,72190.0,80395.0,75012.0,89891.0,89694.0,72025.0,67432.0,62882.0,64108.0,82224.0,83844.0,71163.0,63564.0,83443.0,58330.0,80952.0,75507.0,63855.0,62220.0,58512.0,78285.0,74985.0,67430.0,78939.0,74250.0,72258.0,71466.0,62847.0,60161.0,73926.0,82716.0,48192.0,72504.0,91820.0,76412.0,87771.0,78353.0,93404.0,80995.0,71391.0,81702.0,82504.0,81205.0,61618.0,82347.0,60474.0,85710.0,70123.0,80812.0,86424.0,86857.0,82072.0,68092.0,76630.0,55260.0,78331.0,81320.0,85072.0,86429.0,78420.0,75114.0,52278.0,95529.0,84169.0,74637.0,72354.0,83033.0,77583.0,74116.0,74293.0,68397.0,79632.0,64950.0,67536.0,64831.0,82025.0,94384.0,70647.0,92955.0,84219.0,80573.0,83715.0,82576.0,53103.0,63693.0,80763.0,82170.0,75759.0,79689.0,85683.0,75437.0,95169.0,83844.0,77568.0,70924.0,64504.0,68316.0,74538.0,91700.0,79593.0,77037.0,70924.0,69098.0,70596.0,72228.0,62845.0,65196.0,83528.0,64176.0,70713.0,88347.0,87171.0,79456.0,75345.0,71691.0,85844.0,83829.0,76045.0,76773.0,81698.0,98777.0,71819.0,86358.0,63998.0,85606.0,72903.0,85696.0,63285.0,57513.0,68142.0,83145.0,79410.0,80685.0,77142.0,81657.0,74214.0,90638.0,54959.0,62000.0,78579.0,67369.0,70091.0,59184.0,84618.0,77044.0,74918.0,68682.0,75032.0,84906.0,76624.0,65106.0,69969.0,67433.0,77766.0,76653.0,90687.0,73450.0,83829.0,85485.0,66303.0,71847.0,78687.0,49118.0,83151.0,78569.0,94384.0,71626.0,81051.0,65169.0,59868.0,64857.0,74805.0,81843.0,77382.0,72828.0,71604.0,71434.0,90842.0,88097.0,71853.0,62845.0,85696.0,76542.0,70515.0,69109.0,80695.0,75154.0,92344.0,75507.0,80134.0,80589.0,63810.0,92533.0,78427.0,82657.0,78041.0,70038.0,77343.0,73892.0,93790.0,83844.0,67419.0,94871.0,65148.0,64857.0,57072.0,60474.0,75484.0,79419.0,76998.0,87679.0,65492.0,71706.0,68487.0,49667.0,78931.0,84219.0,73538.0,79529.0,87188.0,69930.0,82032.0,74004.0,57036.0,69283.0,67786.0,71969.0,59235.0,74881.0,65819.0,67445.0,70179.0,63972.0,75283.0,82800.0,90638.0,81574.0,78093.0,82460.0,81361.0,75794.0,76445.0,90226.0,70638.0,71855.0,68655.0,64509.0,52973.0,66664.0,73059.0,64140.0,57136.0,82014.0,157146.0,72066.0,69084.0,77766.0,86610.0,80141.0,72635.0,69016.0,70440.0,78789.0,58350.0,81217.0,61787.0,73705.0,61064.0,58656.0,83512.0,77520.0,80398.0,92491.0,90273.0,82571.0,74881.0,71107.0,82427.0,70044.0,77437.0,70321.0,81795.0,66835.0,80360.0,72117.0,67131.0,71853.0,70596.0,85431.0,64590.0,71232.0,60839.0,77298.0,82122.0,78416.0,75702.0,90369.0,63159.0,63207.0,72071.0,72282.0,52513.0,78394.0,80739.0,54693.0,80336.0,57333.0,84953.0,83257.0,72159.0,64260.0,82733.0,74290.0,70116.0,69109.0,82326.0,69932.0,72905.0,69702.0,70300.0,70643.0,86979.0,76532.0,67546.0,88420.0,90933.0,113734.0,60491.0,92556.0,67384.0,80573.0,77870.0,52278.0,91249.0,77598.0,80982.0,70617.0,64849.0,75903.0,73356.0,72570.0,70792.0,63211.0,83891.0,80872.0,72335.0,76842.0,96843.0,70053.0,71670.0,74485.0,77226.0,72643.0,85738.0,94642.0,72968.0,91712.0,94472.0,96547.0,63684.0,71964.0,96876.0,68281.0,77027.0,71322.0,68117.0,55914.0,75330.0,61416.0,83273.0,65308.0,76467.0,81044.0,71128.0,70179.0,59462.0,70038.0,67445.0,77610.0,69520.0,68487.0,52247.25135379061,56796.0,87000.0,79823.0,79244.0,80144.0,81929.0,76068.0,67911.0,78128.0,82332.0,66476.0,69805.0,72217.0,84906.0,82333.0,65220.0,72309.0,65487.0,78499.0,69209.0,60896.0,74859.0,72071.0,91172.0,90000.0,65706.0,71965.0,79174.0,81380.0,67716.0,76234.0,84117.0,65487.0,89616.0,82347.0,73803.0,61014.0,88325.0,80617.0,82032.0,75777.0,666666.0,61223.0,56981.0],\"y\":[1617,1315,1782,1730,1672,1196,913,1395,984,1319,1693,1617,1957,1093,1438,1274,1562,1253,863,1890,2209,778,1366,978,1169,1097,969,1820,730,1724,1135,1923,1482,2077,1385,1021,1381,1231,1706,1293,1608,1835,1318,978,1033,1581,1282,1600,1270,1295,1150,1240,1804,1101,1198,1615,1135,1245,1753,1588,1117,2088,1627,1102,1690,1390,2126,1531,1112,1148,1495,1635,930,1478,1919,1374,1213,1157,1611,1508,1307,1283,1161,1442,1674,1853,1538,940,1190,835,1443,1188,1277,1670,2153,1348,1932,1371,1377,1005,1173,1738,1127,1598,1040,1485,1073,1242,1378,1474,1435,2119,1795,1188,1688,1082,1068,1379,1001,971,2059,1289,1495,1288,1743,1388,973,895,2092,1722,1816,976,1445,1210,1157,1924,2089,1902,1651,1727,1291,1895,1168,1062,1919,1600,1008,1772,1957,1572,1065,1230,1867,2086,1478,1151,1193,981,1237,1825,1586,1587,1375,1477,1179,1005,1348,1307,2252,1724,1092,2008,1174,1095,1064,1048,1241,2074,1146,2114,1717,1346,1004,1453,1621,1443,1511,1152,1185,1947,1380,1027,836,1472,1677,1335,1338,1099,902,1574,960,1215,1497,1064,1757,1440,1006,1226,1171,1427,1869,1364,1507,1158,1525,1230,1612,1071,1580,1167,1526,1478,1497,1808,1957,1576,1616,1482,1043,1633,1066,2009,1345,1853,1180,1062,1727,1677,1226,2114,2018,1281,1003,1139,1638,928,1423,1449,1453,1253,1198,1990,1919,1650,1228,1761,1149,2052,1127,1416,1113,966,1829,1120,1187,2302,1079,1778,1198,1564,926,1910,1085,1150,1415,1908,2486,1315,1789,1493,1901,1574,2194,1363,1314,1211,1461,1968,1366,1123,1363,2440,968,1250,1178,1155,1650,1826,1477,2116,1298,1401,2087,1192,1958,1862,1323,1156,1104,2008,1574,1722,1168,1956,2013,1313,1103,1060,1459,1833,1370,1004,990,1097,1711,2525,1232,1020,1812,1461,1161,1072,1672,1065,2047,1598,1215,1631,899,973,1536,992,1529,2279,1779,1804,1862,1383,1286,1192,2130,1229,2346,1736,2302,1305,1501,1189,1194,1540,820,1643,1121,1678,1196,1400,1424,844,1149,1178,1313,1483,1258,1555,1918,1143,1899,1440,1690,1428,1371,1131,1930,2283,1319,1244,1134,1507,2349,1574,1471,1078,1115,1540,1034,1180,1159,1631,1910,2524,1045,1443,1366,1396,943,1198,1658,1638,1923,1662,1234,1658,1513,904,1156,1086,1128,964,1383,1174,1034,1269,1019,1315,2525,1798,1105,974,778,1682,1410,2352,1334,1141,1538,1722,1152,1289,1095,1750,1179,1511,1730,1792,1586,1529,1603,2091,981,1533,1572,1754,1001,1157,1319,1695,1080,1220,2157,1526,1597,2034,1991,1686,964,1327,1456,1504,1125,1376,1382,1033,2231,1073,976,1149,968,1165,1338,917,1250,969,1382,1179,1921,1588,1797,1502,1338,1331,1149,1428,1633,929,1052,1662,1024,1365,1401,1574,1323,1217,1536,1555,2257,1049,1515,1039,1596,1828,1702,820,2126,2069,1685,277,1028,1263,1490,1564,1815,1198,1676,1735,1191,1280,1336,901,1512,1089,1272,1173,816,1336,2092,1130,1544,1012,1766,1734,1138,1429,1371,2211,1958,2217,1691,809,1464,1870,1941,1655,1175,1305,930,1260,1109,1665,1392,1211,1575,1208,1615,1034,1088,1244,1174,1680,1455,1366,1564,1001,961,1518,1216,1367,2053,1376,976,1264,2006,1013,1038,1573,1631,1822,1282,1931,1169,1334,1782,1701,1565,1338,1092,1479,1199,1213,2043,1893,1016,907,1566,1169,1644,1853,1528,1147,1623,1435,1234,1438,62,1341,1241]},{\"mode\":\"markers\",\"name\":\"0\",\"type\":\"scatter\",\"x\":[46344.0,26646.0,33454.0,30351.0,5648.0,52247.25135379061,7500.0,17323.0,41850.0,37760.0,33812.0,37040.0,18589.0,38360.0,10979.0,38620.0,40548.0,49389.0,23718.0,42429.0,20559.0,21994.0,52247.25135379061,7500.0,7500.0,41728.0,52247.25135379061,35790.0,27938.0,52247.25135379061,25721.0,32474.0,52247.25135379061,28332.0,40246.0,26326.0,29760.0,26304.0,23559.0,38620.0,29440.0,36138.0,54178.0,52247.25135379061,42394.0,23626.0,30096.0,51813.0,47823.0,34554.0,24594.0,49096.0,38557.0,50785.0,30753.0,21918.0,32557.0,19510.0,30992.0,54348.0,9548.0,33762.0,35860.0,36921.0,41883.0,23957.0,38547.0,35688.0,49605.0,34176.0,60199.0,55375.0,30523.0,23228.0,43482.0,52332.0,26091.0,33456.0,28718.0,50447.0,53537.0,52074.0,38853.0,38285.0,51650.0,16248.0,30477.0,28249.0,25271.0,32303.0,45759.0,24882.0,36640.0,38872.0,31353.0,40637.0,18890.0,29604.0,44794.0,52195.0,44551.0,45204.0,30732.0,42011.0,34320.0,38590.0,15033.0,22212.0,23661.0,7500.0,60182.0,22804.0,31686.0,31160.0,29938.0,26490.0,30899.0,18701.0,40737.0,15287.0,37717.0,38179.0,38097.0,22070.0,31788.0,29315.0,33378.0,24480.0,37760.0,44319.0,30631.0,32414.0,38361.0,16626.0,29672.0,35388.0,42386.0,35246.0,46377.0,39747.0,23976.0,27038.0,42670.0,12571.0,22574.0,28839.0,40321.0,30833.0,34421.0,47025.0,14849.0,27255.0,54432.0,29999.0,24072.0,33996.0,35178.0,22010.0,30675.0,41411.0,27190.0,44300.0,30372.0,33181.0,38643.0,50737.0,28442.0,37717.0,31615.0,35684.0,29548.0,38578.0,46098.0,22585.0,30279.0,30822.0,33581.0,19986.0,27421.0,35688.0,36143.0,10245.0,38823.0,51012.0,43824.0,15345.0,23442.0,14515.0,31395.0,42373.0,30507.0,48006.0,27213.0,30351.0,23616.0,19789.0,37401.0,30096.0,18492.0,48686.0,10404.0,30015.0,50943.0,32011.0,7500.0,28691.0,56223.0,18100.0,30279.0,20130.0,23295.0,42618.0,24027.0,36230.0,42207.0,50520.0,33183.0,31880.0,37406.0,38415.0,20518.0,41644.0,38961.0,37760.0,32233.0,14045.0,28457.0,55563.0,27203.0,48330.0,24279.0,50943.0,34935.0,39665.0,36443.0,26095.0,30630.0,42691.0,25545.0,32880.0,28567.0,44931.0,22944.0,25315.0,43638.0,24683.0,47850.0,19514.0,27159.0,39548.0,21474.0,22419.0,15315.0,33039.0,52157.0,29298.0,47691.0,38200.0,38443.0,38593.0,36959.0,51287.0,13260.0,47472.0,47821.0,27450.0,39453.0,26850.0,24221.0,39684.0,33178.0,17459.0,23910.0,42169.0,26224.0,31089.0,30081.0,49618.0,21888.0,42429.0,26150.0,30801.0,26877.0,45006.0,18978.0,22574.0,35791.0,54162.0,31632.0,36975.0,13624.0,34487.0,28769.0,32218.0,46102.0,55282.0,29103.0,50616.0,61278.0,26490.0,46734.0,19986.0,25965.0,14661.0,18690.0,45068.0,21063.0,29187.0,54690.0,26751.0,36145.0,38946.0,42315.0,13084.0,47570.0,61923.0,34824.0,26518.0,41335.0,35682.0,35178.0,25252.0,33249.0,50272.0,25851.0,45160.0,18988.0,7500.0,44794.0,35946.0,17487.0,34941.0,48767.0,38702.0,17003.0,33697.0,40662.0,38829.0,35523.0,31626.0,48726.0,46891.0,33622.0,6835.0,41452.0,40760.0,51124.0,36283.0,20587.0,30467.0,31590.0,20425.0,17144.0,16813.0,46524.0,45183.0,19329.0,46984.0,34838.0,56850.0,26872.0,21359.0,30772.0,25804.0,22063.0,22419.0,37859.0,16529.0,55412.0,25130.0,35441.0,45889.0,34026.0,40049.0,34176.0,19419.0,49980.0,15072.0,30843.0,38576.0,37758.0,23228.0,7500.0,19485.0,30545.0,21675.0,42395.0,39922.0,17117.0,24762.0,35797.0,36627.0,51111.0,42243.0,31814.0,26868.0,21846.0,54137.0,45684.0,47889.0,45921.0,35641.0,46015.0,39858.0,34469.0,24401.0,46107.0,25443.0,32892.0,14906.0,39771.0,27922.0,52190.0,44051.0,42767.0,46106.0,16927.0,59041.0,41021.0,40233.0,33471.0,34596.0,40706.0,15716.0,35704.0,46779.0,4861.0,33462.0,35340.0,24884.0,64587.0,34824.0,26091.0,22434.0,19514.0,36736.0,49187.0,34053.0,38196.0,54165.0,32300.0,20180.0,34961.0,28440.0,33564.0,17345.0,28647.0,15038.0,32173.0,31056.0,28071.0,37334.0,46423.0,37126.0,38998.0,8028.0,34728.0,33168.0,33585.0,28764.0,25959.0,27100.0,53312.0,35860.0,16860.0,22304.0,32892.0,39722.0,26907.0,41014.0,40479.0,24163.0,43776.0,39190.0,38578.0,57236.0,27590.0,30023.0,50870.0,15315.0,54466.0,16269.0,33569.0,36262.0,22634.0,31605.0,48526.0,46931.0,16581.0,25930.0,42693.0,36778.0,10979.0,37155.0,21282.0,33419.0,21255.0,42162.0,26576.0,7500.0,54197.0,23091.0,44375.0,40344.0,48985.0,35322.0,14421.0,20130.0,23724.0,47353.0,33444.0,28510.0,43140.0,15056.0,26954.0,22327.0,44393.0,31497.0,45894.0,58401.0,62307.0,43641.0,46891.0,54809.0,51412.0,15287.0,18351.0,40451.0,36317.0,42160.0,33629.0,34377.0,8940.0,26228.0,40211.0,33438.0,22518.0,38452.0,44421.0,38197.0,41986.0,28427.0,37395.0,55249.0,28691.0,44213.0,25707.0,59062.0,27683.0,1730.0,7500.0,40521.0,20427.0,39356.0,35860.0,31454.0,47139.0,19656.0,45579.0,38808.0,23748.0,37368.0,40800.0,37633.0,26997.0,33986.0,46831.0,15759.0,22804.0,43050.0,42997.0,48918.0,60033.0,34043.0,7500.0,23148.0,27238.0,46094.0,40321.0,37235.0,18393.0,24711.0,45503.0,6560.0,27244.0,35876.0,40049.0,39660.0,18929.0,24367.0,33249.0,26887.0,18227.0,38136.0,33316.0,17256.0,37971.0,41335.0,50523.0,35791.0,21355.0,46390.0,54342.0,52247.25135379061,52247.25135379061,20895.0,52247.25135379061,26907.0,44964.0,22682.0,38887.0,41658.0,29791.0,39996.0,26759.0,37716.0,36864.0,36947.0,36957.0,43142.0,34412.0,22634.0,51315.0,36026.0,24639.0,34578.0,54132.0,18690.0,28164.0,34596.0,43269.0,38741.0,31907.0,27100.0,31163.0,34853.0,31086.0,20491.0,42523.0,39922.0,33402.0,36408.0,21645.0,46053.0,40304.0,43300.0,26290.0,46015.0,16531.0,28072.0,41145.0,23162.0,34380.0,34704.0,39898.0,59892.0,41020.0,19414.0,19107.0,35765.0,32952.0,31163.0,46098.0,20981.0,51766.0,33039.0,37787.0,27242.0,37697.0,37401.0,3502.0,28087.0,19740.0,46098.0,23331.0,23331.0,9255.0,31928.0,51411.0,42386.0,30390.0,30983.0,37284.0,57530.0,37054.0,31859.0,27215.0,39922.0,24645.0,44322.0,38998.0,27161.0,38201.0,45203.0,34935.0,34633.0,45903.0,35860.0,40442.0,31497.0,13724.0,52569.0,17144.0,36108.0,36663.0,44512.0,27116.0,54072.0,12393.0,33955.0,31353.0,28359.0,51717.0,18793.0,54549.0,19444.0,36301.0,42731.0,52854.0,22775.0,44078.0,30560.0,35924.0,24594.0,39228.0,56551.0,22448.0,34213.0,25358.0,35544.0,36634.0,34916.0,43602.0,33996.0,41473.0,36732.0,37929.0,20193.0,27573.0,15862.0,33228.0,38232.0,22554.0,23536.0,42231.0,18169.0,24336.0,18222.0,42033.0,41437.0,38452.0,18358.0,9722.0,38175.0,54222.0,41154.0,18746.0,22108.0,44392.0,17688.0,16653.0,23529.0,46910.0,18690.0,37244.0,42403.0,55761.0,45576.0,28389.0,31859.0,30372.0,16014.0,41120.0,39763.0,38725.0,13533.0,21955.0,36802.0,28249.0,47808.0,25509.0,51012.0,42664.0,29760.0,28973.0,39435.0,20194.0,42473.0,36075.0,34026.0,48918.0,37697.0,34074.0,28520.0,36273.0,59385.0,44689.0,18701.0,37758.0,21840.0,32583.0,44635.0,33316.0,25293.0,22669.0,29236.0,44911.0,48186.0,54809.0,41580.0,32313.0,27071.0,4023.0,30093.0,25008.0,22280.0,58217.0,21024.0,11448.0,32889.0,34738.0,26642.0,44503.0,49638.0,23830.0,30396.0,50616.0,30298.0,44155.0,31158.0,49160.0,24882.0,45759.0,22148.0,29819.0,33235.0,35701.0,31535.0,18929.0,36038.0,20180.0,34230.0,31878.0,22701.0,61917.0,21059.0,29543.0,34984.0,34242.0,25410.0,28320.0,23763.0,34529.0,36065.0,39898.0,51141.0,29478.0,56551.0,44359.0,40887.0,48877.0,39062.0,54690.0,38236.0,36781.0,31385.0,24570.0,25509.0,58646.0,21994.0,23477.0,39791.0,13672.0,24206.0,28420.0,22979.0,33279.0,46423.0,30368.0,39146.0,37284.0,36790.0,27943.0,22263.0,30261.0,28587.0,43815.0,32765.0,29672.0,23272.0,7500.0,17649.0,40059.0,38680.0,29009.0,45057.0,43020.0,53154.0,32871.0,36927.0,48794.0,23478.0,38361.0,52247.25135379061,42554.0,42192.0,31761.0,34350.0,25293.0,27889.0,22123.0,52247.25135379061,52247.25135379061,27803.0,30828.0,34109.0,22390.0,48699.0,53204.0,14796.0,14188.0,20425.0,58646.0,48150.0,34587.0,43018.0,27733.0,25818.0,37509.0,25176.0,43586.0,50116.0,33590.0,30992.0,16005.0,20587.0,62637.0,29435.0,19346.0,35788.0,36997.0,23539.0,29732.0,41275.0,42769.0,49572.0,17148.0,30560.0,32146.0,41713.0,34176.0,15253.0,31560.0,41967.0,38946.0,26067.0,42523.0,26487.0,53233.0,25224.0,40851.0,27469.0,8820.0,43322.0,37085.0,16185.0,18929.0,35893.0,32144.0,14918.0,45146.0,38054.0,5305.0,36807.0,28427.0,22775.0,7500.0,33562.0,52247.25135379061,24434.0,11012.0,26816.0,34421.0,52869.0],\"y\":[27,53,169,46,49,19,61,46,96,317,133,316,75,131,30,318,120,65,81,67,53,22,186,31,122,55,124,72,29,46,34,11,109,65,13,18,165,16,79,318,56,151,194,18,32,43,45,63,72,55,29,187,145,114,81,33,80,30,43,90,29,106,49,38,312,68,22,211,127,89,18,162,13,121,88,259,89,36,57,148,93,119,45,10,191,57,66,43,50,39,68,80,65,91,31,38,35,53,65,17,285,114,185,189,17,22,19,69,23,57,22,26,17,64,26,210,33,44,17,31,25,90,184,67,60,48,99,102,317,37,70,52,137,68,25,32,100,62,90,273,66,107,241,53,37,32,102,28,30,20,65,37,38,160,23,71,59,33,62,139,18,42,44,16,49,99,57,25,51,30,29,73,120,81,37,51,17,22,324,211,19,41,114,209,186,47,27,96,64,163,343,41,70,46,79,78,48,45,10,20,43,57,46,122,36,34,156,14,37,34,20,192,48,59,265,135,120,15,17,44,25,31,70,54,296,20,205,43,64,32,263,46,137,216,138,42,52,358,210,42,46,96,76,54,201,41,134,69,21,54,91,162,64,78,265,11,21,17,38,177,62,182,49,75,47,143,55,63,55,81,49,69,67,30,63,79,42,129,213,67,28,45,268,266,37,37,35,42,95,33,36,103,191,93,16,235,48,67,165,210,223,22,74,26,60,20,59,34,198,11,172,257,270,29,121,126,23,57,187,57,59,18,112,233,48,21,16,71,65,11,18,97,63,109,38,28,92,99,66,86,242,183,81,137,16,93,43,29,25,24,38,57,47,50,177,315,60,41,170,63,72,48,20,55,55,162,36,22,63,50,39,46,76,290,89,70,195,53,35,41,40,40,15,10,69,45,182,156,128,86,68,16,55,55,83,14,84,203,28,67,199,178,46,95,62,467,125,32,46,66,50,41,77,171,131,54,53,96,64,149,93,23,81,92,94,23,6,54,45,19,108,23,89,58,69,17,116,103,44,236,39,137,79,63,71,58,94,80,22,55,313,62,92,72,54,178,36,122,122,12,56,37,278,49,38,18,46,47,22,20,15,17,23,133,73,121,12,61,63,64,16,44,63,426,96,125,135,78,24,15,57,77,30,74,46,86,61,145,27,18,237,48,301,218,75,106,16,34,75,225,18,91,235,88,17,24,60,155,51,96,160,139,183,174,195,31,43,49,133,140,152,114,101,25,87,90,61,72,189,40,63,52,39,130,34,152,21,71,351,8,119,21,10,23,49,48,83,84,183,246,76,30,99,38,434,44,78,17,26,76,15,62,198,49,57,37,57,44,102,61,50,58,170,373,101,129,32,299,85,24,112,30,28,103,131,62,30,187,91,35,68,222,177,45,21,45,42,22,41,95,42,72,20,15,59,188,354,146,152,20,209,96,222,61,44,8,42,60,78,23,19,61,449,37,38,34,48,30,125,156,70,22,65,209,57,180,77,46,44,47,13,65,175,40,134,87,217,32,46,75,55,38,120,73,275,78,106,106,84,48,5,112,55,120,103,269,22,72,18,100,80,167,23,92,25,20,102,156,17,92,54,52,268,147,137,15,66,49,169,155,58,95,47,339,35,32,41,39,57,270,31,16,122,77,233,54,78,244,116,15,41,31,34,29,20,138,55,117,32,67,335,231,68,71,76,47,265,82,244,36,71,122,41,10,37,21,31,67,25,32,72,57,103,153,264,69,64,31,211,11,69,54,68,60,55,42,184,145,28,48,44,38,81,167,45,48,55,20,43,224,101,209,24,165,269,102,47,144,119,76,62,84,255,43,76,185,34,44,40,27,9,68,131,37,173,99,215,219,174,92,159,35,9,69,34,13,103,84,14,55,20,42,48,39,43,34,149,28,46,72,236,80,68,49,39,70,46,51,85,47,137,21,70,24,91,44,63,38,15,38,43,42,162,74,134,157,20,138,45,161,144,44,198,88,63,27,193,101,140,22,147,174,25,25,13,115,16,92,52,165,23,66,37,21,22,78,79,46,25,46,100,45,414,79,44,50,223,158,43,71,54,129,137,47,41,100,98,48,37,26,102,97,207,176,56,22,26,40,45,51,75,57,140,266,22,133,57,28,123,13,132,66,8,43,103,25,185,180,22,44,94,81,38,61,88,54,68,31,66,174,28,29,94,54,257,56,125,69,40,46,59,17,35,141,61,106,85,199,54,43,53,45,32,16,52,15,53,51,1679,50,84,22,30,172]},{\"mode\":\"markers\",\"name\":\"2\",\"type\":\"scatter\",\"x\":[71613.0,58293.0,62513.0,55635.0,63033.0,59354.0,58607.0,65324.0,40689.0,53359.0,52247.25135379061,46610.0,48948.0,65486.0,66373.0,55954.0,66653.0,61823.0,67680.0,70666.0,69096.0,60631.0,56046.0,50388.0,52247.25135379061,52247.25135379061,47916.0,50150.0,65846.0,52413.0,89058.0,57288.0,43974.0,36550.0,56129.0,71488.0,52247.25135379061,77376.0,62998.0,61331.0,73448.0,52247.25135379061,41551.0,65104.0,68352.0,59809.0,59354.0,65747.0,46344.0,49967.0,62551.0,66951.0,61286.0,51148.0,69661.0,46854.0,69142.0,48721.0,46097.0,44377.0,46014.0,41443.0,72460.0,77622.0,51369.0,51537.0,37070.0,79761.0,64961.0,63342.0,45989.0,69674.0,44159.0,43776.0,72940.0,61905.0,66313.0,60714.0,77882.0,69867.0,63841.0,51369.0,65640.0,50898.0,35416.0,68627.0,57912.0,58821.0,64100.0,54198.0,66503.0,52247.25135379061,64795.0,40464.0,62204.0,55212.0,59292.0,69759.0,65073.0,46681.0,62187.0,51479.0,54803.0,52614.0,48178.0,43795.0,62499.0,70777.0,55521.0,65808.0,50437.0,53858.0,46923.0,49505.0,61314.0,42387.0,67272.0,51529.0,55707.0,57959.0,70829.0,38988.0,50300.0,60597.0,70165.0,53790.0,49269.0,56937.0,55842.0,62010.0,41124.0,43057.0,83151.0,65104.0,60093.0,46310.0,58308.0,55614.0,59432.0,65275.0,65665.0,61250.0,60152.0,48920.0,44124.0,71367.0,50353.0,49154.0,47682.0,57954.0,65316.0,47352.0,57247.0,42710.0,54058.0,60504.0,43462.0,54880.0,71499.0,62466.0,48799.0,44989.0,64413.0,54603.0,45207.0,40689.0,61794.0,53863.0,59973.0,62807.0,61467.0,48240.0,45837.0,162397.0,30522.0,54456.0,72298.0,65488.0,62466.0,56181.0,45906.0,46463.0,66886.0,49431.0,153924.0,56253.0,59247.0,66731.0,77353.0,52614.0,70337.0,65295.0,68118.0,41039.0,66476.0,69476.0,50611.0,61209.0,45938.0,78901.0,71427.0,43185.0,66375.0,55250.0,58398.0,74806.0,59111.0,56962.0,53593.0,66373.0,45072.0,70545.0,51518.0,79146.0,75127.0,62058.0,72063.0,42720.0,42564.0,43783.0,40780.0,82017.0,51267.0,70421.0,61872.0,49681.0,55267.0,59666.0,73170.0,52750.0,65968.0,22507.0,65685.0,57091.0,48789.0,56575.0,49494.0,56628.0,55284.0,49166.0,65324.0,46374.0,55357.0,44602.0,38683.0,49514.0,57906.0,43456.0,53172.0,62450.0,61346.0,42835.0,46231.0,51195.0,51390.0,48948.0,64090.0,37087.0,66825.0,57100.0,58917.0,62820.0,73113.0,42607.0,75127.0,71796.0,55239.0,60554.0,56067.0,51563.0,57937.0,68274.0,67893.0,59754.0,53700.0,54237.0,52597.0,50183.0,54753.0,44010.0,59052.0,56962.0,65352.0,42021.0,64449.0,52845.0,46086.0,78028.0,56337.0,36930.0,36130.0,65569.0,30168.0,59412.0,56320.0,68695.0,47703.0,61180.0,76081.0,35196.0,44529.0,42557.0,67605.0,42000.0,65526.0,67023.0,59925.0,46610.0,50014.0,66294.0,36715.0,54233.0,84460.0,71367.0,61825.0,79803.0,80910.0,56775.0,54210.0,38508.0,53187.0,65463.0,66480.0,47025.0,70566.0,52034.0,46734.0,39552.0,67381.0,49669.0,49678.0,56129.0,54450.0,57744.0,46049.0,56715.0,57304.0,54450.0,59594.0,62710.0,66726.0,54386.0,48070.0,63841.0,78075.0,58113.0,66636.0,50965.0,42213.0,65748.0,56721.0,61559.0,77297.0,61284.0,54730.0,64722.0,66000.0,74716.0,68118.0,55158.0,62972.0,74190.0,53378.0,55956.0,64191.0,57183.0,46149.0,39767.0,57091.0,52531.0,57811.0,157733.0,44267.0,60894.0,50200.0,65695.0,45143.0,59060.0,47009.0,46692.0,37774.0,48752.0,51948.0,50127.0,43263.0,50150.0,62061.0,69139.0,69627.0,62159.0,58554.0,53034.0,52203.0,59601.0,47025.0,67267.0,57338.0,50611.0,56242.0,48904.0,56243.0,57420.0,52247.25135379061,53761.0,63915.0,63841.0,51039.0,60544.0,65685.0,44511.0,47352.0,67087.0,57045.0,69389.0,57537.0,65704.0,70844.0,60544.0,51876.0,52852.0,69401.0,32727.0,68695.0,38410.0,64866.0,57957.0,49476.0,50725.0,62807.0,70379.0,64014.0,49854.0,60585.0,42873.0,57867.0,53374.0,53253.0,42014.0,54108.0,63206.0,57136.0,46772.0,53977.0,55759.0,58597.0,53083.0,51983.0,66033.0,76800.0,63943.0,76081.0,47175.0,49681.0,79865.0,47958.0,75315.0,55517.0,42014.0,60482.0,61482.0,34968.0,74268.0,45143.0,48432.0,53843.0,51250.0,60432.0,65526.0,55434.0,57100.0,69139.0,50664.0,54414.0,47111.0,41003.0,46681.0,59821.0,50002.0,69755.0,56386.0,75774.0,58494.0,58684.0,62670.0,50334.0,50729.0,64892.0,63246.0,49544.0,49413.0,56534.0,49090.0,62335.0,86580.0,55012.0,52117.0,64813.0,35196.0,60230.0,55424.0,38513.0,42586.0,75342.0,79146.0,54984.0,37292.0,58086.0,69901.0,63342.0,44989.0,51569.0,77981.0,62905.0,59481.0,42586.0,65370.0,34600.0,46904.0,49094.0,62535.0,63404.0,75774.0,37070.0,53977.0,7144.0,46757.0,79734.0,58582.0,50387.0,62568.0,63967.0,54111.0,47743.0,62972.0,68148.0,65735.0,86836.0,57705.0,54006.0,69063.0,61825.0,70886.0,60208.0,30538.0,60200.0,33051.0,62772.0,52413.0,42081.0,61671.0,69719.0,59292.0,73395.0,45688.0,62820.0,57107.0,70932.0,55212.0,62694.0,67472.0,54998.0,54356.0,56939.0,61798.0,46998.0,64474.0,55686.0,34600.0,40794.0,4428.0,32632.0,53201.0,57113.0,51373.0,58116.0,79205.0,56559.0,32644.0,67506.0,41638.0,68805.0,65814.0,34445.0,48195.0,49912.0,67225.0,60905.0,60689.0,49767.0,37150.0,55801.0,76320.0,52247.25135379061,67046.0,54591.0,71866.0,42000.0,64713.0,52247.25135379061,51651.0,53367.0,71322.0,49912.0,54252.0,72967.0,58275.0,44953.0,45736.0,53230.0,61286.0,156924.0,58692.0,40590.0,65333.0,63516.0,40590.0,58482.0,59686.0,62994.0,47320.0,69263.0,60934.0,65210.0,48432.0,52914.0,44325.0,55593.0,50501.0,57731.0,48432.0,73807.0,41769.0,40101.0,58025.0,57642.0,58554.0,63777.0,57967.0,44802.0,64014.0,69245.0],\"y\":[776,422,716,590,1102,310,972,544,444,257,637,302,902,507,606,518,612,884,606,1076,653,661,692,372,603,985,606,410,1120,910,850,608,551,577,660,559,404,661,463,632,725,725,279,1053,871,877,459,460,429,306,421,1117,608,315,834,263,535,293,241,264,541,482,1047,714,576,1103,433,605,1009,1101,322,845,275,275,981,231,770,957,818,925,908,576,461,859,390,825,916,728,546,235,401,1052,680,630,946,1182,507,1029,900,425,636,494,693,990,254,492,222,787,446,272,490,915,369,751,1008,684,733,467,428,868,431,348,270,893,926,542,890,906,518,530,506,266,747,1053,735,309,900,682,663,746,945,730,943,347,397,777,442,411,521,493,260,319,232,406,662,526,240,795,795,889,331,369,279,227,215,444,611,473,382,819,594,882,373,107,326,404,939,963,889,393,486,235,599,365,6,597,574,1029,670,990,576,664,928,467,689,1044,493,957,636,734,614,637,948,903,596,965,869,411,480,606,284,334,449,564,833,450,758,654,813,629,377,729,270,767,573,458,405,1027,726,860,495,570,769,577,680,542,385,761,764,368,544,446,727,292,341,369,401,393,486,995,989,595,263,564,353,902,797,401,858,409,282,976,1001,350,833,960,779,811,725,1250,683,305,995,475,694,361,578,231,728,662,491,411,405,573,805,936,343,528,724,297,488,859,279,406,702,1091,655,704,1033,497,691,270,938,653,506,906,766,467,396,967,357,981,523,777,424,868,756,937,367,443,267,562,312,635,757,332,330,384,957,326,315,660,684,411,515,1020,1026,684,499,606,438,470,504,908,988,758,1084,685,363,545,296,530,789,811,405,805,711,860,928,418,587,641,793,999,825,610,362,485,496,794,802,59,310,832,401,656,311,274,448,397,473,316,311,320,441,410,800,227,861,634,586,447,939,797,415,251,237,493,971,371,396,322,317,325,789,908,417,289,769,727,319,794,454,797,545,817,294,289,310,879,690,529,1091,534,556,637,795,586,819,860,444,380,736,269,612,1064,436,436,747,928,642,1048,907,854,733,271,793,677,641,1106,1033,240,458,792,407,841,633,436,507,299,221,892,311,424,562,710,401,506,882,311,227,561,211,1092,601,425,734,638,894,612,823,396,813,825,694,496,902,772,404,304,815,688,708,746,660,279,745,497,1067,877,324,252,563,564,358,460,792,882,1101,369,467,664,622,461,252,461,318,253,502,398,902,823,433,907,416,1143,914,763,525,953,882,388,275,587,1042,395,557,486,581,928,424,960,656,367,685,835,946,450,382,732,801,507,397,306,976,416,909,1182,749,414,455,775,561,463,377,823,982,318,434,359,576,415,263,393,443,895,484,413,331,441,283,747,839,265,874,868,392,639,692,467,527,932,721,993,519,715,653,602,450,433,400,350,874,264,497,615,1021,437,732,608,8,395,258,798,300,258,731,274,312,414,568,873,731,424,575,542,546,500,704,424,849,521,415,470,679,586,653,468,1049,444,843]}],                        {\"font\":{\"color\":\"RebeccaPurple\",\"family\":\"Roboto\",\"size\":18},\"template\":{\"data\":{\"bar\":[{\"error_x\":{\"color\":\"#2a3f5f\"},\"error_y\":{\"color\":\"#2a3f5f\"},\"marker\":{\"line\":{\"color\":\"#E5ECF6\",\"width\":0.5},\"pattern\":{\"fillmode\":\"overlay\",\"size\":10,\"solidity\":0.2}},\"type\":\"bar\"}],\"barpolar\":[{\"marker\":{\"line\":{\"color\":\"#E5ECF6\",\"width\":0.5},\"pattern\":{\"fillmode\":\"overlay\",\"size\":10,\"solidity\":0.2}},\"type\":\"barpolar\"}],\"carpet\":[{\"aaxis\":{\"endlinecolor\":\"#2a3f5f\",\"gridcolor\":\"white\",\"linecolor\":\"white\",\"minorgridcolor\":\"white\",\"startlinecolor\":\"#2a3f5f\"},\"baxis\":{\"endlinecolor\":\"#2a3f5f\",\"gridcolor\":\"white\",\"linecolor\":\"white\",\"minorgridcolor\":\"white\",\"startlinecolor\":\"#2a3f5f\"},\"type\":\"carpet\"}],\"choropleth\":[{\"colorbar\":{\"outlinewidth\":0,\"ticks\":\"\"},\"type\":\"choropleth\"}],\"contour\":[{\"colorbar\":{\"outlinewidth\":0,\"ticks\":\"\"},\"colorscale\":[[0.0,\"#0d0887\"],[0.1111111111111111,\"#46039f\"],[0.2222222222222222,\"#7201a8\"],[0.3333333333333333,\"#9c179e\"],[0.4444444444444444,\"#bd3786\"],[0.5555555555555556,\"#d8576b\"],[0.6666666666666666,\"#ed7953\"],[0.7777777777777778,\"#fb9f3a\"],[0.8888888888888888,\"#fdca26\"],[1.0,\"#f0f921\"]],\"type\":\"contour\"}],\"contourcarpet\":[{\"colorbar\":{\"outlinewidth\":0,\"ticks\":\"\"},\"type\":\"contourcarpet\"}],\"heatmap\":[{\"colorbar\":{\"outlinewidth\":0,\"ticks\":\"\"},\"colorscale\":[[0.0,\"#0d0887\"],[0.1111111111111111,\"#46039f\"],[0.2222222222222222,\"#7201a8\"],[0.3333333333333333,\"#9c179e\"],[0.4444444444444444,\"#bd3786\"],[0.5555555555555556,\"#d8576b\"],[0.6666666666666666,\"#ed7953\"],[0.7777777777777778,\"#fb9f3a\"],[0.8888888888888888,\"#fdca26\"],[1.0,\"#f0f921\"]],\"type\":\"heatmap\"}],\"heatmapgl\":[{\"colorbar\":{\"outlinewidth\":0,\"ticks\":\"\"},\"colorscale\":[[0.0,\"#0d0887\"],[0.1111111111111111,\"#46039f\"],[0.2222222222222222,\"#7201a8\"],[0.3333333333333333,\"#9c179e\"],[0.4444444444444444,\"#bd3786\"],[0.5555555555555556,\"#d8576b\"],[0.6666666666666666,\"#ed7953\"],[0.7777777777777778,\"#fb9f3a\"],[0.8888888888888888,\"#fdca26\"],[1.0,\"#f0f921\"]],\"type\":\"heatmapgl\"}],\"histogram\":[{\"marker\":{\"pattern\":{\"fillmode\":\"overlay\",\"size\":10,\"solidity\":0.2}},\"type\":\"histogram\"}],\"histogram2d\":[{\"colorbar\":{\"outlinewidth\":0,\"ticks\":\"\"},\"colorscale\":[[0.0,\"#0d0887\"],[0.1111111111111111,\"#46039f\"],[0.2222222222222222,\"#7201a8\"],[0.3333333333333333,\"#9c179e\"],[0.4444444444444444,\"#bd3786\"],[0.5555555555555556,\"#d8576b\"],[0.6666666666666666,\"#ed7953\"],[0.7777777777777778,\"#fb9f3a\"],[0.8888888888888888,\"#fdca26\"],[1.0,\"#f0f921\"]],\"type\":\"histogram2d\"}],\"histogram2dcontour\":[{\"colorbar\":{\"outlinewidth\":0,\"ticks\":\"\"},\"colorscale\":[[0.0,\"#0d0887\"],[0.1111111111111111,\"#46039f\"],[0.2222222222222222,\"#7201a8\"],[0.3333333333333333,\"#9c179e\"],[0.4444444444444444,\"#bd3786\"],[0.5555555555555556,\"#d8576b\"],[0.6666666666666666,\"#ed7953\"],[0.7777777777777778,\"#fb9f3a\"],[0.8888888888888888,\"#fdca26\"],[1.0,\"#f0f921\"]],\"type\":\"histogram2dcontour\"}],\"mesh3d\":[{\"colorbar\":{\"outlinewidth\":0,\"ticks\":\"\"},\"type\":\"mesh3d\"}],\"parcoords\":[{\"line\":{\"colorbar\":{\"outlinewidth\":0,\"ticks\":\"\"}},\"type\":\"parcoords\"}],\"pie\":[{\"automargin\":true,\"type\":\"pie\"}],\"scatter\":[{\"marker\":{\"colorbar\":{\"outlinewidth\":0,\"ticks\":\"\"}},\"type\":\"scatter\"}],\"scatter3d\":[{\"line\":{\"colorbar\":{\"outlinewidth\":0,\"ticks\":\"\"}},\"marker\":{\"colorbar\":{\"outlinewidth\":0,\"ticks\":\"\"}},\"type\":\"scatter3d\"}],\"scattercarpet\":[{\"marker\":{\"colorbar\":{\"outlinewidth\":0,\"ticks\":\"\"}},\"type\":\"scattercarpet\"}],\"scattergeo\":[{\"marker\":{\"colorbar\":{\"outlinewidth\":0,\"ticks\":\"\"}},\"type\":\"scattergeo\"}],\"scattergl\":[{\"marker\":{\"colorbar\":{\"outlinewidth\":0,\"ticks\":\"\"}},\"type\":\"scattergl\"}],\"scattermapbox\":[{\"marker\":{\"colorbar\":{\"outlinewidth\":0,\"ticks\":\"\"}},\"type\":\"scattermapbox\"}],\"scatterpolar\":[{\"marker\":{\"colorbar\":{\"outlinewidth\":0,\"ticks\":\"\"}},\"type\":\"scatterpolar\"}],\"scatterpolargl\":[{\"marker\":{\"colorbar\":{\"outlinewidth\":0,\"ticks\":\"\"}},\"type\":\"scatterpolargl\"}],\"scatterternary\":[{\"marker\":{\"colorbar\":{\"outlinewidth\":0,\"ticks\":\"\"}},\"type\":\"scatterternary\"}],\"surface\":[{\"colorbar\":{\"outlinewidth\":0,\"ticks\":\"\"},\"colorscale\":[[0.0,\"#0d0887\"],[0.1111111111111111,\"#46039f\"],[0.2222222222222222,\"#7201a8\"],[0.3333333333333333,\"#9c179e\"],[0.4444444444444444,\"#bd3786\"],[0.5555555555555556,\"#d8576b\"],[0.6666666666666666,\"#ed7953\"],[0.7777777777777778,\"#fb9f3a\"],[0.8888888888888888,\"#fdca26\"],[1.0,\"#f0f921\"]],\"type\":\"surface\"}],\"table\":[{\"cells\":{\"fill\":{\"color\":\"#EBF0F8\"},\"line\":{\"color\":\"white\"}},\"header\":{\"fill\":{\"color\":\"#C8D4E3\"},\"line\":{\"color\":\"white\"}},\"type\":\"table\"}]},\"layout\":{\"annotationdefaults\":{\"arrowcolor\":\"#2a3f5f\",\"arrowhead\":0,\"arrowwidth\":1},\"autotypenumbers\":\"strict\",\"coloraxis\":{\"colorbar\":{\"outlinewidth\":0,\"ticks\":\"\"}},\"colorscale\":{\"diverging\":[[0,\"#8e0152\"],[0.1,\"#c51b7d\"],[0.2,\"#de77ae\"],[0.3,\"#f1b6da\"],[0.4,\"#fde0ef\"],[0.5,\"#f7f7f7\"],[0.6,\"#e6f5d0\"],[0.7,\"#b8e186\"],[0.8,\"#7fbc41\"],[0.9,\"#4d9221\"],[1,\"#276419\"]],\"sequential\":[[0.0,\"#0d0887\"],[0.1111111111111111,\"#46039f\"],[0.2222222222222222,\"#7201a8\"],[0.3333333333333333,\"#9c179e\"],[0.4444444444444444,\"#bd3786\"],[0.5555555555555556,\"#d8576b\"],[0.6666666666666666,\"#ed7953\"],[0.7777777777777778,\"#fb9f3a\"],[0.8888888888888888,\"#fdca26\"],[1.0,\"#f0f921\"]],\"sequentialminus\":[[0.0,\"#0d0887\"],[0.1111111111111111,\"#46039f\"],[0.2222222222222222,\"#7201a8\"],[0.3333333333333333,\"#9c179e\"],[0.4444444444444444,\"#bd3786\"],[0.5555555555555556,\"#d8576b\"],[0.6666666666666666,\"#ed7953\"],[0.7777777777777778,\"#fb9f3a\"],[0.8888888888888888,\"#fdca26\"],[1.0,\"#f0f921\"]]},\"colorway\":[\"#636efa\",\"#EF553B\",\"#00cc96\",\"#ab63fa\",\"#FFA15A\",\"#19d3f3\",\"#FF6692\",\"#B6E880\",\"#FF97FF\",\"#FECB52\"],\"font\":{\"color\":\"#2a3f5f\"},\"geo\":{\"bgcolor\":\"white\",\"lakecolor\":\"white\",\"landcolor\":\"#E5ECF6\",\"showlakes\":true,\"showland\":true,\"subunitcolor\":\"white\"},\"hoverlabel\":{\"align\":\"left\"},\"hovermode\":\"closest\",\"mapbox\":{\"style\":\"light\"},\"paper_bgcolor\":\"white\",\"plot_bgcolor\":\"#E5ECF6\",\"polar\":{\"angularaxis\":{\"gridcolor\":\"white\",\"linecolor\":\"white\",\"ticks\":\"\"},\"bgcolor\":\"#E5ECF6\",\"radialaxis\":{\"gridcolor\":\"white\",\"linecolor\":\"white\",\"ticks\":\"\"}},\"scene\":{\"xaxis\":{\"backgroundcolor\":\"#E5ECF6\",\"gridcolor\":\"white\",\"gridwidth\":2,\"linecolor\":\"white\",\"showbackground\":true,\"ticks\":\"\",\"zerolinecolor\":\"white\"},\"yaxis\":{\"backgroundcolor\":\"#E5ECF6\",\"gridcolor\":\"white\",\"gridwidth\":2,\"linecolor\":\"white\",\"showbackground\":true,\"ticks\":\"\",\"zerolinecolor\":\"white\"},\"zaxis\":{\"backgroundcolor\":\"#E5ECF6\",\"gridcolor\":\"white\",\"gridwidth\":2,\"linecolor\":\"white\",\"showbackground\":true,\"ticks\":\"\",\"zerolinecolor\":\"white\"}},\"shapedefaults\":{\"line\":{\"color\":\"#2a3f5f\"}},\"ternary\":{\"aaxis\":{\"gridcolor\":\"white\",\"linecolor\":\"white\",\"ticks\":\"\"},\"baxis\":{\"gridcolor\":\"white\",\"linecolor\":\"white\",\"ticks\":\"\"},\"bgcolor\":\"#E5ECF6\",\"caxis\":{\"gridcolor\":\"white\",\"linecolor\":\"white\",\"ticks\":\"\"}},\"title\":{\"x\":0.05},\"xaxis\":{\"automargin\":true,\"gridcolor\":\"white\",\"linecolor\":\"white\",\"ticks\":\"\",\"title\":{\"standoff\":15},\"zerolinecolor\":\"white\",\"zerolinewidth\":2},\"yaxis\":{\"automargin\":true,\"gridcolor\":\"white\",\"linecolor\":\"white\",\"ticks\":\"\",\"title\":{\"standoff\":15},\"zerolinecolor\":\"white\",\"zerolinewidth\":2}}},\"title\":{\"text\":\"2D Customer Segmentation\"},\"xaxis\":{\"range\":[0,150000],\"title\":{\"text\":\"Income\"}},\"yaxis\":{\"title\":{\"text\":\"Total Money Spent\"}}},                        {\"responsive\": true}                    ).then(function(){\n",
       "                            \n",
       "var gd = document.getElementById('f3da486c-81f5-40b1-87d5-577d9d435cbf');\n",
       "var x = new MutationObserver(function (mutations, observer) {{\n",
       "        var display = window.getComputedStyle(gd).display;\n",
       "        if (!display || display === 'none') {{\n",
       "            console.log([gd, 'removed!']);\n",
       "            Plotly.purge(gd);\n",
       "            observer.disconnect();\n",
       "        }}\n",
       "}});\n",
       "\n",
       "// Listen for the removal of the full notebook cells\n",
       "var notebookContainer = gd.closest('#notebook-container');\n",
       "if (notebookContainer) {{\n",
       "    x.observe(notebookContainer, {childList: true});\n",
       "}}\n",
       "\n",
       "// Listen for the clearing of the current output cell\n",
       "var outputEl = gd.closest('.output');\n",
       "if (outputEl) {{\n",
       "    x.observe(outputEl, {childList: true});\n",
       "}}\n",
       "\n",
       "                        })                };                });            </script>        </div>"
      ]
     },
     "metadata": {},
     "output_type": "display_data"
    }
   ],
   "source": [
    "import plotly.express as px\n",
    "import plotly.graph_objects as go\n",
    "\n",
    "\n",
    "fig = go.Figure()\n",
    "traces = []\n",
    "\n",
    "for clusterid in df['Cluster'].unique():\n",
    "    X = df.loc[df['Cluster'] == clusterid, 'Income'].values\n",
    "    y = df.loc[df['Cluster'] == clusterid, 'Total_Spent'].values\n",
    "    tempTrace = go.Scatter(name = str(clusterid), x = X, y = y, mode = 'markers')\n",
    "    traces.append(tempTrace)\n",
    "    \n",
    "for trace in traces:\n",
    "    fig.add_trace(trace)\n",
    "\n",
    "fig.update_layout(\n",
    "    title=\"2D Customer Segmentation\",\n",
    "    xaxis_title=\"Income\",\n",
    "    yaxis_title=\"Total Money Spent\",\n",
    "    font=dict(\n",
    "        family=\"Roboto\",\n",
    "        size=18,\n",
    "        color=\"RebeccaPurple\"\n",
    "    )\n",
    ")\n",
    "\n",
    "fig.update_xaxes(range=[0,150000])\n",
    "fig.show()"
   ]
  },
  {
   "cell_type": "code",
   "execution_count": 29,
   "id": "7faa13d7",
   "metadata": {
    "execution": {
     "iopub.execute_input": "2021-09-27T06:35:46.000734Z",
     "iopub.status.busy": "2021-09-27T06:35:45.999867Z",
     "iopub.status.idle": "2021-09-27T06:35:46.111978Z",
     "shell.execute_reply": "2021-09-27T06:35:46.112549Z",
     "shell.execute_reply.started": "2021-09-27T06:35:11.115705Z"
    },
    "papermill": {
     "duration": 0.177533,
     "end_time": "2021-09-27T06:35:46.112764",
     "exception": false,
     "start_time": "2021-09-27T06:35:45.935231",
     "status": "completed"
    },
    "tags": []
   },
   "outputs": [
    {
     "data": {
      "text/html": [
       "<div>                            <div id=\"65a3f2fe-216b-410c-bcb8-6c501c6906bd\" class=\"plotly-graph-div\" style=\"height:525px; width:100%;\"></div>            <script type=\"text/javascript\">                require([\"plotly\"], function(Plotly) {                    window.PLOTLYENV=window.PLOTLYENV || {};                                    if (document.getElementById(\"65a3f2fe-216b-410c-bcb8-6c501c6906bd\")) {                    Plotly.newPlot(                        \"65a3f2fe-216b-410c-bcb8-6c501c6906bd\",                        [{\"marker\":{\"size\":2},\"mode\":\"markers\",\"name\":\"1\",\"type\":\"scatter3d\",\"x\":[58138.0,82800.0,76995.0,2447.0,84618.0,68657.0,67353.0,80011.0,79941.0,72550.0,79143.0,82582.0,82384.0,70287.0,75777.0,88194.0,74854.0,66991.0,65031.0,75251.0,75825.0,81361.0,79593.0,78497.0,85693.0,87195.0,77298.0,68126.0,86037.0,90765.0,101970.0,79607.0,62981.0,92859.0,86111.0,61010.0,69372.0,80317.0,70356.0,74165.0,157243.0,80427.0,83837.0,78497.0,66835.0,74068.0,66973.0,80067.0,86718.0,75922.0,63693.0,102160.0,64497.0,77972.0,70951.0,83790.0,69508.0,63887.0,79930.0,81975.0,62745.0,73455.0,73687.0,61074.0,80134.0,75027.0,67546.0,65176.0,102692.0,75702.0,80124.0,69267.0,75278.0,79946.0,82497.0,55951.0,80950.0,77457.0,52247.25135379061,70893.0,64325.0,62187.0,66334.0,75693.0,83003.0,83532.0,68655.0,82623.0,84835.0,71113.0,71952.0,72099.0,60000.0,68462.0,78618.0,79530.0,72025.0,63810.0,66426.0,63381.0,83664.0,90300.0,74293.0,68682.0,75276.0,66465.0,75072.0,75865.0,80134.0,91065.0,82584.0,93027.0,92910.0,75433.0,84865.0,67309.0,75236.0,81246.0,56796.0,65991.0,89572.0,66664.0,80124.0,66582.0,75261.0,61456.0,62503.0,78825.0,78952.0,76005.0,78642.0,67911.0,64355.0,53653.0,81217.0,89120.0,81169.0,80184.0,73454.0,70503.0,77863.0,61839.0,72679.0,76982.0,84169.0,85620.0,81698.0,79908.0,87771.0,81741.0,66565.0,61996.0,79800.0,92163.0,69882.0,72906.0,81168.0,72635.0,84196.0,70971.0,69084.0,83917.0,84574.0,63120.0,73691.0,63381.0,76140.0,62859.0,77632.0,105471.0,78710.0,98777.0,67445.0,73059.0,58330.0,59304.0,81300.0,68743.0,65777.0,86857.0,160803.0,77845.0,78468.0,71022.0,90247.0,71952.0,76618.0,87305.0,58710.0,72190.0,80395.0,75012.0,89891.0,89694.0,72025.0,67432.0,62882.0,64108.0,82224.0,83844.0,71163.0,63564.0,83443.0,58330.0,80952.0,75507.0,63855.0,62220.0,58512.0,78285.0,74985.0,67430.0,78939.0,74250.0,72258.0,71466.0,62847.0,60161.0,73926.0,82716.0,48192.0,72504.0,91820.0,76412.0,87771.0,78353.0,93404.0,80995.0,71391.0,81702.0,82504.0,81205.0,61618.0,82347.0,60474.0,85710.0,70123.0,80812.0,86424.0,86857.0,82072.0,68092.0,76630.0,55260.0,78331.0,81320.0,85072.0,86429.0,78420.0,75114.0,52278.0,95529.0,84169.0,74637.0,72354.0,83033.0,77583.0,74116.0,74293.0,68397.0,79632.0,64950.0,67536.0,64831.0,82025.0,94384.0,70647.0,92955.0,84219.0,80573.0,83715.0,82576.0,53103.0,63693.0,80763.0,82170.0,75759.0,79689.0,85683.0,75437.0,95169.0,83844.0,77568.0,70924.0,64504.0,68316.0,74538.0,91700.0,79593.0,77037.0,70924.0,69098.0,70596.0,72228.0,62845.0,65196.0,83528.0,64176.0,70713.0,88347.0,87171.0,79456.0,75345.0,71691.0,85844.0,83829.0,76045.0,76773.0,81698.0,98777.0,71819.0,86358.0,63998.0,85606.0,72903.0,85696.0,63285.0,57513.0,68142.0,83145.0,79410.0,80685.0,77142.0,81657.0,74214.0,90638.0,54959.0,62000.0,78579.0,67369.0,70091.0,59184.0,84618.0,77044.0,74918.0,68682.0,75032.0,84906.0,76624.0,65106.0,69969.0,67433.0,77766.0,76653.0,90687.0,73450.0,83829.0,85485.0,66303.0,71847.0,78687.0,49118.0,83151.0,78569.0,94384.0,71626.0,81051.0,65169.0,59868.0,64857.0,74805.0,81843.0,77382.0,72828.0,71604.0,71434.0,90842.0,88097.0,71853.0,62845.0,85696.0,76542.0,70515.0,69109.0,80695.0,75154.0,92344.0,75507.0,80134.0,80589.0,63810.0,92533.0,78427.0,82657.0,78041.0,70038.0,77343.0,73892.0,93790.0,83844.0,67419.0,94871.0,65148.0,64857.0,57072.0,60474.0,75484.0,79419.0,76998.0,87679.0,65492.0,71706.0,68487.0,49667.0,78931.0,84219.0,73538.0,79529.0,87188.0,69930.0,82032.0,74004.0,57036.0,69283.0,67786.0,71969.0,59235.0,74881.0,65819.0,67445.0,70179.0,63972.0,75283.0,82800.0,90638.0,81574.0,78093.0,82460.0,81361.0,75794.0,76445.0,90226.0,70638.0,71855.0,68655.0,64509.0,52973.0,66664.0,73059.0,64140.0,57136.0,82014.0,157146.0,72066.0,69084.0,77766.0,86610.0,80141.0,72635.0,69016.0,70440.0,78789.0,58350.0,81217.0,61787.0,73705.0,61064.0,58656.0,83512.0,77520.0,80398.0,92491.0,90273.0,82571.0,74881.0,71107.0,82427.0,70044.0,77437.0,70321.0,81795.0,66835.0,80360.0,72117.0,67131.0,71853.0,70596.0,85431.0,64590.0,71232.0,60839.0,77298.0,82122.0,78416.0,75702.0,90369.0,63159.0,63207.0,72071.0,72282.0,52513.0,78394.0,80739.0,54693.0,80336.0,57333.0,84953.0,83257.0,72159.0,64260.0,82733.0,74290.0,70116.0,69109.0,82326.0,69932.0,72905.0,69702.0,70300.0,70643.0,86979.0,76532.0,67546.0,88420.0,90933.0,113734.0,60491.0,92556.0,67384.0,80573.0,77870.0,52278.0,91249.0,77598.0,80982.0,70617.0,64849.0,75903.0,73356.0,72570.0,70792.0,63211.0,83891.0,80872.0,72335.0,76842.0,96843.0,70053.0,71670.0,74485.0,77226.0,72643.0,85738.0,94642.0,72968.0,91712.0,94472.0,96547.0,63684.0,71964.0,96876.0,68281.0,77027.0,71322.0,68117.0,55914.0,75330.0,61416.0,83273.0,65308.0,76467.0,81044.0,71128.0,70179.0,59462.0,70038.0,67445.0,77610.0,69520.0,68487.0,52247.25135379061,56796.0,87000.0,79823.0,79244.0,80144.0,81929.0,76068.0,67911.0,78128.0,82332.0,66476.0,69805.0,72217.0,84906.0,82333.0,65220.0,72309.0,65487.0,78499.0,69209.0,60896.0,74859.0,72071.0,91172.0,90000.0,65706.0,71965.0,79174.0,81380.0,67716.0,76234.0,84117.0,65487.0,89616.0,82347.0,73803.0,61014.0,88325.0,80617.0,82032.0,75777.0,666666.0,61223.0,56981.0],\"y\":[1617,1315,1782,1730,1672,1196,913,1395,984,1319,1693,1617,1957,1093,1438,1274,1562,1253,863,1890,2209,778,1366,978,1169,1097,969,1820,730,1724,1135,1923,1482,2077,1385,1021,1381,1231,1706,1293,1608,1835,1318,978,1033,1581,1282,1600,1270,1295,1150,1240,1804,1101,1198,1615,1135,1245,1753,1588,1117,2088,1627,1102,1690,1390,2126,1531,1112,1148,1495,1635,930,1478,1919,1374,1213,1157,1611,1508,1307,1283,1161,1442,1674,1853,1538,940,1190,835,1443,1188,1277,1670,2153,1348,1932,1371,1377,1005,1173,1738,1127,1598,1040,1485,1073,1242,1378,1474,1435,2119,1795,1188,1688,1082,1068,1379,1001,971,2059,1289,1495,1288,1743,1388,973,895,2092,1722,1816,976,1445,1210,1157,1924,2089,1902,1651,1727,1291,1895,1168,1062,1919,1600,1008,1772,1957,1572,1065,1230,1867,2086,1478,1151,1193,981,1237,1825,1586,1587,1375,1477,1179,1005,1348,1307,2252,1724,1092,2008,1174,1095,1064,1048,1241,2074,1146,2114,1717,1346,1004,1453,1621,1443,1511,1152,1185,1947,1380,1027,836,1472,1677,1335,1338,1099,902,1574,960,1215,1497,1064,1757,1440,1006,1226,1171,1427,1869,1364,1507,1158,1525,1230,1612,1071,1580,1167,1526,1478,1497,1808,1957,1576,1616,1482,1043,1633,1066,2009,1345,1853,1180,1062,1727,1677,1226,2114,2018,1281,1003,1139,1638,928,1423,1449,1453,1253,1198,1990,1919,1650,1228,1761,1149,2052,1127,1416,1113,966,1829,1120,1187,2302,1079,1778,1198,1564,926,1910,1085,1150,1415,1908,2486,1315,1789,1493,1901,1574,2194,1363,1314,1211,1461,1968,1366,1123,1363,2440,968,1250,1178,1155,1650,1826,1477,2116,1298,1401,2087,1192,1958,1862,1323,1156,1104,2008,1574,1722,1168,1956,2013,1313,1103,1060,1459,1833,1370,1004,990,1097,1711,2525,1232,1020,1812,1461,1161,1072,1672,1065,2047,1598,1215,1631,899,973,1536,992,1529,2279,1779,1804,1862,1383,1286,1192,2130,1229,2346,1736,2302,1305,1501,1189,1194,1540,820,1643,1121,1678,1196,1400,1424,844,1149,1178,1313,1483,1258,1555,1918,1143,1899,1440,1690,1428,1371,1131,1930,2283,1319,1244,1134,1507,2349,1574,1471,1078,1115,1540,1034,1180,1159,1631,1910,2524,1045,1443,1366,1396,943,1198,1658,1638,1923,1662,1234,1658,1513,904,1156,1086,1128,964,1383,1174,1034,1269,1019,1315,2525,1798,1105,974,778,1682,1410,2352,1334,1141,1538,1722,1152,1289,1095,1750,1179,1511,1730,1792,1586,1529,1603,2091,981,1533,1572,1754,1001,1157,1319,1695,1080,1220,2157,1526,1597,2034,1991,1686,964,1327,1456,1504,1125,1376,1382,1033,2231,1073,976,1149,968,1165,1338,917,1250,969,1382,1179,1921,1588,1797,1502,1338,1331,1149,1428,1633,929,1052,1662,1024,1365,1401,1574,1323,1217,1536,1555,2257,1049,1515,1039,1596,1828,1702,820,2126,2069,1685,277,1028,1263,1490,1564,1815,1198,1676,1735,1191,1280,1336,901,1512,1089,1272,1173,816,1336,2092,1130,1544,1012,1766,1734,1138,1429,1371,2211,1958,2217,1691,809,1464,1870,1941,1655,1175,1305,930,1260,1109,1665,1392,1211,1575,1208,1615,1034,1088,1244,1174,1680,1455,1366,1564,1001,961,1518,1216,1367,2053,1376,976,1264,2006,1013,1038,1573,1631,1822,1282,1931,1169,1334,1782,1701,1565,1338,1092,1479,1199,1213,2043,1893,1016,907,1566,1169,1644,1853,1528,1147,1623,1435,1234,1438,62,1341,1241],\"z\":[25,26,26,43,26,18,28,21,16,28,29,21,27,21,21,32,19,21,30,19,22,27,19,25,27,20,24,17,25,15,27,16,23,22,23,26,21,18,27,20,37,28,25,25,24,24,28,17,17,18,29,26,29,20,17,25,28,32,17,14,29,22,22,31,16,21,20,25,29,26,19,14,23,22,19,23,23,18,24,23,23,18,19,22,22,15,21,16,15,26,22,18,24,15,22,26,16,23,20,26,19,19,16,24,23,35,19,19,21,26,16,22,27,19,16,39,25,17,27,27,24,19,19,20,17,33,26,29,21,22,18,27,21,28,22,19,22,20,13,16,20,17,17,16,20,14,25,19,20,19,19,21,22,21,20,17,18,21,20,34,25,21,32,26,18,26,21,23,13,30,28,19,32,26,24,28,21,30,17,22,44,21,28,21,15,22,11,17,31,16,24,23,26,14,26,19,20,30,21,20,24,28,22,24,25,21,24,23,20,21,17,29,20,18,22,19,14,26,24,28,25,22,22,18,20,24,17,22,28,27,17,19,19,25,31,26,17,18,28,22,19,20,25,25,25,18,18,18,22,19,31,18,20,25,19,26,19,19,16,21,20,25,30,22,12,18,26,23,18,24,24,19,28,29,23,19,26,27,17,23,12,20,21,20,25,32,22,20,19,27,20,25,21,22,28,26,23,33,25,21,25,16,20,17,20,17,21,16,16,19,14,18,25,24,21,20,25,27,24,26,11,21,17,16,16,18,21,26,16,25,19,27,26,31,21,24,20,24,23,27,13,28,34,23,17,27,17,19,22,22,19,28,23,15,18,19,23,28,32,23,26,27,26,28,17,21,27,20,17,28,20,23,17,20,19,16,20,21,16,21,23,23,23,23,18,17,17,23,25,20,25,18,21,23,27,31,18,15,29,29,26,25,30,22,24,18,26,22,19,22,17,15,26,27,16,19,28,27,20,32,26,23,25,26,18,18,17,15,27,25,21,24,20,25,21,19,31,19,26,18,20,22,28,17,25,34,18,22,21,34,23,16,27,22,19,25,28,32,22,23,26,25,19,24,27,28,21,26,23,25,23,24,15,26,26,17,21,17,24,25,29,24,26,26,29,17,17,12,20,22,25,16,24,31,25,33,18,28,21,14,20,32,23,20,22,26,20,26,26,18,16,25,20,20,15,27,28,21,22,24,18,31,22,26,30,14,19,23,22,23,19,20,22,19,23,17,28,26,15,26,28,21,21,21,19,27,16,21,23,17,24,25,19,28,25,29,29,24,29,28,14,22,27,26,25,17,32,17,21,30,22,27,18,23,22,19,20,10,27,20,21,26,27,22,24,18,23,20,17,19,16,26,23,20,14,18,27,17,19,17,28,23,24,17,25,25,22,20,18,19,17,21,11,18,19]},{\"marker\":{\"size\":2},\"mode\":\"markers\",\"name\":\"0\",\"type\":\"scatter3d\",\"x\":[46344.0,26646.0,33454.0,30351.0,5648.0,52247.25135379061,7500.0,17323.0,41850.0,37760.0,33812.0,37040.0,18589.0,38360.0,10979.0,38620.0,40548.0,49389.0,23718.0,42429.0,20559.0,21994.0,52247.25135379061,7500.0,7500.0,41728.0,52247.25135379061,35790.0,27938.0,52247.25135379061,25721.0,32474.0,52247.25135379061,28332.0,40246.0,26326.0,29760.0,26304.0,23559.0,38620.0,29440.0,36138.0,54178.0,52247.25135379061,42394.0,23626.0,30096.0,51813.0,47823.0,34554.0,24594.0,49096.0,38557.0,50785.0,30753.0,21918.0,32557.0,19510.0,30992.0,54348.0,9548.0,33762.0,35860.0,36921.0,41883.0,23957.0,38547.0,35688.0,49605.0,34176.0,60199.0,55375.0,30523.0,23228.0,43482.0,52332.0,26091.0,33456.0,28718.0,50447.0,53537.0,52074.0,38853.0,38285.0,51650.0,16248.0,30477.0,28249.0,25271.0,32303.0,45759.0,24882.0,36640.0,38872.0,31353.0,40637.0,18890.0,29604.0,44794.0,52195.0,44551.0,45204.0,30732.0,42011.0,34320.0,38590.0,15033.0,22212.0,23661.0,7500.0,60182.0,22804.0,31686.0,31160.0,29938.0,26490.0,30899.0,18701.0,40737.0,15287.0,37717.0,38179.0,38097.0,22070.0,31788.0,29315.0,33378.0,24480.0,37760.0,44319.0,30631.0,32414.0,38361.0,16626.0,29672.0,35388.0,42386.0,35246.0,46377.0,39747.0,23976.0,27038.0,42670.0,12571.0,22574.0,28839.0,40321.0,30833.0,34421.0,47025.0,14849.0,27255.0,54432.0,29999.0,24072.0,33996.0,35178.0,22010.0,30675.0,41411.0,27190.0,44300.0,30372.0,33181.0,38643.0,50737.0,28442.0,37717.0,31615.0,35684.0,29548.0,38578.0,46098.0,22585.0,30279.0,30822.0,33581.0,19986.0,27421.0,35688.0,36143.0,10245.0,38823.0,51012.0,43824.0,15345.0,23442.0,14515.0,31395.0,42373.0,30507.0,48006.0,27213.0,30351.0,23616.0,19789.0,37401.0,30096.0,18492.0,48686.0,10404.0,30015.0,50943.0,32011.0,7500.0,28691.0,56223.0,18100.0,30279.0,20130.0,23295.0,42618.0,24027.0,36230.0,42207.0,50520.0,33183.0,31880.0,37406.0,38415.0,20518.0,41644.0,38961.0,37760.0,32233.0,14045.0,28457.0,55563.0,27203.0,48330.0,24279.0,50943.0,34935.0,39665.0,36443.0,26095.0,30630.0,42691.0,25545.0,32880.0,28567.0,44931.0,22944.0,25315.0,43638.0,24683.0,47850.0,19514.0,27159.0,39548.0,21474.0,22419.0,15315.0,33039.0,52157.0,29298.0,47691.0,38200.0,38443.0,38593.0,36959.0,51287.0,13260.0,47472.0,47821.0,27450.0,39453.0,26850.0,24221.0,39684.0,33178.0,17459.0,23910.0,42169.0,26224.0,31089.0,30081.0,49618.0,21888.0,42429.0,26150.0,30801.0,26877.0,45006.0,18978.0,22574.0,35791.0,54162.0,31632.0,36975.0,13624.0,34487.0,28769.0,32218.0,46102.0,55282.0,29103.0,50616.0,61278.0,26490.0,46734.0,19986.0,25965.0,14661.0,18690.0,45068.0,21063.0,29187.0,54690.0,26751.0,36145.0,38946.0,42315.0,13084.0,47570.0,61923.0,34824.0,26518.0,41335.0,35682.0,35178.0,25252.0,33249.0,50272.0,25851.0,45160.0,18988.0,7500.0,44794.0,35946.0,17487.0,34941.0,48767.0,38702.0,17003.0,33697.0,40662.0,38829.0,35523.0,31626.0,48726.0,46891.0,33622.0,6835.0,41452.0,40760.0,51124.0,36283.0,20587.0,30467.0,31590.0,20425.0,17144.0,16813.0,46524.0,45183.0,19329.0,46984.0,34838.0,56850.0,26872.0,21359.0,30772.0,25804.0,22063.0,22419.0,37859.0,16529.0,55412.0,25130.0,35441.0,45889.0,34026.0,40049.0,34176.0,19419.0,49980.0,15072.0,30843.0,38576.0,37758.0,23228.0,7500.0,19485.0,30545.0,21675.0,42395.0,39922.0,17117.0,24762.0,35797.0,36627.0,51111.0,42243.0,31814.0,26868.0,21846.0,54137.0,45684.0,47889.0,45921.0,35641.0,46015.0,39858.0,34469.0,24401.0,46107.0,25443.0,32892.0,14906.0,39771.0,27922.0,52190.0,44051.0,42767.0,46106.0,16927.0,59041.0,41021.0,40233.0,33471.0,34596.0,40706.0,15716.0,35704.0,46779.0,4861.0,33462.0,35340.0,24884.0,64587.0,34824.0,26091.0,22434.0,19514.0,36736.0,49187.0,34053.0,38196.0,54165.0,32300.0,20180.0,34961.0,28440.0,33564.0,17345.0,28647.0,15038.0,32173.0,31056.0,28071.0,37334.0,46423.0,37126.0,38998.0,8028.0,34728.0,33168.0,33585.0,28764.0,25959.0,27100.0,53312.0,35860.0,16860.0,22304.0,32892.0,39722.0,26907.0,41014.0,40479.0,24163.0,43776.0,39190.0,38578.0,57236.0,27590.0,30023.0,50870.0,15315.0,54466.0,16269.0,33569.0,36262.0,22634.0,31605.0,48526.0,46931.0,16581.0,25930.0,42693.0,36778.0,10979.0,37155.0,21282.0,33419.0,21255.0,42162.0,26576.0,7500.0,54197.0,23091.0,44375.0,40344.0,48985.0,35322.0,14421.0,20130.0,23724.0,47353.0,33444.0,28510.0,43140.0,15056.0,26954.0,22327.0,44393.0,31497.0,45894.0,58401.0,62307.0,43641.0,46891.0,54809.0,51412.0,15287.0,18351.0,40451.0,36317.0,42160.0,33629.0,34377.0,8940.0,26228.0,40211.0,33438.0,22518.0,38452.0,44421.0,38197.0,41986.0,28427.0,37395.0,55249.0,28691.0,44213.0,25707.0,59062.0,27683.0,1730.0,7500.0,40521.0,20427.0,39356.0,35860.0,31454.0,47139.0,19656.0,45579.0,38808.0,23748.0,37368.0,40800.0,37633.0,26997.0,33986.0,46831.0,15759.0,22804.0,43050.0,42997.0,48918.0,60033.0,34043.0,7500.0,23148.0,27238.0,46094.0,40321.0,37235.0,18393.0,24711.0,45503.0,6560.0,27244.0,35876.0,40049.0,39660.0,18929.0,24367.0,33249.0,26887.0,18227.0,38136.0,33316.0,17256.0,37971.0,41335.0,50523.0,35791.0,21355.0,46390.0,54342.0,52247.25135379061,52247.25135379061,20895.0,52247.25135379061,26907.0,44964.0,22682.0,38887.0,41658.0,29791.0,39996.0,26759.0,37716.0,36864.0,36947.0,36957.0,43142.0,34412.0,22634.0,51315.0,36026.0,24639.0,34578.0,54132.0,18690.0,28164.0,34596.0,43269.0,38741.0,31907.0,27100.0,31163.0,34853.0,31086.0,20491.0,42523.0,39922.0,33402.0,36408.0,21645.0,46053.0,40304.0,43300.0,26290.0,46015.0,16531.0,28072.0,41145.0,23162.0,34380.0,34704.0,39898.0,59892.0,41020.0,19414.0,19107.0,35765.0,32952.0,31163.0,46098.0,20981.0,51766.0,33039.0,37787.0,27242.0,37697.0,37401.0,3502.0,28087.0,19740.0,46098.0,23331.0,23331.0,9255.0,31928.0,51411.0,42386.0,30390.0,30983.0,37284.0,57530.0,37054.0,31859.0,27215.0,39922.0,24645.0,44322.0,38998.0,27161.0,38201.0,45203.0,34935.0,34633.0,45903.0,35860.0,40442.0,31497.0,13724.0,52569.0,17144.0,36108.0,36663.0,44512.0,27116.0,54072.0,12393.0,33955.0,31353.0,28359.0,51717.0,18793.0,54549.0,19444.0,36301.0,42731.0,52854.0,22775.0,44078.0,30560.0,35924.0,24594.0,39228.0,56551.0,22448.0,34213.0,25358.0,35544.0,36634.0,34916.0,43602.0,33996.0,41473.0,36732.0,37929.0,20193.0,27573.0,15862.0,33228.0,38232.0,22554.0,23536.0,42231.0,18169.0,24336.0,18222.0,42033.0,41437.0,38452.0,18358.0,9722.0,38175.0,54222.0,41154.0,18746.0,22108.0,44392.0,17688.0,16653.0,23529.0,46910.0,18690.0,37244.0,42403.0,55761.0,45576.0,28389.0,31859.0,30372.0,16014.0,41120.0,39763.0,38725.0,13533.0,21955.0,36802.0,28249.0,47808.0,25509.0,51012.0,42664.0,29760.0,28973.0,39435.0,20194.0,42473.0,36075.0,34026.0,48918.0,37697.0,34074.0,28520.0,36273.0,59385.0,44689.0,18701.0,37758.0,21840.0,32583.0,44635.0,33316.0,25293.0,22669.0,29236.0,44911.0,48186.0,54809.0,41580.0,32313.0,27071.0,4023.0,30093.0,25008.0,22280.0,58217.0,21024.0,11448.0,32889.0,34738.0,26642.0,44503.0,49638.0,23830.0,30396.0,50616.0,30298.0,44155.0,31158.0,49160.0,24882.0,45759.0,22148.0,29819.0,33235.0,35701.0,31535.0,18929.0,36038.0,20180.0,34230.0,31878.0,22701.0,61917.0,21059.0,29543.0,34984.0,34242.0,25410.0,28320.0,23763.0,34529.0,36065.0,39898.0,51141.0,29478.0,56551.0,44359.0,40887.0,48877.0,39062.0,54690.0,38236.0,36781.0,31385.0,24570.0,25509.0,58646.0,21994.0,23477.0,39791.0,13672.0,24206.0,28420.0,22979.0,33279.0,46423.0,30368.0,39146.0,37284.0,36790.0,27943.0,22263.0,30261.0,28587.0,43815.0,32765.0,29672.0,23272.0,7500.0,17649.0,40059.0,38680.0,29009.0,45057.0,43020.0,53154.0,32871.0,36927.0,48794.0,23478.0,38361.0,52247.25135379061,42554.0,42192.0,31761.0,34350.0,25293.0,27889.0,22123.0,52247.25135379061,52247.25135379061,27803.0,30828.0,34109.0,22390.0,48699.0,53204.0,14796.0,14188.0,20425.0,58646.0,48150.0,34587.0,43018.0,27733.0,25818.0,37509.0,25176.0,43586.0,50116.0,33590.0,30992.0,16005.0,20587.0,62637.0,29435.0,19346.0,35788.0,36997.0,23539.0,29732.0,41275.0,42769.0,49572.0,17148.0,30560.0,32146.0,41713.0,34176.0,15253.0,31560.0,41967.0,38946.0,26067.0,42523.0,26487.0,53233.0,25224.0,40851.0,27469.0,8820.0,43322.0,37085.0,16185.0,18929.0,35893.0,32144.0,14918.0,45146.0,38054.0,5305.0,36807.0,28427.0,22775.0,7500.0,33562.0,52247.25135379061,24434.0,11012.0,26816.0,34421.0,52869.0],\"y\":[27,53,169,46,49,19,61,46,96,317,133,316,75,131,30,318,120,65,81,67,53,22,186,31,122,55,124,72,29,46,34,11,109,65,13,18,165,16,79,318,56,151,194,18,32,43,45,63,72,55,29,187,145,114,81,33,80,30,43,90,29,106,49,38,312,68,22,211,127,89,18,162,13,121,88,259,89,36,57,148,93,119,45,10,191,57,66,43,50,39,68,80,65,91,31,38,35,53,65,17,285,114,185,189,17,22,19,69,23,57,22,26,17,64,26,210,33,44,17,31,25,90,184,67,60,48,99,102,317,37,70,52,137,68,25,32,100,62,90,273,66,107,241,53,37,32,102,28,30,20,65,37,38,160,23,71,59,33,62,139,18,42,44,16,49,99,57,25,51,30,29,73,120,81,37,51,17,22,324,211,19,41,114,209,186,47,27,96,64,163,343,41,70,46,79,78,48,45,10,20,43,57,46,122,36,34,156,14,37,34,20,192,48,59,265,135,120,15,17,44,25,31,70,54,296,20,205,43,64,32,263,46,137,216,138,42,52,358,210,42,46,96,76,54,201,41,134,69,21,54,91,162,64,78,265,11,21,17,38,177,62,182,49,75,47,143,55,63,55,81,49,69,67,30,63,79,42,129,213,67,28,45,268,266,37,37,35,42,95,33,36,103,191,93,16,235,48,67,165,210,223,22,74,26,60,20,59,34,198,11,172,257,270,29,121,126,23,57,187,57,59,18,112,233,48,21,16,71,65,11,18,97,63,109,38,28,92,99,66,86,242,183,81,137,16,93,43,29,25,24,38,57,47,50,177,315,60,41,170,63,72,48,20,55,55,162,36,22,63,50,39,46,76,290,89,70,195,53,35,41,40,40,15,10,69,45,182,156,128,86,68,16,55,55,83,14,84,203,28,67,199,178,46,95,62,467,125,32,46,66,50,41,77,171,131,54,53,96,64,149,93,23,81,92,94,23,6,54,45,19,108,23,89,58,69,17,116,103,44,236,39,137,79,63,71,58,94,80,22,55,313,62,92,72,54,178,36,122,122,12,56,37,278,49,38,18,46,47,22,20,15,17,23,133,73,121,12,61,63,64,16,44,63,426,96,125,135,78,24,15,57,77,30,74,46,86,61,145,27,18,237,48,301,218,75,106,16,34,75,225,18,91,235,88,17,24,60,155,51,96,160,139,183,174,195,31,43,49,133,140,152,114,101,25,87,90,61,72,189,40,63,52,39,130,34,152,21,71,351,8,119,21,10,23,49,48,83,84,183,246,76,30,99,38,434,44,78,17,26,76,15,62,198,49,57,37,57,44,102,61,50,58,170,373,101,129,32,299,85,24,112,30,28,103,131,62,30,187,91,35,68,222,177,45,21,45,42,22,41,95,42,72,20,15,59,188,354,146,152,20,209,96,222,61,44,8,42,60,78,23,19,61,449,37,38,34,48,30,125,156,70,22,65,209,57,180,77,46,44,47,13,65,175,40,134,87,217,32,46,75,55,38,120,73,275,78,106,106,84,48,5,112,55,120,103,269,22,72,18,100,80,167,23,92,25,20,102,156,17,92,54,52,268,147,137,15,66,49,169,155,58,95,47,339,35,32,41,39,57,270,31,16,122,77,233,54,78,244,116,15,41,31,34,29,20,138,55,117,32,67,335,231,68,71,76,47,265,82,244,36,71,122,41,10,37,21,31,67,25,32,72,57,103,153,264,69,64,31,211,11,69,54,68,60,55,42,184,145,28,48,44,38,81,167,45,48,55,20,43,224,101,209,24,165,269,102,47,144,119,76,62,84,255,43,76,185,34,44,40,27,9,68,131,37,173,99,215,219,174,92,159,35,9,69,34,13,103,84,14,55,20,42,48,39,43,34,149,28,46,72,236,80,68,49,39,70,46,51,85,47,137,21,70,24,91,44,63,38,15,38,43,42,162,74,134,157,20,138,45,161,144,44,198,88,63,27,193,101,140,22,147,174,25,25,13,115,16,92,52,165,23,66,37,21,22,78,79,46,25,46,100,45,414,79,44,50,223,158,43,71,54,129,137,47,41,100,98,48,37,26,102,97,207,176,56,22,26,40,45,51,75,57,140,266,22,133,57,28,123,13,132,66,8,43,103,25,185,180,22,44,94,81,38,61,88,54,68,31,66,174,28,29,94,54,257,56,125,69,40,46,59,17,35,141,61,106,85,199,54,43,53,45,32,16,52,15,53,51,1679,50,84,22,30,172],\"z\":[6,8,10,6,2,4,6,5,9,13,8,12,8,9,8,11,9,6,9,7,7,4,9,8,10,5,10,7,6,7,5,4,9,8,4,4,12,4,9,11,7,13,10,4,5,10,6,7,7,7,5,13,9,8,7,7,9,6,5,8,6,9,6,7,12,6,4,16,8,11,4,9,4,11,9,12,9,6,7,8,8,7,7,4,10,9,6,6,5,7,7,5,6,8,6,6,4,5,6,4,12,7,13,12,4,4,5,8,5,11,4,5,6,7,6,11,6,10,4,6,4,11,11,8,10,10,9,10,13,7,7,5,10,9,4,5,7,11,7,13,10,7,11,11,7,7,8,6,4,4,9,5,5,12,4,6,5,7,5,8,4,6,8,4,7,7,10,4,7,5,5,9,11,5,5,5,4,4,14,16,4,8,7,10,12,6,5,11,10,13,11,5,9,6,8,9,7,6,4,4,7,7,5,10,7,5,10,4,5,5,4,11,7,7,14,9,9,4,4,6,5,6,6,6,12,5,10,6,6,5,9,5,8,12,11,5,7,13,10,5,7,7,9,9,11,8,8,10,6,7,8,8,8,7,12,4,4,4,6,11,7,11,10,8,5,7,7,11,6,7,5,9,6,6,9,10,5,11,12,7,5,6,12,12,5,7,6,5,6,5,7,9,12,7,4,11,6,7,10,11,12,4,6,5,5,4,7,5,12,4,12,12,12,5,9,8,4,8,12,6,5,4,8,13,7,4,6,12,6,4,4,8,9,9,9,4,8,8,8,6,12,8,9,1,4,8,6,6,5,4,5,7,12,6,9,13,10,5,10,6,5,7,4,7,7,8,6,5,6,7,6,5,9,14,11,11,11,11,6,5,6,7,4,4,7,10,12,9,11,9,7,4,7,7,7,4,11,11,4,6,10,10,5,7,9,16,7,5,8,9,6,6,9,12,7,5,12,8,7,13,10,4,11,10,9,4,0,6,7,4,8,4,9,7,10,4,8,7,9,11,5,8,10,6,6,7,7,7,5,5,13,11,9,6,8,16,5,10,7,4,7,5,12,6,8,4,8,7,6,4,4,6,4,9,9,10,4,6,6,8,4,9,5,12,6,9,8,7,4,4,5,9,8,7,7,8,11,9,4,4,12,10,12,12,6,9,4,5,7,13,4,9,11,12,4,5,7,10,5,6,9,10,8,12,11,6,6,5,9,11,13,8,10,4,7,11,7,9,14,5,10,7,5,8,5,12,5,7,16,15,11,4,4,4,6,8,7,9,10,14,9,4,8,6,13,5,7,4,5,8,4,7,10,5,10,6,9,5,8,5,8,7,9,2,8,8,5,14,6,4,8,5,4,8,10,7,5,12,8,6,7,10,12,5,4,6,5,6,5,10,5,6,7,4,8,10,14,11,11,4,11,6,10,7,9,4,5,5,9,4,4,7,14,5,5,7,6,4,7,9,9,4,9,12,6,11,10,5,9,5,4,8,12,5,9,7,10,5,6,8,6,5,11,7,12,7,7,7,7,7,0,9,7,11,8,17,5,9,4,7,6,8,4,7,6,4,11,9,4,8,8,5,15,8,8,4,8,6,12,10,5,7,12,15,6,6,7,5,6,15,6,4,8,9,12,10,7,13,9,4,7,5,5,5,4,10,9,9,6,6,15,13,9,6,6,9,13,7,14,5,6,11,10,4,5,4,4,6,4,5,9,10,11,11,12,6,8,7,14,4,9,5,7,5,5,5,10,8,4,5,8,10,9,10,7,7,8,5,6,10,9,10,5,12,13,7,7,10,7,9,7,7,14,5,8,10,6,10,6,5,4,7,10,5,10,9,12,12,12,9,11,7,15,6,6,4,7,7,4,9,5,7,7,5,5,6,10,6,5,7,12,5,7,5,9,7,5,5,6,8,8,4,6,5,7,9,8,6,4,6,5,5,9,9,9,9,5,10,9,10,8,5,12,11,6,4,11,9,8,4,10,10,6,5,4,10,4,9,7,11,4,6,8,6,4,9,6,8,4,5,10,9,12,6,7,6,12,9,5,8,5,7,10,8,7,7,9,5,5,5,7,10,11,9,8,4,4,5,5,6,7,7,8,13,6,7,7,4,9,4,10,7,4,5,8,5,10,11,5,7,12,7,5,11,8,7,11,5,8,13,5,6,8,5,12,9,7,9,5,7,5,4,10,8,10,8,6,15,10,5,6,7,1,4,7,4,11,9,1,7,9,4,4,11]},{\"marker\":{\"size\":2},\"mode\":\"markers\",\"name\":\"2\",\"type\":\"scatter3d\",\"x\":[71613.0,58293.0,62513.0,55635.0,63033.0,59354.0,58607.0,65324.0,40689.0,53359.0,52247.25135379061,46610.0,48948.0,65486.0,66373.0,55954.0,66653.0,61823.0,67680.0,70666.0,69096.0,60631.0,56046.0,50388.0,52247.25135379061,52247.25135379061,47916.0,50150.0,65846.0,52413.0,89058.0,57288.0,43974.0,36550.0,56129.0,71488.0,52247.25135379061,77376.0,62998.0,61331.0,73448.0,52247.25135379061,41551.0,65104.0,68352.0,59809.0,59354.0,65747.0,46344.0,49967.0,62551.0,66951.0,61286.0,51148.0,69661.0,46854.0,69142.0,48721.0,46097.0,44377.0,46014.0,41443.0,72460.0,77622.0,51369.0,51537.0,37070.0,79761.0,64961.0,63342.0,45989.0,69674.0,44159.0,43776.0,72940.0,61905.0,66313.0,60714.0,77882.0,69867.0,63841.0,51369.0,65640.0,50898.0,35416.0,68627.0,57912.0,58821.0,64100.0,54198.0,66503.0,52247.25135379061,64795.0,40464.0,62204.0,55212.0,59292.0,69759.0,65073.0,46681.0,62187.0,51479.0,54803.0,52614.0,48178.0,43795.0,62499.0,70777.0,55521.0,65808.0,50437.0,53858.0,46923.0,49505.0,61314.0,42387.0,67272.0,51529.0,55707.0,57959.0,70829.0,38988.0,50300.0,60597.0,70165.0,53790.0,49269.0,56937.0,55842.0,62010.0,41124.0,43057.0,83151.0,65104.0,60093.0,46310.0,58308.0,55614.0,59432.0,65275.0,65665.0,61250.0,60152.0,48920.0,44124.0,71367.0,50353.0,49154.0,47682.0,57954.0,65316.0,47352.0,57247.0,42710.0,54058.0,60504.0,43462.0,54880.0,71499.0,62466.0,48799.0,44989.0,64413.0,54603.0,45207.0,40689.0,61794.0,53863.0,59973.0,62807.0,61467.0,48240.0,45837.0,162397.0,30522.0,54456.0,72298.0,65488.0,62466.0,56181.0,45906.0,46463.0,66886.0,49431.0,153924.0,56253.0,59247.0,66731.0,77353.0,52614.0,70337.0,65295.0,68118.0,41039.0,66476.0,69476.0,50611.0,61209.0,45938.0,78901.0,71427.0,43185.0,66375.0,55250.0,58398.0,74806.0,59111.0,56962.0,53593.0,66373.0,45072.0,70545.0,51518.0,79146.0,75127.0,62058.0,72063.0,42720.0,42564.0,43783.0,40780.0,82017.0,51267.0,70421.0,61872.0,49681.0,55267.0,59666.0,73170.0,52750.0,65968.0,22507.0,65685.0,57091.0,48789.0,56575.0,49494.0,56628.0,55284.0,49166.0,65324.0,46374.0,55357.0,44602.0,38683.0,49514.0,57906.0,43456.0,53172.0,62450.0,61346.0,42835.0,46231.0,51195.0,51390.0,48948.0,64090.0,37087.0,66825.0,57100.0,58917.0,62820.0,73113.0,42607.0,75127.0,71796.0,55239.0,60554.0,56067.0,51563.0,57937.0,68274.0,67893.0,59754.0,53700.0,54237.0,52597.0,50183.0,54753.0,44010.0,59052.0,56962.0,65352.0,42021.0,64449.0,52845.0,46086.0,78028.0,56337.0,36930.0,36130.0,65569.0,30168.0,59412.0,56320.0,68695.0,47703.0,61180.0,76081.0,35196.0,44529.0,42557.0,67605.0,42000.0,65526.0,67023.0,59925.0,46610.0,50014.0,66294.0,36715.0,54233.0,84460.0,71367.0,61825.0,79803.0,80910.0,56775.0,54210.0,38508.0,53187.0,65463.0,66480.0,47025.0,70566.0,52034.0,46734.0,39552.0,67381.0,49669.0,49678.0,56129.0,54450.0,57744.0,46049.0,56715.0,57304.0,54450.0,59594.0,62710.0,66726.0,54386.0,48070.0,63841.0,78075.0,58113.0,66636.0,50965.0,42213.0,65748.0,56721.0,61559.0,77297.0,61284.0,54730.0,64722.0,66000.0,74716.0,68118.0,55158.0,62972.0,74190.0,53378.0,55956.0,64191.0,57183.0,46149.0,39767.0,57091.0,52531.0,57811.0,157733.0,44267.0,60894.0,50200.0,65695.0,45143.0,59060.0,47009.0,46692.0,37774.0,48752.0,51948.0,50127.0,43263.0,50150.0,62061.0,69139.0,69627.0,62159.0,58554.0,53034.0,52203.0,59601.0,47025.0,67267.0,57338.0,50611.0,56242.0,48904.0,56243.0,57420.0,52247.25135379061,53761.0,63915.0,63841.0,51039.0,60544.0,65685.0,44511.0,47352.0,67087.0,57045.0,69389.0,57537.0,65704.0,70844.0,60544.0,51876.0,52852.0,69401.0,32727.0,68695.0,38410.0,64866.0,57957.0,49476.0,50725.0,62807.0,70379.0,64014.0,49854.0,60585.0,42873.0,57867.0,53374.0,53253.0,42014.0,54108.0,63206.0,57136.0,46772.0,53977.0,55759.0,58597.0,53083.0,51983.0,66033.0,76800.0,63943.0,76081.0,47175.0,49681.0,79865.0,47958.0,75315.0,55517.0,42014.0,60482.0,61482.0,34968.0,74268.0,45143.0,48432.0,53843.0,51250.0,60432.0,65526.0,55434.0,57100.0,69139.0,50664.0,54414.0,47111.0,41003.0,46681.0,59821.0,50002.0,69755.0,56386.0,75774.0,58494.0,58684.0,62670.0,50334.0,50729.0,64892.0,63246.0,49544.0,49413.0,56534.0,49090.0,62335.0,86580.0,55012.0,52117.0,64813.0,35196.0,60230.0,55424.0,38513.0,42586.0,75342.0,79146.0,54984.0,37292.0,58086.0,69901.0,63342.0,44989.0,51569.0,77981.0,62905.0,59481.0,42586.0,65370.0,34600.0,46904.0,49094.0,62535.0,63404.0,75774.0,37070.0,53977.0,7144.0,46757.0,79734.0,58582.0,50387.0,62568.0,63967.0,54111.0,47743.0,62972.0,68148.0,65735.0,86836.0,57705.0,54006.0,69063.0,61825.0,70886.0,60208.0,30538.0,60200.0,33051.0,62772.0,52413.0,42081.0,61671.0,69719.0,59292.0,73395.0,45688.0,62820.0,57107.0,70932.0,55212.0,62694.0,67472.0,54998.0,54356.0,56939.0,61798.0,46998.0,64474.0,55686.0,34600.0,40794.0,4428.0,32632.0,53201.0,57113.0,51373.0,58116.0,79205.0,56559.0,32644.0,67506.0,41638.0,68805.0,65814.0,34445.0,48195.0,49912.0,67225.0,60905.0,60689.0,49767.0,37150.0,55801.0,76320.0,52247.25135379061,67046.0,54591.0,71866.0,42000.0,64713.0,52247.25135379061,51651.0,53367.0,71322.0,49912.0,54252.0,72967.0,58275.0,44953.0,45736.0,53230.0,61286.0,156924.0,58692.0,40590.0,65333.0,63516.0,40590.0,58482.0,59686.0,62994.0,47320.0,69263.0,60934.0,65210.0,48432.0,52914.0,44325.0,55593.0,50501.0,57731.0,48432.0,73807.0,41769.0,40101.0,58025.0,57642.0,58554.0,63777.0,57967.0,44802.0,64014.0,69245.0],\"y\":[776,422,716,590,1102,310,972,544,444,257,637,302,902,507,606,518,612,884,606,1076,653,661,692,372,603,985,606,410,1120,910,850,608,551,577,660,559,404,661,463,632,725,725,279,1053,871,877,459,460,429,306,421,1117,608,315,834,263,535,293,241,264,541,482,1047,714,576,1103,433,605,1009,1101,322,845,275,275,981,231,770,957,818,925,908,576,461,859,390,825,916,728,546,235,401,1052,680,630,946,1182,507,1029,900,425,636,494,693,990,254,492,222,787,446,272,490,915,369,751,1008,684,733,467,428,868,431,348,270,893,926,542,890,906,518,530,506,266,747,1053,735,309,900,682,663,746,945,730,943,347,397,777,442,411,521,493,260,319,232,406,662,526,240,795,795,889,331,369,279,227,215,444,611,473,382,819,594,882,373,107,326,404,939,963,889,393,486,235,599,365,6,597,574,1029,670,990,576,664,928,467,689,1044,493,957,636,734,614,637,948,903,596,965,869,411,480,606,284,334,449,564,833,450,758,654,813,629,377,729,270,767,573,458,405,1027,726,860,495,570,769,577,680,542,385,761,764,368,544,446,727,292,341,369,401,393,486,995,989,595,263,564,353,902,797,401,858,409,282,976,1001,350,833,960,779,811,725,1250,683,305,995,475,694,361,578,231,728,662,491,411,405,573,805,936,343,528,724,297,488,859,279,406,702,1091,655,704,1033,497,691,270,938,653,506,906,766,467,396,967,357,981,523,777,424,868,756,937,367,443,267,562,312,635,757,332,330,384,957,326,315,660,684,411,515,1020,1026,684,499,606,438,470,504,908,988,758,1084,685,363,545,296,530,789,811,405,805,711,860,928,418,587,641,793,999,825,610,362,485,496,794,802,59,310,832,401,656,311,274,448,397,473,316,311,320,441,410,800,227,861,634,586,447,939,797,415,251,237,493,971,371,396,322,317,325,789,908,417,289,769,727,319,794,454,797,545,817,294,289,310,879,690,529,1091,534,556,637,795,586,819,860,444,380,736,269,612,1064,436,436,747,928,642,1048,907,854,733,271,793,677,641,1106,1033,240,458,792,407,841,633,436,507,299,221,892,311,424,562,710,401,506,882,311,227,561,211,1092,601,425,734,638,894,612,823,396,813,825,694,496,902,772,404,304,815,688,708,746,660,279,745,497,1067,877,324,252,563,564,358,460,792,882,1101,369,467,664,622,461,252,461,318,253,502,398,902,823,433,907,416,1143,914,763,525,953,882,388,275,587,1042,395,557,486,581,928,424,960,656,367,685,835,946,450,382,732,801,507,397,306,976,416,909,1182,749,414,455,775,561,463,377,823,982,318,434,359,576,415,263,393,443,895,484,413,331,441,283,747,839,265,874,868,392,639,692,467,527,932,721,993,519,715,653,602,450,433,400,350,874,264,497,615,1021,437,732,608,8,395,258,798,300,258,731,274,312,414,568,873,731,424,575,542,546,500,704,424,849,521,415,470,679,586,653,468,1049,444,843],\"z\":[21,19,22,21,16,15,17,20,20,14,27,17,24,17,23,19,22,24,19,16,18,24,21,17,29,15,22,16,16,26,14,20,21,20,22,16,17,23,19,23,19,19,16,17,25,15,16,19,17,15,18,15,18,16,23,15,19,17,15,19,26,20,16,22,16,18,23,19,16,19,16,25,15,17,13,12,23,23,12,17,22,16,15,33,16,12,28,21,18,16,15,21,21,24,22,20,18,18,14,16,21,22,19,16,16,17,12,23,24,14,19,17,16,29,24,21,23,17,16,27,16,19,13,16,22,20,25,30,17,19,21,15,19,17,21,14,15,20,22,21,24,25,23,16,17,17,15,19,19,23,12,16,12,14,20,18,16,21,26,26,15,16,12,16,15,20,20,18,15,23,20,25,18,1,17,17,14,14,26,14,15,17,17,15,0,22,21,17,20,16,17,20,23,15,20,15,22,13,20,20,20,20,14,26,20,16,21,21,23,23,16,13,17,19,19,18,21,25,24,22,17,17,15,23,21,21,17,20,16,27,18,19,21,18,18,20,14,20,23,13,20,18,22,17,17,13,17,17,16,16,23,23,15,24,18,24,20,17,16,13,16,14,15,14,19,17,26,23,20,19,20,13,16,16,22,16,20,17,21,24,18,21,16,22,24,25,16,20,22,16,21,23,18,15,21,16,21,18,14,18,25,15,17,20,17,24,23,14,15,13,19,26,22,17,15,13,15,25,14,20,13,19,19,23,22,16,14,20,17,14,14,22,31,16,26,15,25,31,17,22,17,17,19,22,14,22,17,22,15,18,15,17,22,22,18,25,10,17,23,18,16,19,29,16,24,25,18,17,18,21,25,2,16,26,19,21,15,14,17,15,16,17,13,13,16,16,24,11,23,19,22,22,27,15,17,11,12,22,28,17,20,15,14,17,23,22,14,15,21,26,16,22,18,22,19,23,17,15,13,26,17,17,16,18,21,25,22,21,23,25,22,18,30,15,25,21,19,20,32,14,26,30,27,26,32,17,24,20,16,17,14,17,21,21,16,23,23,20,17,12,17,13,15,19,20,24,19,17,24,14,11,24,13,21,17,16,26,19,22,25,21,16,21,22,23,24,24,22,16,13,25,21,21,11,25,13,20,18,17,25,17,16,18,19,17,19,23,23,19,16,19,21,20,16,16,19,17,14,20,14,15,21,23,27,25,21,14,22,19,16,23,15,14,16,15,19,23,18,18,14,15,14,29,17,25,21,23,17,15,28,11,18,15,14,14,23,22,20,24,15,20,24,18,16,18,22,16,17,16,25,18,22,16,12,16,16,18,18,12,17,12,23,27,17,26,23,15,22,18,21,21,15,25,15,19,20,20,19,15,17,21,13,26,15,19,23,24,19,23,18,0,15,15,28,16,15,22,12,13,20,18,23,22,19,15,21,17,20,26,19,23,22,17,18,22,22,26,19,27,22,23]}],                        {\"font\":{\"color\":\"RebeccaPurple\",\"family\":\"Roboto\",\"size\":10},\"scene\":{\"xaxis\":{\"nticks\":4,\"range\":[0,150000],\"title\":{\"text\":\"Income\"}},\"yaxis\":{\"nticks\":4,\"range\":[0,2500],\"title\":{\"text\":\"Total Amount Spent\"}},\"zaxis\":{\"nticks\":4,\"range\":[0,40],\"title\":{\"text\":\"Total Quantity Purchased\"}}},\"template\":{\"data\":{\"bar\":[{\"error_x\":{\"color\":\"#2a3f5f\"},\"error_y\":{\"color\":\"#2a3f5f\"},\"marker\":{\"line\":{\"color\":\"#E5ECF6\",\"width\":0.5},\"pattern\":{\"fillmode\":\"overlay\",\"size\":10,\"solidity\":0.2}},\"type\":\"bar\"}],\"barpolar\":[{\"marker\":{\"line\":{\"color\":\"#E5ECF6\",\"width\":0.5},\"pattern\":{\"fillmode\":\"overlay\",\"size\":10,\"solidity\":0.2}},\"type\":\"barpolar\"}],\"carpet\":[{\"aaxis\":{\"endlinecolor\":\"#2a3f5f\",\"gridcolor\":\"white\",\"linecolor\":\"white\",\"minorgridcolor\":\"white\",\"startlinecolor\":\"#2a3f5f\"},\"baxis\":{\"endlinecolor\":\"#2a3f5f\",\"gridcolor\":\"white\",\"linecolor\":\"white\",\"minorgridcolor\":\"white\",\"startlinecolor\":\"#2a3f5f\"},\"type\":\"carpet\"}],\"choropleth\":[{\"colorbar\":{\"outlinewidth\":0,\"ticks\":\"\"},\"type\":\"choropleth\"}],\"contour\":[{\"colorbar\":{\"outlinewidth\":0,\"ticks\":\"\"},\"colorscale\":[[0.0,\"#0d0887\"],[0.1111111111111111,\"#46039f\"],[0.2222222222222222,\"#7201a8\"],[0.3333333333333333,\"#9c179e\"],[0.4444444444444444,\"#bd3786\"],[0.5555555555555556,\"#d8576b\"],[0.6666666666666666,\"#ed7953\"],[0.7777777777777778,\"#fb9f3a\"],[0.8888888888888888,\"#fdca26\"],[1.0,\"#f0f921\"]],\"type\":\"contour\"}],\"contourcarpet\":[{\"colorbar\":{\"outlinewidth\":0,\"ticks\":\"\"},\"type\":\"contourcarpet\"}],\"heatmap\":[{\"colorbar\":{\"outlinewidth\":0,\"ticks\":\"\"},\"colorscale\":[[0.0,\"#0d0887\"],[0.1111111111111111,\"#46039f\"],[0.2222222222222222,\"#7201a8\"],[0.3333333333333333,\"#9c179e\"],[0.4444444444444444,\"#bd3786\"],[0.5555555555555556,\"#d8576b\"],[0.6666666666666666,\"#ed7953\"],[0.7777777777777778,\"#fb9f3a\"],[0.8888888888888888,\"#fdca26\"],[1.0,\"#f0f921\"]],\"type\":\"heatmap\"}],\"heatmapgl\":[{\"colorbar\":{\"outlinewidth\":0,\"ticks\":\"\"},\"colorscale\":[[0.0,\"#0d0887\"],[0.1111111111111111,\"#46039f\"],[0.2222222222222222,\"#7201a8\"],[0.3333333333333333,\"#9c179e\"],[0.4444444444444444,\"#bd3786\"],[0.5555555555555556,\"#d8576b\"],[0.6666666666666666,\"#ed7953\"],[0.7777777777777778,\"#fb9f3a\"],[0.8888888888888888,\"#fdca26\"],[1.0,\"#f0f921\"]],\"type\":\"heatmapgl\"}],\"histogram\":[{\"marker\":{\"pattern\":{\"fillmode\":\"overlay\",\"size\":10,\"solidity\":0.2}},\"type\":\"histogram\"}],\"histogram2d\":[{\"colorbar\":{\"outlinewidth\":0,\"ticks\":\"\"},\"colorscale\":[[0.0,\"#0d0887\"],[0.1111111111111111,\"#46039f\"],[0.2222222222222222,\"#7201a8\"],[0.3333333333333333,\"#9c179e\"],[0.4444444444444444,\"#bd3786\"],[0.5555555555555556,\"#d8576b\"],[0.6666666666666666,\"#ed7953\"],[0.7777777777777778,\"#fb9f3a\"],[0.8888888888888888,\"#fdca26\"],[1.0,\"#f0f921\"]],\"type\":\"histogram2d\"}],\"histogram2dcontour\":[{\"colorbar\":{\"outlinewidth\":0,\"ticks\":\"\"},\"colorscale\":[[0.0,\"#0d0887\"],[0.1111111111111111,\"#46039f\"],[0.2222222222222222,\"#7201a8\"],[0.3333333333333333,\"#9c179e\"],[0.4444444444444444,\"#bd3786\"],[0.5555555555555556,\"#d8576b\"],[0.6666666666666666,\"#ed7953\"],[0.7777777777777778,\"#fb9f3a\"],[0.8888888888888888,\"#fdca26\"],[1.0,\"#f0f921\"]],\"type\":\"histogram2dcontour\"}],\"mesh3d\":[{\"colorbar\":{\"outlinewidth\":0,\"ticks\":\"\"},\"type\":\"mesh3d\"}],\"parcoords\":[{\"line\":{\"colorbar\":{\"outlinewidth\":0,\"ticks\":\"\"}},\"type\":\"parcoords\"}],\"pie\":[{\"automargin\":true,\"type\":\"pie\"}],\"scatter\":[{\"marker\":{\"colorbar\":{\"outlinewidth\":0,\"ticks\":\"\"}},\"type\":\"scatter\"}],\"scatter3d\":[{\"line\":{\"colorbar\":{\"outlinewidth\":0,\"ticks\":\"\"}},\"marker\":{\"colorbar\":{\"outlinewidth\":0,\"ticks\":\"\"}},\"type\":\"scatter3d\"}],\"scattercarpet\":[{\"marker\":{\"colorbar\":{\"outlinewidth\":0,\"ticks\":\"\"}},\"type\":\"scattercarpet\"}],\"scattergeo\":[{\"marker\":{\"colorbar\":{\"outlinewidth\":0,\"ticks\":\"\"}},\"type\":\"scattergeo\"}],\"scattergl\":[{\"marker\":{\"colorbar\":{\"outlinewidth\":0,\"ticks\":\"\"}},\"type\":\"scattergl\"}],\"scattermapbox\":[{\"marker\":{\"colorbar\":{\"outlinewidth\":0,\"ticks\":\"\"}},\"type\":\"scattermapbox\"}],\"scatterpolar\":[{\"marker\":{\"colorbar\":{\"outlinewidth\":0,\"ticks\":\"\"}},\"type\":\"scatterpolar\"}],\"scatterpolargl\":[{\"marker\":{\"colorbar\":{\"outlinewidth\":0,\"ticks\":\"\"}},\"type\":\"scatterpolargl\"}],\"scatterternary\":[{\"marker\":{\"colorbar\":{\"outlinewidth\":0,\"ticks\":\"\"}},\"type\":\"scatterternary\"}],\"surface\":[{\"colorbar\":{\"outlinewidth\":0,\"ticks\":\"\"},\"colorscale\":[[0.0,\"#0d0887\"],[0.1111111111111111,\"#46039f\"],[0.2222222222222222,\"#7201a8\"],[0.3333333333333333,\"#9c179e\"],[0.4444444444444444,\"#bd3786\"],[0.5555555555555556,\"#d8576b\"],[0.6666666666666666,\"#ed7953\"],[0.7777777777777778,\"#fb9f3a\"],[0.8888888888888888,\"#fdca26\"],[1.0,\"#f0f921\"]],\"type\":\"surface\"}],\"table\":[{\"cells\":{\"fill\":{\"color\":\"#EBF0F8\"},\"line\":{\"color\":\"white\"}},\"header\":{\"fill\":{\"color\":\"#C8D4E3\"},\"line\":{\"color\":\"white\"}},\"type\":\"table\"}]},\"layout\":{\"annotationdefaults\":{\"arrowcolor\":\"#2a3f5f\",\"arrowhead\":0,\"arrowwidth\":1},\"autotypenumbers\":\"strict\",\"coloraxis\":{\"colorbar\":{\"outlinewidth\":0,\"ticks\":\"\"}},\"colorscale\":{\"diverging\":[[0,\"#8e0152\"],[0.1,\"#c51b7d\"],[0.2,\"#de77ae\"],[0.3,\"#f1b6da\"],[0.4,\"#fde0ef\"],[0.5,\"#f7f7f7\"],[0.6,\"#e6f5d0\"],[0.7,\"#b8e186\"],[0.8,\"#7fbc41\"],[0.9,\"#4d9221\"],[1,\"#276419\"]],\"sequential\":[[0.0,\"#0d0887\"],[0.1111111111111111,\"#46039f\"],[0.2222222222222222,\"#7201a8\"],[0.3333333333333333,\"#9c179e\"],[0.4444444444444444,\"#bd3786\"],[0.5555555555555556,\"#d8576b\"],[0.6666666666666666,\"#ed7953\"],[0.7777777777777778,\"#fb9f3a\"],[0.8888888888888888,\"#fdca26\"],[1.0,\"#f0f921\"]],\"sequentialminus\":[[0.0,\"#0d0887\"],[0.1111111111111111,\"#46039f\"],[0.2222222222222222,\"#7201a8\"],[0.3333333333333333,\"#9c179e\"],[0.4444444444444444,\"#bd3786\"],[0.5555555555555556,\"#d8576b\"],[0.6666666666666666,\"#ed7953\"],[0.7777777777777778,\"#fb9f3a\"],[0.8888888888888888,\"#fdca26\"],[1.0,\"#f0f921\"]]},\"colorway\":[\"#636efa\",\"#EF553B\",\"#00cc96\",\"#ab63fa\",\"#FFA15A\",\"#19d3f3\",\"#FF6692\",\"#B6E880\",\"#FF97FF\",\"#FECB52\"],\"font\":{\"color\":\"#2a3f5f\"},\"geo\":{\"bgcolor\":\"white\",\"lakecolor\":\"white\",\"landcolor\":\"#E5ECF6\",\"showlakes\":true,\"showland\":true,\"subunitcolor\":\"white\"},\"hoverlabel\":{\"align\":\"left\"},\"hovermode\":\"closest\",\"mapbox\":{\"style\":\"light\"},\"paper_bgcolor\":\"white\",\"plot_bgcolor\":\"#E5ECF6\",\"polar\":{\"angularaxis\":{\"gridcolor\":\"white\",\"linecolor\":\"white\",\"ticks\":\"\"},\"bgcolor\":\"#E5ECF6\",\"radialaxis\":{\"gridcolor\":\"white\",\"linecolor\":\"white\",\"ticks\":\"\"}},\"scene\":{\"xaxis\":{\"backgroundcolor\":\"#E5ECF6\",\"gridcolor\":\"white\",\"gridwidth\":2,\"linecolor\":\"white\",\"showbackground\":true,\"ticks\":\"\",\"zerolinecolor\":\"white\"},\"yaxis\":{\"backgroundcolor\":\"#E5ECF6\",\"gridcolor\":\"white\",\"gridwidth\":2,\"linecolor\":\"white\",\"showbackground\":true,\"ticks\":\"\",\"zerolinecolor\":\"white\"},\"zaxis\":{\"backgroundcolor\":\"#E5ECF6\",\"gridcolor\":\"white\",\"gridwidth\":2,\"linecolor\":\"white\",\"showbackground\":true,\"ticks\":\"\",\"zerolinecolor\":\"white\"}},\"shapedefaults\":{\"line\":{\"color\":\"#2a3f5f\"}},\"ternary\":{\"aaxis\":{\"gridcolor\":\"white\",\"linecolor\":\"white\",\"ticks\":\"\"},\"baxis\":{\"gridcolor\":\"white\",\"linecolor\":\"white\",\"ticks\":\"\"},\"bgcolor\":\"#E5ECF6\",\"caxis\":{\"gridcolor\":\"white\",\"linecolor\":\"white\",\"ticks\":\"\"}},\"title\":{\"x\":0.05},\"xaxis\":{\"automargin\":true,\"gridcolor\":\"white\",\"linecolor\":\"white\",\"ticks\":\"\",\"title\":{\"standoff\":15},\"zerolinecolor\":\"white\",\"zerolinewidth\":2},\"yaxis\":{\"automargin\":true,\"gridcolor\":\"white\",\"linecolor\":\"white\",\"ticks\":\"\",\"title\":{\"standoff\":15},\"zerolinecolor\":\"white\",\"zerolinewidth\":2}}},\"title\":{\"text\":\"3D Customer Segmentation\"}},                        {\"responsive\": true}                    ).then(function(){\n",
       "                            \n",
       "var gd = document.getElementById('65a3f2fe-216b-410c-bcb8-6c501c6906bd');\n",
       "var x = new MutationObserver(function (mutations, observer) {{\n",
       "        var display = window.getComputedStyle(gd).display;\n",
       "        if (!display || display === 'none') {{\n",
       "            console.log([gd, 'removed!']);\n",
       "            Plotly.purge(gd);\n",
       "            observer.disconnect();\n",
       "        }}\n",
       "}});\n",
       "\n",
       "// Listen for the removal of the full notebook cells\n",
       "var notebookContainer = gd.closest('#notebook-container');\n",
       "if (notebookContainer) {{\n",
       "    x.observe(notebookContainer, {childList: true});\n",
       "}}\n",
       "\n",
       "// Listen for the clearing of the current output cell\n",
       "var outputEl = gd.closest('.output');\n",
       "if (outputEl) {{\n",
       "    x.observe(outputEl, {childList: true});\n",
       "}}\n",
       "\n",
       "                        })                };                });            </script>        </div>"
      ]
     },
     "metadata": {},
     "output_type": "display_data"
    }
   ],
   "source": [
    "\n",
    "fig = go.Figure()\n",
    "traces = []\n",
    "\n",
    "for clusterid in df['Cluster'].unique():\n",
    "    X = df.loc[df['Cluster'] == clusterid, 'Income'].values\n",
    "    y = df.loc[df['Cluster'] == clusterid, 'Total_Spent'].values\n",
    "    z = df.loc[df['Cluster'] == clusterid, 'Total_Quantity'].values\n",
    "    \n",
    "    tempTrace = go.Scatter3d(name = str(clusterid), x = X, y = y, z = z, mode = 'markers', marker = dict(size = 2))\n",
    "    traces.append(tempTrace)\n",
    "    \n",
    "for trace in traces:\n",
    "    fig.add_trace(trace)\n",
    "\n",
    "fig.update_layout(\n",
    "    title=\"3D Customer Segmentation\",\n",
    "\n",
    "    font=dict(\n",
    "        family=\"Roboto\",\n",
    "        size=10,\n",
    "        color=\"RebeccaPurple\"\n",
    "    )\n",
    ")\n",
    "\n",
    "\n",
    "fig.update_layout(\n",
    "    scene = dict(\n",
    "                    xaxis = dict(nticks=4, range=[0,150000],),\n",
    "                     yaxis = dict(nticks=4, range=[0,2500],),\n",
    "                     zaxis = dict(nticks=4, range=[0,40],),\n",
    "                    xaxis_title='Income',\n",
    "                    yaxis_title='Total Amount Spent',\n",
    "                    zaxis_title='Total Quantity Purchased')\n",
    ")\n",
    "fig.show()"
   ]
  },
  {
   "cell_type": "code",
   "execution_count": null,
   "id": "640a94ab",
   "metadata": {
    "papermill": {
     "duration": 0.04589,
     "end_time": "2021-09-27T06:35:46.206002",
     "exception": false,
     "start_time": "2021-09-27T06:35:46.160112",
     "status": "completed"
    },
    "tags": []
   },
   "outputs": [],
   "source": []
  },
  {
   "cell_type": "code",
   "execution_count": null,
   "id": "513ac968",
   "metadata": {
    "papermill": {
     "duration": 0.047235,
     "end_time": "2021-09-27T06:35:46.299908",
     "exception": false,
     "start_time": "2021-09-27T06:35:46.252673",
     "status": "completed"
    },
    "tags": []
   },
   "outputs": [],
   "source": []
  },
  {
   "cell_type": "code",
   "execution_count": null,
   "id": "7be27e84",
   "metadata": {
    "papermill": {
     "duration": 0.046717,
     "end_time": "2021-09-27T06:35:46.394260",
     "exception": false,
     "start_time": "2021-09-27T06:35:46.347543",
     "status": "completed"
    },
    "tags": []
   },
   "outputs": [],
   "source": []
  }
 ],
 "metadata": {
  "kernelspec": {
   "display_name": "Python 3",
   "language": "python",
   "name": "python3"
  },
  "language_info": {
   "codemirror_mode": {
    "name": "ipython",
    "version": 3
   },
   "file_extension": ".py",
   "mimetype": "text/x-python",
   "name": "python",
   "nbconvert_exporter": "python",
   "pygments_lexer": "ipython3",
   "version": "3.7.10"
  },
  "papermill": {
   "default_parameters": {},
   "duration": 17.794439,
   "end_time": "2021-09-27T06:35:47.253392",
   "environment_variables": {},
   "exception": null,
   "input_path": "__notebook__.ipynb",
   "output_path": "__notebook__.ipynb",
   "parameters": {},
   "start_time": "2021-09-27T06:35:29.458953",
   "version": "2.3.3"
  }
 },
 "nbformat": 4,
 "nbformat_minor": 5
}
